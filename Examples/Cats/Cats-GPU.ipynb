{
 "cells": [
  {
   "cell_type": "code",
   "execution_count": 1,
   "metadata": {},
   "outputs": [],
   "source": [
    "using HDF5\n",
    "using CuArrays, CUDAnative, CUDAdrv\n",
    "using Statistics\n",
    "using BenchmarkTools\n",
    "using Test"
   ]
  },
  {
   "cell_type": "code",
   "execution_count": 2,
   "metadata": {
    "scrolled": true
   },
   "outputs": [
    {
     "data": {
      "text/plain": [
       "predict (generic function with 1 method)"
      ]
     },
     "execution_count": 2,
     "metadata": {},
     "output_type": "execute_result"
    }
   ],
   "source": [
    "include(\"../../NeuralNetworkGPU.jl\")"
   ]
  },
  {
   "cell_type": "code",
   "execution_count": 3,
   "metadata": {},
   "outputs": [
    {
     "data": {
      "text/plain": [
       "\"datasets/test_catvnoncat.h5\""
      ]
     },
     "execution_count": 3,
     "metadata": {},
     "output_type": "execute_result"
    }
   ],
   "source": [
    "TRAIN_DATA_PATH=\"datasets/train_catvnoncat.h5\"\n",
    "TEST_DATA_PATH=\"datasets/test_catvnoncat.h5\""
   ]
  },
  {
   "cell_type": "code",
   "execution_count": 4,
   "metadata": {
    "scrolled": true
   },
   "outputs": [],
   "source": [
    "train_data_x_orig = h5read(TRAIN_DATA_PATH, \"train_set_x\")\n",
    "train_data_y_orig = h5read(TRAIN_DATA_PATH, \"train_set_y\")\n",
    "print()"
   ]
  },
  {
   "cell_type": "code",
   "execution_count": 5,
   "metadata": {
    "scrolled": true
   },
   "outputs": [],
   "source": [
    "test_data_x_orig = h5read(TEST_DATA_PATH, \"test_set_x\")\n",
    "test_data_y_orig = h5read(TEST_DATA_PATH, \"test_set_y\")\n",
    "print()"
   ]
  },
  {
   "cell_type": "code",
   "execution_count": 6,
   "metadata": {},
   "outputs": [
    {
     "data": {
      "text/plain": [
       "2-element Array{String,1}:\n",
       " \"non-cat\"\n",
       " \"cat\"    "
      ]
     },
     "execution_count": 6,
     "metadata": {},
     "output_type": "execute_result"
    }
   ],
   "source": [
    "classes = h5read(TEST_DATA_PATH, \"list_classes\")"
   ]
  },
  {
   "cell_type": "code",
   "execution_count": 7,
   "metadata": {},
   "outputs": [
    {
     "data": {
      "text/plain": [
       "1×209 Array{Int64,2}:\n",
       " 0  0  1  0  0  0  0  1  0  0  0  1  0  …  1  0  0  1  0  0  0  0  0  0  0  0"
      ]
     },
     "execution_count": 7,
     "metadata": {},
     "output_type": "execute_result"
    }
   ],
   "source": [
    "train_data_y_orig = reshape(train_data_y_orig, (1, size(train_data_y_orig)[1]))"
   ]
  },
  {
   "cell_type": "code",
   "execution_count": 8,
   "metadata": {},
   "outputs": [
    {
     "data": {
      "text/plain": [
       "1×50 Array{Int64,2}:\n",
       " 1  1  1  1  1  0  1  1  1  1  1  1  1  …  0  0  1  1  1  0  0  0  1  1  1  0"
      ]
     },
     "execution_count": 8,
     "metadata": {},
     "output_type": "execute_result"
    }
   ],
   "source": [
    "test_data_y_orig = reshape(test_data_y_orig, (1, size(test_data_y_orig)[1]))"
   ]
  },
  {
   "cell_type": "code",
   "execution_count": 9,
   "metadata": {},
   "outputs": [
    {
     "data": {
      "text/plain": [
       "reshape_image_array_reverse (generic function with 1 method)"
      ]
     },
     "execution_count": 9,
     "metadata": {},
     "output_type": "execute_result"
    }
   ],
   "source": [
    "function reshape_image_array(image_array::Array{UInt8,4})\n",
    "    return reshape(image_array, :, size(image_array)[4])\n",
    "end\n",
    "function reshape_image_array_reverse(image_array::Array{UInt8,2})\n",
    "    return reshape(image_array, 64, 64, 3, :)\n",
    "end"
   ]
  },
  {
   "cell_type": "code",
   "execution_count": 10,
   "metadata": {},
   "outputs": [
    {
     "data": {
      "text/plain": [
       "12288×50 CuArray{Float32,2,Nothing}:\n",
       " 0.619608  0.45098   1.0       0.996078  …  0.160784  0.0705882  0.521569 \n",
       " 0.407843  0.431373  0.992157  0.996078     0.184314  0.0705882  0.639216 \n",
       " 0.32549   0.435294  0.996078  0.952941     0.329412  0.0627451  0.294118 \n",
       " 0.631373  0.537255  1.0       1.0          0.282353  0.137255   0.384314 \n",
       " 0.415686  0.505882  0.992157  1.0          0.305882  0.141176   0.470588 \n",
       " 0.333333  0.505882  0.996078  0.964706  …  0.439216  0.121569   0.172549 \n",
       " 0.635294  0.607843  1.0       1.0          0.403922  0.211765   0.423529 \n",
       " 0.419608  0.572549  0.992157  1.0          0.4       0.223529   0.517647 \n",
       " 0.329412  0.568627  0.996078  0.992157     0.486275  0.203922   0.184314 \n",
       " 0.639216  0.623529  1.0       1.0          0.466667  0.313726   0.462745 \n",
       " 0.419608  0.596078  0.992157  1.0       …  0.447059  0.345098   0.576471 \n",
       " 0.329412  0.572549  0.996078  1.0          0.505882  0.313726   0.223529 \n",
       " 0.639216  0.607843  1.0       1.0          0.529412  0.407843   0.403922 \n",
       " ⋮                                       ⋱                                \n",
       " 0.647059  0.870588  0.490196  0.560784     0.509804  0.203922   0.0156863\n",
       " 0.47451   0.882353  0.423529  0.368627     0.419608  0.219608   0.109804 \n",
       " 0.407843  0.898039  0.458824  0.180392     0.482353  0.2        0.0196078\n",
       " 0.647059  0.831373  0.576471  0.498039     0.603922  0.188235   0.0313726\n",
       " 0.478431  0.843137  0.470588  0.317647  …  0.435294  0.196078   0.129412 \n",
       " 0.411765  0.862745  0.490196  0.156863     0.364706  0.172549   0.0470588\n",
       " 0.662745  0.752941  0.556863  0.470588     0.690196  0.403922   0.0509804\n",
       " 0.494118  0.768627  0.431373  0.301961     0.517647  0.403922   0.137255 \n",
       " 0.427451  0.796078  0.462745  0.14902      0.407843  0.34902    0.0705882\n",
       " 0.678431  0.670588  0.521569  0.505882  …  0.717647  0.564706   0.0196078\n",
       " 0.501961  0.690196  0.396078  0.329412     0.552941  0.537255   0.0862745\n",
       " 0.431373  0.729412  0.47451   0.168627     0.454902  0.423529   0.0196078"
      ]
     },
     "execution_count": 10,
     "metadata": {},
     "output_type": "execute_result"
    }
   ],
   "source": [
    "test_data_x = reshape_image_array(test_data_x_orig) ./ 255\n",
    "test_data_x = CuArray{Float32, 2}(test_data_x)"
   ]
  },
  {
   "cell_type": "code",
   "execution_count": 11,
   "metadata": {},
   "outputs": [
    {
     "data": {
      "text/plain": [
       "12288×209 CuArray{Float32,2,Nothing}:\n",
       " 0.0666667  0.768627  0.321569  0.00392157  …  0.560784  0.0862745  0.0313726\n",
       " 0.121569   0.752941  0.278431  0.0862745      0.607843  0.0941176  0.109804 \n",
       " 0.219608   0.745098  0.266667  0.00784314     0.647059  0.0901961  0.207843 \n",
       " 0.0862745  0.756863  0.34902   0.00392157     0.721569  0.0901961  0.054902 \n",
       " 0.129412   0.729412  0.32549   0.054902       0.745098  0.0980392  0.129412 \n",
       " 0.231373   0.713726  0.32549   0.00784314  …  0.776471  0.0941176  0.227451 \n",
       " 0.0980392  0.737255  0.392157  0.00392157     0.556863  0.0941176  0.0745098\n",
       " 0.137255   0.701961  0.384314  0.0509804      0.584314  0.101961   0.137255 \n",
       " 0.243137   0.682353  0.407843  0.00392157     0.607843  0.0980392  0.239216 \n",
       " 0.0980392  0.835294  0.415686  0.0156863      0.529412  0.0941176  0.0745098\n",
       " 0.137255   0.760784  0.411765  0.113725    …  0.580392  0.101961   0.137255 \n",
       " 0.243137   0.756863  0.454902  0.0117647      0.596078  0.105882   0.239216 \n",
       " 0.105882   0.658824  0.462745  0.0392157      0.513726  0.117647   0.0627451\n",
       " ⋮                                          ⋱                                \n",
       " 0.0        0.32549   0.647059  0.054902       0.321569  0.0196078  0.0      \n",
       " 0.0        0.321569  0.662745  0.329412       0.415686  0.0156863  0.0      \n",
       " 0.0        0.313726  0.670588  0.105882       0.584314  0.0        0.0      \n",
       " 0.0        0.32549   0.603922  0.113725       0.317647  0.0156863  0.0      \n",
       " 0.0        0.321569  0.611765  0.345098    …  0.415686  0.0196078  0.0      \n",
       " 0.0        0.317647  0.627451  0.196078       0.588235  0.0        0.0      \n",
       " 0.0        0.329412  0.572549  0.054902       0.333333  0.0156863  0.0      \n",
       " 0.0        0.321569  0.580392  0.239216       0.423529  0.0196078  0.0      \n",
       " 0.0        0.321569  0.596078  0.101961       0.592157  0.0        0.0      \n",
       " 0.0        0.321569  0.541176  0.00784314  …  0.333333  0.0156863  0.0      \n",
       " 0.0        0.313726  0.552941  0.231373       0.419608  0.0196078  0.0      \n",
       " 0.0        0.317647  0.556863  0.00784314     0.584314  0.0        0.0      "
      ]
     },
     "execution_count": 11,
     "metadata": {},
     "output_type": "execute_result"
    }
   ],
   "source": [
    "train_data_x = reshape_image_array(train_data_x_orig) ./ 255\n",
    "train_data_x = CuArray{Float32, 2}(train_data_x)"
   ]
  },
  {
   "cell_type": "code",
   "execution_count": 12,
   "metadata": {},
   "outputs": [
    {
     "name": "stdout",
     "output_type": "stream",
     "text": [
      "Effective GPU memory usage: 17.50% (1.050 GiB/6.000 GiB)\n",
      "CuArrays GPU memory usage: 20.000 MiB\n",
      "BinnedPool usage: 20.000 MiB (20.000 MiB allocated, 0 bytes cached)\n",
      "BinnedPool efficiency: 60.70% (12.141 MiB requested, 20.000 MiB allocated)\n"
     ]
    }
   ],
   "source": [
    "CuArrays.memory_status()"
   ]
  },
  {
   "cell_type": "code",
   "execution_count": 13,
   "metadata": {},
   "outputs": [
    {
     "data": {
      "text/plain": [
       "3-element Array{Int64,1}:\n",
       " 12288\n",
       "     7\n",
       "     1"
      ]
     },
     "execution_count": 13,
     "metadata": {},
     "output_type": "execute_result"
    }
   ],
   "source": [
    "layer_dims = Array([12288, 7, 1])"
   ]
  },
  {
   "cell_type": "code",
   "execution_count": 15,
   "metadata": {
    "scrolled": true
   },
   "outputs": [
    {
     "name": "stdout",
     "output_type": "stream",
     "text": [
      "Cost at iteration 100 is 0.5816171\n",
      "Cost at iteration 200 is 0.51456255\n",
      "Cost at iteration 300 is 0.4448268\n",
      "Cost at iteration 400 is 0.3819224\n",
      "Cost at iteration 500 is 0.39389595\n",
      "Cost at iteration 600 is 0.35948426\n",
      "Cost at iteration 700 is 0.32709426\n",
      "Cost at iteration 800 is 0.29524958\n",
      "Cost at iteration 900 is 0.26424006\n",
      "Cost at iteration 1000 is 0.22269034\n",
      "Cost at iteration 1100 is 0.15306877\n",
      "Cost at iteration 1200 is 0.27600452\n",
      "Cost at iteration 1300 is 0.095913894\n",
      "Cost at iteration 1400 is 0.080693506\n",
      "Cost at iteration 1500 is 0.06868048\n",
      "Cost at iteration 1600 is 0.059079718\n",
      "Cost at iteration 1700 is 0.051345762\n",
      "Cost at iteration 1800 is 0.045038708\n",
      "Cost at iteration 1900 is 0.039841387\n",
      "Cost at iteration 2000 is 0.03551355\n",
      "Cost at iteration 2100 is 0.031871565\n",
      "Cost at iteration 2200 is 0.028786812\n",
      "Cost at iteration 2300 is 0.026154319\n",
      "Cost at iteration 2400 is 0.023884112\n",
      "Cost at iteration 2500 is 0.021920113\n",
      "Cost at iteration 2600 is 0.020203924\n",
      "Cost at iteration 2700 is 0.018698698\n",
      "Cost at iteration 2800 is 0.017374773\n",
      "Cost at iteration 2900 is 0.016196718\n",
      "Cost at iteration 3000 is 0.01514889\n"
     ]
    },
    {
     "data": {
      "text/plain": [
       "(Dict{String,CuArray{Float32,N,P} where P where N}(\"W2\" => [0.689119 0.5266208 … 0.9174756 0.7191226],\"W1\" => [0.008565683 0.0077575734 … 0.000832319 0.0034043246; -0.02076472 0.0035111152 … -0.010130825 0.013295293; … ; 0.004605219 -0.0029152175 … 0.002857751 0.002700298; 0.0018913064 -0.008112621 … 0.0022392953 0.03170336],\"b2\" => [-0.019859383],\"b1\" => [-0.0004114479; -0.0008891643; … ; -0.0015644903; -0.0022712783]), (relu, sigmoid))"
      ]
     },
     "execution_count": 15,
     "metadata": {},
     "output_type": "execute_result"
    }
   ],
   "source": [
    "parameters, activations = neural_network_dense(train_data_x, train_data_y_orig, layer_dims, 3000, 0.0075)"
   ]
  },
  {
   "cell_type": "code",
   "execution_count": 16,
   "metadata": {},
   "outputs": [
    {
     "name": "stdout",
     "output_type": "stream",
     "text": [
      "Cost at iteration 100 is 0.52755755\n",
      "Cost at iteration 100 is 0.5076571\n",
      "Cost at iteration 100 is 0.5328277\n",
      "Cost at iteration 100 is 0.5458453\n",
      "Cost at iteration 100 is 0.55733985\n",
      "Cost at iteration 100 is 0.5410472\n",
      "Cost at iteration 100 is 0.5340075\n",
      "Cost at iteration 100 is 0.66955894\n",
      "Cost at iteration 100 is 0.575934\n",
      "Cost at iteration 100 is 0.53449607\n",
      "Cost at iteration 100 is 0.6043163\n",
      "Cost at iteration 100 is 0.53845406\n",
      "Cost at iteration 100 is 0.53691083\n",
      "Cost at iteration 100 is 0.5546509\n",
      "Cost at iteration 100 is 0.5764237\n",
      "Cost at iteration 100 is 0.6095794\n",
      "Cost at iteration 100 is 0.55004054\n",
      "Cost at iteration 100 is 0.5238911\n",
      "Cost at iteration 100 is 0.5643055\n",
      "Cost at iteration 100 is 0.54129964\n",
      "Cost at iteration 100 is 0.5547045\n",
      "Cost at iteration 100 is 0.51433074\n",
      "Cost at iteration 100 is 0.545058\n",
      "Cost at iteration 100 is 0.5783218\n",
      "Cost at iteration 100 is 0.5001445\n",
      "Cost at iteration 100 is 0.5469671\n",
      "Cost at iteration 100 is 0.537676\n",
      "Cost at iteration 100 is 0.50987905\n",
      "Cost at iteration 100 is 0.5439705\n",
      "Cost at iteration 100 is 0.56994176\n",
      "Cost at iteration 100 is 0.55057716\n",
      "Cost at iteration 100 is 0.5039484\n",
      "Cost at iteration 100 is 0.5481627\n",
      "Cost at iteration 100 is 0.51389265\n",
      "Cost at iteration 100 is 0.56859374\n",
      "Cost at iteration 100 is 0.58507633\n",
      "Cost at iteration 100 is 0.5350854\n",
      "Cost at iteration 100 is 0.5323602\n",
      "Cost at iteration 100 is 0.5793883\n",
      "Cost at iteration 100 is 0.5424138\n",
      "Cost at iteration 100 is 0.5835557\n",
      "Cost at iteration 100 is 0.5381967\n",
      "Cost at iteration 100 is 0.5925461\n",
      "Cost at iteration 100 is 0.5380646\n",
      "Cost at iteration 100 is 0.5441902\n",
      "Cost at iteration 100 is 0.55764973\n",
      "Cost at iteration 100 is 0.5475468\n",
      "Cost at iteration 100 is 0.55057603\n",
      "Cost at iteration 100 is 0.5113641\n",
      "Cost at iteration 100 is 0.5221642\n",
      "Cost at iteration 100 is 0.5232401\n",
      "Cost at iteration 100 is 0.56146425\n",
      "Cost at iteration 100 is 0.624861\n",
      "Cost at iteration 100 is 0.58232665\n",
      "Cost at iteration 100 is 0.6459352\n",
      "Cost at iteration 100 is 0.55012107\n",
      "  178.912 ms (173104 allocations: 139.46 MiB)\n"
     ]
    },
    {
     "data": {
      "text/plain": [
       "(Dict{String,CuArray{Float32,N,P} where P where N}(\"W2\" => [0.18218294 0.2734602 … 0.4839038 0.103254825],\"W1\" => [0.0020584152 0.0030009705 … -0.0012401458 -0.022073034; -0.0045128562 0.001017429 … 0.0003041255 0.011447717; … ; -0.0010683105 -0.0035073983 … -0.0031044902 0.011571417; -0.008762885 -0.008650047 … 0.0036444594 0.002323672],\"b2\" => [-0.015071838],\"b1\" => [-0.00069132744; -0.0007818891; … ; -0.00092582987; -0.0005512133]), (relu, sigmoid))"
      ]
     },
     "execution_count": 16,
     "metadata": {},
     "output_type": "execute_result"
    }
   ],
   "source": [
    "@btime neural_network_dense($train_data_x, $train_data_y_orig, $layer_dims, 100, 0.0075)"
   ]
  },
  {
   "cell_type": "code",
   "execution_count": 17,
   "metadata": {},
   "outputs": [
    {
     "name": "stdout",
     "output_type": "stream",
     "text": [
      "Accuracy is 100.0%\n"
     ]
    },
    {
     "name": "stderr",
     "output_type": "stream",
     "text": [
      "┌ Warning: Performing scalar operations on GPU arrays: This is very slow, consider disallowing these operations with `allowscalar(false)`\n",
      "└ @ GPUArrays C:\\Users\\SarnayakPC\\.julia\\packages\\GPUArrays\\1wgPO\\src\\indexing.jl:16\n"
     ]
    },
    {
     "data": {
      "text/plain": [
       "([0.0 0.0 … 0.0 0.0], 1.0)"
      ]
     },
     "execution_count": 17,
     "metadata": {},
     "output_type": "execute_result"
    }
   ],
   "source": [
    "# TODO: copy array to CPU while checking\n",
    "predicts, accuracy = predict(train_data_x, train_data_y_orig, parameters, activations)"
   ]
  },
  {
   "cell_type": "code",
   "execution_count": 18,
   "metadata": {},
   "outputs": [
    {
     "name": "stdout",
     "output_type": "stream",
     "text": [
      "Accuracy is 72.0%\n"
     ]
    },
    {
     "data": {
      "text/plain": [
       "([1.0 1.0 … 1.0 0.0], 0.72)"
      ]
     },
     "execution_count": 18,
     "metadata": {},
     "output_type": "execute_result"
    }
   ],
   "source": [
    "predicts, accuracy = predict(test_data_x, test_data_y_orig, parameters, activations)"
   ]
  },
  {
   "cell_type": "markdown",
   "metadata": {},
   "source": [
    "## Benchmarking"
   ]
  },
  {
   "cell_type": "code",
   "execution_count": 35,
   "metadata": {},
   "outputs": [
    {
     "name": "stdout",
     "output_type": "stream",
     "text": [
      "  550.300 μs (456 allocations: 1.33 MiB)\n"
     ]
    },
    {
     "data": {
      "text/plain": [
       "Dict{String,CuArray{Float32,N,P} where P where N} with 4 entries:\n",
       "  \"W2\" => Float32[0.216067 0.0322727 … -0.23179 -0.293956]\n",
       "  \"W1\" => Float32[-0.000723434 -0.000757421 … 0.00656295 0.00455156; -0.0060327…\n",
       "  \"b2\" => Float32[0.0]\n",
       "  \"b1\" => Float32[0.0; 0.0; … ; 0.0; 0.0]"
      ]
     },
     "execution_count": 35,
     "metadata": {},
     "output_type": "execute_result"
    }
   ],
   "source": [
    "@btime initialize_parameters($layer_dims)"
   ]
  },
  {
   "cell_type": "code",
   "execution_count": 19,
   "metadata": {},
   "outputs": [
    {
     "data": {
      "text/plain": [
       "Dict{String,CuArray{Float32,N,P} where P where N} with 4 entries:\n",
       "  \"W2\" => Float32[0.0563876 -0.25896 … 0.439327 -0.666383]\n",
       "  \"W1\" => Float32[0.00242421 -0.0123454 … 0.00564323 -0.00678052; -0.0089758 -0…\n",
       "  \"b2\" => Float32[0.0]\n",
       "  \"b1\" => Float32[0.0; 0.0; … ; 0.0; 0.0]"
      ]
     },
     "execution_count": 19,
     "metadata": {},
     "output_type": "execute_result"
    }
   ],
   "source": [
    "parameters = initialize_parameters(layer_dims)"
   ]
  },
  {
   "cell_type": "code",
   "execution_count": 21,
   "metadata": {},
   "outputs": [
    {
     "data": {
      "text/plain": [
       "(relu, sigmoid)"
      ]
     },
     "execution_count": 21,
     "metadata": {},
     "output_type": "execute_result"
    }
   ],
   "source": [
    "activations = (relu, sigmoid)"
   ]
  },
  {
   "cell_type": "code",
   "execution_count": 22,
   "metadata": {},
   "outputs": [
    {
     "data": {
      "text/plain": [
       "(Float32[0.5304502 0.5698232 … 0.50635797 0.5009594], Dict{String,CuArray{Float32,N,P} where P where N}(\"A2\" => [0.5304502 0.5698232 … 0.50635797 0.5009594],\"A1\" => [0.0 0.0 … 0.052209593 0.0; 0.06079917 0.14268337 … 0.23181947 0.13214186; … ; 0.31342584 0.69044226 … 0.1831061 0.072554246; 0.0 0.0 … 0.004285112 0.0],\"A0\" => [0.06666667 0.76862746 … 0.08627451 0.03137255; 0.12156863 0.7529412 … 0.09411765 0.10980392; … ; 0.0 0.3137255 … 0.019607844 0.0; 0.0 0.31764707 … 0.0 0.0],\"Z2\" => [0.121951744 0.2811298 … 0.025433421 0.0038376711],\"Z1\" => [-0.11178262 -0.2187877 … 0.052209593 -0.025232561; 0.06079917 0.14268337 … 0.23181947 0.13214186; … ; 0.31342584 0.69044226 … 0.1831061 0.072554246; -0.0073025897 -0.47237018 … 0.004285112 -0.2101373]))"
      ]
     },
     "execution_count": 22,
     "metadata": {},
     "output_type": "execute_result"
    }
   ],
   "source": [
    "y, caches = forward_prop(train_data_x, parameters, activations)"
   ]
  },
  {
   "cell_type": "code",
   "execution_count": 50,
   "metadata": {},
   "outputs": [
    {
     "name": "stdout",
     "output_type": "stream",
     "text": [
      "  61.801 μs (361 allocations: 15.42 KiB)\n"
     ]
    },
    {
     "data": {
      "text/plain": [
       "(Float32[0.4913846 0.48672014 … 0.507836 0.4977944], Dict{String,CuArray{Float32,N,P} where P where N}(\"A2\" => [0.4913846 0.48672014 … 0.507836 0.4977944],\"A1\" => [0.30746502 0.955148 … 0.07151897 0.17900674; 0.18975675 0.6897727 … 0.14214121 0.27145642; … ; 0.0 0.0 … 0.021278799 0.0; 0.03939242 0.15467197 … 0.046604116 0.17541131],\"A0\" => [0.06666667 0.76862746 … 0.08627451 0.03137255; 0.12156863 0.7529412 … 0.09411765 0.10980392; … ; 0.0 0.3137255 … 0.019607844 0.0; 0.0 0.31764707 … 0.0 0.0],\"Z2\" => [-0.034465075 -0.053131934 … 0.03134637 -0.008822517],\"Z1\" => [0.30746502 0.955148 … 0.07151897 0.17900674; 0.18975675 0.6897727 … 0.14214121 0.27145642; … ; -0.47897834 -0.7099412 … 0.021278799 -0.25276715; 0.03939242 0.15467197 … 0.046604116 0.17541131]))"
      ]
     },
     "execution_count": 50,
     "metadata": {},
     "output_type": "execute_result"
    }
   ],
   "source": [
    "@btime forward_prop($train_data_x, $parameters, $activations)"
   ]
  },
  {
   "cell_type": "code",
   "execution_count": 23,
   "metadata": {},
   "outputs": [
    {
     "data": {
      "text/plain": [
       "0.70694107f0"
      ]
     },
     "execution_count": 23,
     "metadata": {},
     "output_type": "execute_result"
    }
   ],
   "source": [
    "y_orig = CuArray{Float32, 2}(train_data_y_orig)\n",
    "cost = cost_binary(y_orig, y)"
   ]
  },
  {
   "cell_type": "code",
   "execution_count": 24,
   "metadata": {},
   "outputs": [
    {
     "name": "stdout",
     "output_type": "stream",
     "text": [
      "  109.300 μs (104 allocations: 6.97 KiB)\n"
     ]
    },
    {
     "data": {
      "text/plain": [
       "0.70694107f0"
      ]
     },
     "execution_count": 24,
     "metadata": {},
     "output_type": "execute_result"
    }
   ],
   "source": [
    "@btime CuArrays.@sync cost_binary($y_orig, $y)"
   ]
  },
  {
   "cell_type": "code",
   "execution_count": 30,
   "metadata": {},
   "outputs": [
    {
     "data": {
      "text/plain": [
       "bin_loss (generic function with 1 method)"
      ]
     },
     "execution_count": 30,
     "metadata": {},
     "output_type": "execute_result"
    }
   ],
   "source": [
    "# Check the time taken in computing only the vector part of binary cost (without sum)\n",
    "bin_loss(Y, Ŷ) = CuArrays.@sync Y .* log.(Ŷ) .+ (1 .- Y) .* log.(1 .- Ŷ)"
   ]
  },
  {
   "cell_type": "code",
   "execution_count": 31,
   "metadata": {},
   "outputs": [
    {
     "data": {
      "text/plain": [
       "1×209 CuArray{Float32,2,Nothing}:\n",
       " -0.755981  -0.843559  -0.662115  …  -0.78873  -0.705945  -0.695068"
      ]
     },
     "execution_count": 31,
     "metadata": {},
     "output_type": "execute_result"
    }
   ],
   "source": [
    "bin_loss(y_orig, y)"
   ]
  },
  {
   "cell_type": "code",
   "execution_count": 32,
   "metadata": {},
   "outputs": [
    {
     "data": {
      "text/plain": [
       "BenchmarkTools.Trial: \n",
       "  memory estimate:  5.83 KiB\n",
       "  allocs estimate:  95\n",
       "  --------------\n",
       "  minimum time:     60.700 μs (0.00% GC)\n",
       "  median time:      87.800 μs (0.00% GC)\n",
       "  mean time:        95.031 μs (0.45% GC)\n",
       "  maximum time:     13.035 ms (32.50% GC)\n",
       "  --------------\n",
       "  samples:          10000\n",
       "  evals/sample:     1"
      ]
     },
     "execution_count": 32,
     "metadata": {},
     "output_type": "execute_result"
    }
   ],
   "source": [
    "@benchmark bin_loss($y_orig, $y)"
   ]
  },
  {
   "cell_type": "markdown",
   "metadata": {},
   "source": [
    "### Benchmark Backprop"
   ]
  },
  {
   "cell_type": "code",
   "execution_count": 50,
   "metadata": {},
   "outputs": [
    {
     "data": {
      "text/plain": [
       "Dict{String,CuArray{Float32,N,P} where P where N} with 4 entries:\n",
       "  \"dw1\" => Float32[0.00204557 0.00242011 … 0.00205558 0.00110376; -0.0133052 -0…\n",
       "  \"dw2\" => Float32[0.0155401 0.0583706 … 0.0687734 0.00538647]\n",
       "  \"db2\" => Float32[0.169959]\n",
       "  \"db1\" => Float32[0.00570629; -0.041131; … ; 0.0704166; -0.0231952]"
      ]
     },
     "execution_count": 50,
     "metadata": {},
     "output_type": "execute_result"
    }
   ],
   "source": [
    "activations_back = (relu_back, sigmoid_back)\n",
    "grads = backward_prop(y_orig, y, parameters, caches, layer_dims, activations_back)"
   ]
  },
  {
   "cell_type": "code",
   "execution_count": 51,
   "metadata": {},
   "outputs": [
    {
     "data": {
      "text/plain": [
       "BenchmarkTools.Trial: \n",
       "  memory estimate:  1.35 MiB\n",
       "  allocs estimate:  937\n",
       "  --------------\n",
       "  minimum time:     1.155 ms (0.00% GC)\n",
       "  median time:      1.245 ms (0.00% GC)\n",
       "  mean time:        1.403 ms (4.54% GC)\n",
       "  maximum time:     6.330 ms (67.70% GC)\n",
       "  --------------\n",
       "  samples:          3553\n",
       "  evals/sample:     1"
      ]
     },
     "execution_count": 51,
     "metadata": {},
     "output_type": "execute_result"
    }
   ],
   "source": [
    "@benchmark backward_prop($y_orig, $y, $parameters, $caches, $layer_dims, $activations_back)"
   ]
  },
  {
   "cell_type": "code",
   "execution_count": 36,
   "metadata": {},
   "outputs": [
    {
     "data": {
      "text/plain": [
       "last_da (generic function with 1 method)"
      ]
     },
     "execution_count": 36,
     "metadata": {},
     "output_type": "execute_result"
    }
   ],
   "source": [
    "last_da(Y, Ŷ) = CuArrays.@sync (.- Y ./ Ŷ .+ (1 .- Y) ./ (1 .- Ŷ))"
   ]
  },
  {
   "cell_type": "code",
   "execution_count": 37,
   "metadata": {},
   "outputs": [
    {
     "data": {
      "text/plain": [
       "1×209 CuArray{Float32,2,Nothing}:\n",
       " 2.1297  2.32463  -1.93889  2.08738  …  1.98281  2.2006  2.02576  2.00384"
      ]
     },
     "execution_count": 37,
     "metadata": {},
     "output_type": "execute_result"
    }
   ],
   "source": [
    "last_da(y_orig, y)"
   ]
  },
  {
   "cell_type": "code",
   "execution_count": 38,
   "metadata": {},
   "outputs": [
    {
     "data": {
      "text/plain": [
       "BenchmarkTools.Trial: \n",
       "  memory estimate:  6.16 KiB\n",
       "  allocs estimate:  96\n",
       "  --------------\n",
       "  minimum time:     65.500 μs (0.00% GC)\n",
       "  median time:      84.000 μs (0.00% GC)\n",
       "  mean time:        87.348 μs (0.50% GC)\n",
       "  maximum time:     11.569 ms (38.02% GC)\n",
       "  --------------\n",
       "  samples:          10000\n",
       "  evals/sample:     1"
      ]
     },
     "execution_count": 38,
     "metadata": {},
     "output_type": "execute_result"
    }
   ],
   "source": [
    "@benchmark last_da($y_orig, $y)"
   ]
  },
  {
   "cell_type": "code",
   "execution_count": 39,
   "metadata": {},
   "outputs": [
    {
     "data": {
      "text/plain": [
       "last_da_2 (generic function with 1 method)"
      ]
     },
     "execution_count": 39,
     "metadata": {},
     "output_type": "execute_result"
    }
   ],
   "source": [
    "# Check how much more time it takes to check length, check NaNs, etc. Result: not much\n",
    "function last_da_2(y_orig, y)\n",
    "    CuArrays.@sync begin\n",
    "        @assert length(y_orig) == length(y)\n",
    "        dA = last_da(y_orig, y)\n",
    "        if all(isnan.(dA))\n",
    "            println(\"dA was NaN!\")\n",
    "            dA = randn(Float32)\n",
    "        end\n",
    "    end\n",
    "    return dA\n",
    "end"
   ]
  },
  {
   "cell_type": "code",
   "execution_count": 40,
   "metadata": {},
   "outputs": [
    {
     "data": {
      "text/plain": [
       "1×209 CuArray{Float32,2,Nothing}:\n",
       " 2.1297  2.32463  -1.93889  2.08738  …  1.98281  2.2006  2.02576  2.00384"
      ]
     },
     "execution_count": 40,
     "metadata": {},
     "output_type": "execute_result"
    }
   ],
   "source": [
    "last_da_2(y_orig, y)"
   ]
  },
  {
   "cell_type": "code",
   "execution_count": 41,
   "metadata": {},
   "outputs": [
    {
     "data": {
      "text/plain": [
       "BenchmarkTools.Trial: \n",
       "  memory estimate:  6.16 KiB\n",
       "  allocs estimate:  96\n",
       "  --------------\n",
       "  minimum time:     66.300 μs (0.00% GC)\n",
       "  median time:      84.500 μs (0.00% GC)\n",
       "  mean time:        88.526 μs (0.53% GC)\n",
       "  maximum time:     12.236 ms (38.43% GC)\n",
       "  --------------\n",
       "  samples:          10000\n",
       "  evals/sample:     1"
      ]
     },
     "execution_count": 41,
     "metadata": {},
     "output_type": "execute_result"
    }
   ],
   "source": [
    "@benchmark last_da($y_orig, $y)"
   ]
  },
  {
   "cell_type": "code",
   "execution_count": 42,
   "metadata": {},
   "outputs": [
    {
     "data": {
      "text/plain": [
       "db_calc (generic function with 1 method)"
      ]
     },
     "execution_count": 42,
     "metadata": {},
     "output_type": "execute_result"
    }
   ],
   "source": [
    "# Check each step of back prop\n",
    "dZ_calc(dA, Z, activation) = CuArrays.@sync dA .* activation.(Z)\n",
    "dw_calc(dZ, A_prev, m) = CuArrays.@sync 1/m .* (dZ * transpose(A_prev))\n",
    "db_calc(dZ, m) = CuArrays.@sync 1/m .* sum(dZ, dims=2)"
   ]
  },
  {
   "cell_type": "code",
   "execution_count": 43,
   "metadata": {},
   "outputs": [
    {
     "data": {
      "text/plain": [
       "1×1 CuArray{Float64,2,Nothing}:\n",
       " 0.16995878082713442"
      ]
     },
     "execution_count": 43,
     "metadata": {},
     "output_type": "execute_result"
    }
   ],
   "source": [
    "m = size(y)[2]\n",
    "dA = last_da_2(y_orig, y)\n",
    "dZ = dZ_calc(dA, caches[\"Z2\"], sigmoid_back)\n",
    "dw = dw_calc(dZ, caches[\"A1\"], m)\n",
    "db = db_calc(dZ, m)"
   ]
  },
  {
   "cell_type": "code",
   "execution_count": 44,
   "metadata": {},
   "outputs": [
    {
     "name": "stdout",
     "output_type": "stream",
     "text": [
      "  55.000 μs (78 allocations: 3.17 KiB)\n"
     ]
    },
    {
     "data": {
      "text/plain": [
       "1×209 CuArray{Float32,2,Nothing}:\n",
       " 0.53045  0.569823  -0.484241  0.520931  …  0.545579  0.506358  0.500959"
      ]
     },
     "execution_count": 44,
     "metadata": {},
     "output_type": "execute_result"
    }
   ],
   "source": [
    "@btime dZ_calc($dA, $caches[\"Z2\"], $sigmoid_back)"
   ]
  },
  {
   "cell_type": "code",
   "execution_count": 45,
   "metadata": {},
   "outputs": [
    {
     "name": "stdout",
     "output_type": "stream",
     "text": [
      "  75.900 μs (81 allocations: 3.02 KiB)\n"
     ]
    },
    {
     "data": {
      "text/plain": [
       "1×7 CuArray{Float64,2,Nothing}:\n",
       " 0.0155401  0.0583706  -0.000369596  …  0.00939854  0.0687734  0.00538647"
      ]
     },
     "execution_count": 45,
     "metadata": {},
     "output_type": "execute_result"
    }
   ],
   "source": [
    "@btime dw_calc($dZ, $caches[\"A1\"], $m)"
   ]
  },
  {
   "cell_type": "code",
   "execution_count": 46,
   "metadata": {},
   "outputs": [
    {
     "name": "stdout",
     "output_type": "stream",
     "text": [
      "  130.500 μs (165 allocations: 6.00 KiB)\n"
     ]
    },
    {
     "data": {
      "text/plain": [
       "1×1 CuArray{Float64,2,Nothing}:\n",
       " 0.16995878082713442"
      ]
     },
     "execution_count": 46,
     "metadata": {},
     "output_type": "execute_result"
    }
   ],
   "source": [
    "# this takes the longest time since it involves a sum\n",
    "@btime db_calc($dZ, m)"
   ]
  },
  {
   "cell_type": "code",
   "execution_count": 48,
   "metadata": {},
   "outputs": [
    {
     "name": "stdout",
     "output_type": "stream",
     "text": [
      "Effective GPU memory usage: 18.70% (1.122 GiB/6.000 GiB)\n",
      "CuArrays GPU memory usage: 22.052 MiB\n",
      "BinnedPool usage: 22.052 MiB (22.044 MiB allocated, 8.000 KiB cached)\n",
      "BinnedPool efficiency: 61.16% (13.486 MiB requested, 22.052 MiB allocated)\n"
     ]
    }
   ],
   "source": [
    "CuArrays.memory_status()"
   ]
  },
  {
   "cell_type": "code",
   "execution_count": 52,
   "metadata": {},
   "outputs": [
    {
     "data": {
      "text/plain": [
       "Dict{String,CuArray{Float32,N,P} where P where N} with 4 entries:\n",
       "  \"W2\" => Float32[0.0563876 -0.25896 … 0.439327 -0.666383]\n",
       "  \"W1\" => Float32[0.0024242 -0.0123454 … 0.00564323 -0.00678052; -0.00897579 -0…\n",
       "  \"b2\" => Float32[-1.69959e-7]\n",
       "  \"b1\" => Float32[-5.70629e-9; 4.1131e-8; … ; -7.04166e-8; 2.31952e-8]"
      ]
     },
     "execution_count": 52,
     "metadata": {},
     "output_type": "execute_result"
    }
   ],
   "source": [
    "learning_rate = 0.000001\n",
    "parameters = update_parameters(parameters, grads, layer_dims, learning_rate)"
   ]
  },
  {
   "cell_type": "code",
   "execution_count": 53,
   "metadata": {},
   "outputs": [
    {
     "data": {
      "text/plain": [
       "BenchmarkTools.Trial: \n",
       "  memory estimate:  12.83 KiB\n",
       "  allocs estimate:  333\n",
       "  --------------\n",
       "  minimum time:     97.600 μs (0.00% GC)\n",
       "  median time:      114.999 μs (0.00% GC)\n",
       "  mean time:        121.925 μs (1.16% GC)\n",
       "  maximum time:     8.119 ms (96.71% GC)\n",
       "  --------------\n",
       "  samples:          10000\n",
       "  evals/sample:     1"
      ]
     },
     "execution_count": 53,
     "metadata": {},
     "output_type": "execute_result"
    }
   ],
   "source": [
    "@benchmark update_parameters($parameters, $grads, $layer_dims, $learning_rate)"
   ]
  },
  {
   "cell_type": "markdown",
   "metadata": {},
   "source": [
    "## Custom update params kernel"
   ]
  },
  {
   "cell_type": "markdown",
   "metadata": {},
   "source": [
    "Note: this kernel has now been integrated into NeuralNetworkGPU.jl (the above results are from this kernel)"
   ]
  },
  {
   "cell_type": "code",
   "execution_count": 54,
   "metadata": {},
   "outputs": [
    {
     "data": {
      "text/plain": [
       "update_params_kernel! (generic function with 1 method)"
      ]
     },
     "execution_count": 54,
     "metadata": {},
     "output_type": "execute_result"
    }
   ],
   "source": [
    "function update_params_kernel!(params, lr, grads, m, n)\n",
    "    tx = (blockIdx().x-1) * blockDim().x + threadIdx().x\n",
    "    ty = (blockIdx().y-1) * blockDim().y + threadIdx().y\n",
    "#     stride_x = blockDim().x * gridDim().x\n",
    "#     stride_y = blockDim().y * gridDim().y\n",
    "#     @cuprintln(\"tx $tx, ty $ty\")\n",
    "    if tx <= m && ty <= n\n",
    "        @inbounds params[tx, ty] = params[tx, ty] - lr * grads[tx, ty]\n",
    "    end\n",
    "#     @cuprintln(\"done $tx $ty\")\n",
    "    return nothing\n",
    "end"
   ]
  },
  {
   "cell_type": "code",
   "execution_count": 55,
   "metadata": {},
   "outputs": [
    {
     "data": {
      "text/plain": [
       "((20, 10), (1, 1))"
      ]
     },
     "execution_count": 55,
     "metadata": {},
     "output_type": "execute_result"
    }
   ],
   "source": [
    "n = 10\n",
    "m = 20\n",
    "params_orig = rand(Float32, m, n)\n",
    "params_ = CuArray(params_orig)\n",
    "lr = 0.01f0\n",
    "grads_orig = rand(Float32, m, n) / 10\n",
    "grads_ = CuArray(grads_orig)\n",
    "# TILE_WIDTH = 2\n",
    "# TILE_HEIGHT = 2\n",
    "# blocks = (TILE_WIDTH,TILE_HEIGHT,1)\n",
    "# threads = (floor(Int,(n)/blocks[1]),\n",
    "#            floor(Int,(m)/blocks[2]),\n",
    "#            1)\n",
    "# threads = (m, n)\n",
    "function get_threads_blocks(m, n)\n",
    "    nthreads = 32\n",
    "    threads = (min(nthreads, m), min(nthreads, n))\n",
    "    blocks = (cld(m, threads[1]), cld(n, threads[2]))\n",
    "    return threads, blocks\n",
    "end\n",
    "threads, blocks = get_threads_blocks(m, n)"
   ]
  },
  {
   "cell_type": "code",
   "execution_count": 56,
   "metadata": {},
   "outputs": [
    {
     "name": "stdout",
     "output_type": "stream",
     "text": [
      "blocks = (1, 1)\n",
      "threads = (20, 10)\n",
      "(m, n) = (20, 10)\n"
     ]
    },
    {
     "data": {
      "text/plain": [
       "(20, 10)"
      ]
     },
     "execution_count": 56,
     "metadata": {},
     "output_type": "execute_result"
    }
   ],
   "source": [
    "# threads = (m, n)\n",
    "@show blocks\n",
    "@show threads\n",
    "@show (m, n)"
   ]
  },
  {
   "cell_type": "code",
   "execution_count": 57,
   "metadata": {},
   "outputs": [
    {
     "name": "stdout",
     "output_type": "stream",
     "text": [
      "Effective GPU memory usage: 18.73% (1.124 GiB/6.000 GiB)\n",
      "CuArrays GPU memory usage: 23.046 MiB\n",
      "BinnedPool usage: 23.046 MiB (22.546 MiB allocated, 512.004 KiB cached)\n",
      "BinnedPool efficiency: 59.95% (13.816 MiB requested, 23.046 MiB allocated)\n"
     ]
    }
   ],
   "source": [
    "CuArrays.memory_status()"
   ]
  },
  {
   "cell_type": "code",
   "execution_count": 58,
   "metadata": {
    "scrolled": true
   },
   "outputs": [],
   "source": [
    "CuArrays.@sync @cuda blocks=blocks threads=threads update_params_kernel!(params_, lr, grads_, m, n)"
   ]
  },
  {
   "cell_type": "code",
   "execution_count": 59,
   "metadata": {
    "scrolled": true
   },
   "outputs": [],
   "source": [
    "synchronize()"
   ]
  },
  {
   "cell_type": "code",
   "execution_count": 60,
   "metadata": {
    "scrolled": false
   },
   "outputs": [
    {
     "data": {
      "text/plain": [
       "20×10 Array{Float32,2}:\n",
       " 0.68085    0.238199   0.281587   …  0.682398   0.164228  0.484359\n",
       " 0.229621   0.0625436  0.61031       0.0308379  0.734675  0.415978\n",
       " 0.157855   0.697447   0.165305      0.818794   0.699523  0.642308\n",
       " 0.0752252  0.667901   0.0436002     0.993286   0.819965  0.266314\n",
       " 0.897432   0.148809   0.815467      0.61547    0.706034  0.81167 \n",
       " 0.952269   0.127945   0.901322   …  0.294449   0.829268  0.711455\n",
       " 0.759238   0.812402   0.0364975     0.753732   0.385238  0.706799\n",
       " 0.190172   0.157707   0.785977      0.568751   0.865423  0.770159\n",
       " 0.0350583  0.210437   0.322676      0.7267     0.904937  0.244403\n",
       " 0.0928938  0.358988   0.740606      0.318996   0.433109  0.985708\n",
       " 0.31892    0.236091   0.490164   …  0.377191   0.7841    0.764927\n",
       " 0.370984   0.878873   0.907469      0.726703   0.795002  0.571635\n",
       " 0.914992   0.418913   0.398795      0.0238975  0.134215  0.463585\n",
       " 0.882399   0.885625   0.686047      0.12916    0.402672  0.434983\n",
       " 0.307297   0.0693293  0.658459      0.0864256  0.998086  0.160886\n",
       " 0.934695   0.46828    0.874796   …  0.92129    0.307637  0.933332\n",
       " 0.555655   0.498534   0.0569058     0.491769   0.719807  0.290566\n",
       " 0.0822507  0.264506   0.448955      0.0735378  0.637996  0.987366\n",
       " 0.915574   0.873505   0.812461      0.263696   0.875012  0.561562\n",
       " 0.507089   0.451409   0.324864      0.792093   0.612045  0.696245"
      ]
     },
     "execution_count": 60,
     "metadata": {},
     "output_type": "execute_result"
    }
   ],
   "source": [
    "params_correct = params_orig - lr * grads_orig"
   ]
  },
  {
   "cell_type": "code",
   "execution_count": 61,
   "metadata": {},
   "outputs": [
    {
     "data": {
      "text/plain": [
       "20×10 CuArray{Float32,2,Nothing}:\n",
       " 0.68085    0.238199   0.281587   …  0.682398   0.164228  0.484359\n",
       " 0.229621   0.0625436  0.61031       0.0308379  0.734675  0.415978\n",
       " 0.157855   0.697447   0.165305      0.818794   0.699523  0.642308\n",
       " 0.0752252  0.667901   0.0436002     0.993286   0.819965  0.266314\n",
       " 0.897432   0.148809   0.815467      0.61547    0.706034  0.81167 \n",
       " 0.952269   0.127945   0.901322   …  0.294449   0.829268  0.711455\n",
       " 0.759238   0.812402   0.0364975     0.753732   0.385238  0.706799\n",
       " 0.190172   0.157707   0.785977      0.568751   0.865423  0.770159\n",
       " 0.0350583  0.210437   0.322676      0.7267     0.904937  0.244403\n",
       " 0.0928938  0.358988   0.740606      0.318996   0.433109  0.985708\n",
       " 0.31892    0.236091   0.490164   …  0.377191   0.7841    0.764927\n",
       " 0.370984   0.878873   0.907469      0.726703   0.795002  0.571635\n",
       " 0.914992   0.418913   0.398795      0.0238975  0.134215  0.463585\n",
       " 0.882399   0.885625   0.686047      0.12916    0.402672  0.434983\n",
       " 0.307297   0.0693293  0.658459      0.0864256  0.998086  0.160886\n",
       " 0.934695   0.46828    0.874796   …  0.92129    0.307637  0.933332\n",
       " 0.555655   0.498534   0.0569058     0.491769   0.719807  0.290566\n",
       " 0.0822507  0.264506   0.448955      0.0735378  0.637996  0.987366\n",
       " 0.915574   0.873505   0.812461      0.263696   0.875012  0.561562\n",
       " 0.507089   0.451409   0.324864      0.792093   0.612045  0.696245"
      ]
     },
     "execution_count": 61,
     "metadata": {},
     "output_type": "execute_result"
    }
   ],
   "source": [
    "params_"
   ]
  },
  {
   "cell_type": "code",
   "execution_count": 62,
   "metadata": {},
   "outputs": [
    {
     "data": {
      "text/plain": [
       "\u001b[32m\u001b[1mTest Passed\u001b[22m\u001b[39m"
      ]
     },
     "execution_count": 62,
     "metadata": {},
     "output_type": "execute_result"
    }
   ],
   "source": [
    "@test params_correct == params_"
   ]
  },
  {
   "cell_type": "code",
   "execution_count": 63,
   "metadata": {},
   "outputs": [
    {
     "data": {
      "text/plain": [
       "update_parameters_2 (generic function with 1 method)"
      ]
     },
     "execution_count": 63,
     "metadata": {},
     "output_type": "execute_result"
    }
   ],
   "source": [
    "# function split_two_equal(m, n)\n",
    "#     total = m + n\n",
    "#     if total % 2 == 0\n",
    "#         return total÷2, total÷2\n",
    "#     else\n",
    "#         return (total÷2), (total÷2)+1\n",
    "#     end\n",
    "# end\n",
    "\n",
    "# Custom function to calculate the number of threads and blocks for the kernel to execute on GPU\n",
    "function get_threads_blocks(m, n)\n",
    "    nthreads = 32     # There is a limit to the number of threads per block\n",
    "    threads = (min(nthreads, m), min(nthreads, n))\n",
    "    blocks = (cld(m, threads[1]), cld(n, threads[2]))\n",
    "    return threads, blocks\n",
    "end\n",
    "\n",
    "function update_parameters_2(parameters::Dict{String, CuArray{Float32}}, grads::Dict{String, CuArray{Float32}}, layer_dims::Array{Int}, learning_rate::Number)::Dict{String, CuArray{Float32}}\n",
    "    num_layers = length(layer_dims)\n",
    "    for l = 1:num_layers-1\n",
    "        m,n = size(parameters[string(\"W\", l)])\n",
    "        threads, blocks = get_threads_blocks(m, n)\n",
    "        @show (m, n)\n",
    "        @show threads\n",
    "        @show blocks\n",
    "        @cuda blocks=blocks threads=threads update_params_kernel!(parameters[string(\"W\", l)], learning_rate, grads[string(\"dw\", l)], m, n)\n",
    "        \n",
    "        m,n = size(parameters[string(\"b\", l)])\n",
    "        threads, blocks = get_threads_blocks(m, n)\n",
    "        @show threads\n",
    "        @show blocks\n",
    "        @cuda blocks=blocks threads=threads update_params_kernel!(parameters[string(\"b\", l)], learning_rate, grads[string(\"db\", l)], m, n)\n",
    "    end\n",
    "    synchronize()\n",
    "    return parameters\n",
    "end"
   ]
  },
  {
   "cell_type": "code",
   "execution_count": 64,
   "metadata": {},
   "outputs": [
    {
     "data": {
      "text/plain": [
       "Dict{String,CuArray{Float32,N,P} where P where N} with 4 entries:\n",
       "  \"W2\" => Float32[0.0633256 -0.336415 … 0.0218597 -0.802502]\n",
       "  \"W1\" => Float32[-0.0240596 0.0294514 … -0.00647336 -0.0627137; -0.0275193 0.0…\n",
       "  \"b2\" => Float32[0.0]\n",
       "  \"b1\" => Float32[0.0; 0.0; … ; 0.0; 0.0]"
      ]
     },
     "execution_count": 64,
     "metadata": {},
     "output_type": "execute_result"
    }
   ],
   "source": [
    "layer_dims = [1000, 5, 1]\n",
    "parameters = initialize_parameters(layer_dims)\n",
    "X = CuArrays.rand(1000, 100)\n",
    "activations = (relu, sigmoid)\n",
    "y, caches = forward_prop(X, parameters, activations)\n",
    "y_orig = CuArrays.rand(1, 100)\n",
    "cost = cost_binary(y_orig, y)\n",
    "grads = backward_prop(y_orig, y, parameters, caches, layer_dims, (relu_back, sigmoid_back))\n",
    "\n",
    "parameters2 = copy(parameters)\n",
    "parameters3 = copy(parameters)"
   ]
  },
  {
   "cell_type": "code",
   "execution_count": 70,
   "metadata": {},
   "outputs": [
    {
     "data": {
      "text/plain": [
       "Dict{String,CuArray{Float32,N,P} where P where N} with 4 entries:\n",
       "  \"W2\" => Float32[0.598389 22.8195 … 0.0218597 45.0686]\n",
       "  \"W1\" => Float32[0.421263 0.36523 … 0.185167 0.32061; -10.5397 -9.0468 … -8.93…\n",
       "  \"b2\" => Float32[82.1086]\n",
       "  \"b1\" => Float32[0.621215; -21.3741; … ; 0.0; -67.1714]"
      ]
     },
     "execution_count": 70,
     "metadata": {},
     "output_type": "execute_result"
    }
   ],
   "source": [
    "# This is the original update_params function from NeuralNetwork.jl (but running on GPU)\n",
    "update_parameters_old(parameters2, grads, layer_dims, 0.01)"
   ]
  },
  {
   "cell_type": "code",
   "execution_count": 66,
   "metadata": {},
   "outputs": [
    {
     "name": "stdout",
     "output_type": "stream",
     "text": [
      "(m, n) = (5, 1000)\n",
      "threads = (5, 32)\n",
      "blocks = (1, 32)\n",
      "threads = (5, 1)\n",
      "blocks = (1, 1)\n",
      "(m, n) = (1, 5)\n",
      "threads = (1, 5)\n",
      "blocks = (1, 1)\n",
      "threads = (1, 1)\n",
      "blocks = (1, 1)\n"
     ]
    },
    {
     "data": {
      "text/plain": [
       "Dict{String,CuArray{Float32,N,P} where P where N} with 4 entries:\n",
       "  \"W2\" => Float32[0.0633352 -0.336 … 0.0218597 -0.80168]\n",
       "  \"W1\" => Float32[-0.0240516 0.0294574 … -0.00646992 -0.0627068; -0.0277078 0.0…\n",
       "  \"b2\" => Float32[0.00147303]\n",
       "  \"b1\" => Float32[1.11371e-5; -0.000383232; … ; 0.0; -0.00120414]"
      ]
     },
     "execution_count": 66,
     "metadata": {},
     "output_type": "execute_result"
    }
   ],
   "source": [
    "update_parameters_2(parameters3, grads, layer_dims, 0.01)"
   ]
  },
  {
   "cell_type": "code",
   "execution_count": 67,
   "metadata": {},
   "outputs": [
    {
     "data": {
      "text/plain": [
       "\u001b[32m\u001b[1mTest Passed\u001b[22m\u001b[39m"
      ]
     },
     "execution_count": 67,
     "metadata": {},
     "output_type": "execute_result"
    }
   ],
   "source": [
    "@test parameters2 == parameters3"
   ]
  },
  {
   "cell_type": "code",
   "execution_count": 68,
   "metadata": {},
   "outputs": [
    {
     "name": "stdout",
     "output_type": "stream",
     "text": [
      "  449.200 μs (629 allocations: 104.55 KiB)\n"
     ]
    },
    {
     "data": {
      "text/plain": [
       "Dict{String,CuArray{Float32,N,P} where P where N} with 4 entries:\n",
       "  \"W2\" => Float32[0.238747 7.25572 … 0.0218597 14.2297]\n",
       "  \"W1\" => Float32[0.121933 0.139616 … 0.0563134 0.0629441; -3.47375 -2.95606 … …\n",
       "  \"b2\" => Float32[26.9247]\n",
       "  \"b1\" => Float32[0.203556; -7.00623; … ; 0.0; -22.0108]"
      ]
     },
     "execution_count": 68,
     "metadata": {},
     "output_type": "execute_result"
    }
   ],
   "source": [
    "@btime update_parameters_old($parameters3, $grads, $layer_dims, 0.01)"
   ]
  },
  {
   "cell_type": "code",
   "execution_count": 69,
   "metadata": {},
   "outputs": [
    {
     "name": "stdout",
     "output_type": "stream",
     "text": [
      "  83.299 μs (333 allocations: 12.83 KiB)\n"
     ]
    },
    {
     "data": {
      "text/plain": [
       "Dict{String,CuArray{Float32,N,P} where P where N} with 4 entries:\n",
       "  \"W2\" => Float32[0.59838 22.8191 … 0.0218597 45.0677]\n",
       "  \"W1\" => Float32[0.421255 0.365224 … 0.185163 0.320603; -10.5395 -9.04664 … -8…\n",
       "  \"b2\" => Float32[82.1071]\n",
       "  \"b1\" => Float32[0.621204; -21.3737; … ; 0.0; -67.1702]"
      ]
     },
     "execution_count": 69,
     "metadata": {},
     "output_type": "execute_result"
    }
   ],
   "source": [
    "@btime update_parameters($parameters2, $grads, $layer_dims, 0.01)"
   ]
  },
  {
   "cell_type": "code",
   "execution_count": 71,
   "metadata": {},
   "outputs": [],
   "source": [
    "# ^ That's a lot of speedup"
   ]
  }
 ],
 "metadata": {
  "kernelspec": {
   "display_name": "Julia 1.3.0",
   "language": "julia",
   "name": "julia-1.3"
  },
  "language_info": {
   "file_extension": ".jl",
   "mimetype": "application/julia",
   "name": "julia",
   "version": "1.3.0"
  }
 },
 "nbformat": 4,
 "nbformat_minor": 2
}
