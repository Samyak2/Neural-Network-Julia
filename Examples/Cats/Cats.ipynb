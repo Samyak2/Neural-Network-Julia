{
 "cells": [
  {
   "cell_type": "code",
   "execution_count": 1,
   "metadata": {},
   "outputs": [],
   "source": [
    "using HDF5"
   ]
  },
  {
   "cell_type": "code",
   "execution_count": 2,
   "metadata": {},
   "outputs": [
    {
     "data": {
      "text/plain": [
       "\"datasets/test_catvnoncat.h5\""
      ]
     },
     "execution_count": 2,
     "metadata": {},
     "output_type": "execute_result"
    }
   ],
   "source": [
    "TRAIN_DATA_PATH=\"datasets/train_catvnoncat.h5\"\n",
    "TEST_DATA_PATH=\"datasets/test_catvnoncat.h5\""
   ]
  },
  {
   "cell_type": "code",
   "execution_count": 3,
   "metadata": {
    "scrolled": true
   },
   "outputs": [
    {
     "data": {
      "text/plain": [
       "209-element Array{Int64,1}:\n",
       " 0\n",
       " 0\n",
       " 1\n",
       " 0\n",
       " 0\n",
       " 0\n",
       " 0\n",
       " 1\n",
       " 0\n",
       " 0\n",
       " 0\n",
       " 1\n",
       " 0\n",
       " ⋮\n",
       " 1\n",
       " 0\n",
       " 0\n",
       " 1\n",
       " 0\n",
       " 0\n",
       " 0\n",
       " 0\n",
       " 0\n",
       " 0\n",
       " 0\n",
       " 0"
      ]
     },
     "execution_count": 3,
     "metadata": {},
     "output_type": "execute_result"
    }
   ],
   "source": [
    "train_data_x_orig = h5read(TRAIN_DATA_PATH, \"train_set_x\")\n",
    "train_data_y_orig = h5read(TRAIN_DATA_PATH, \"train_set_y\")"
   ]
  },
  {
   "cell_type": "code",
   "execution_count": 4,
   "metadata": {
    "scrolled": true
   },
   "outputs": [
    {
     "data": {
      "text/plain": [
       "50-element Array{Int64,1}:\n",
       " 1\n",
       " 1\n",
       " 1\n",
       " 1\n",
       " 1\n",
       " 0\n",
       " 1\n",
       " 1\n",
       " 1\n",
       " 1\n",
       " 1\n",
       " 1\n",
       " 1\n",
       " ⋮\n",
       " 0\n",
       " 0\n",
       " 1\n",
       " 1\n",
       " 1\n",
       " 0\n",
       " 0\n",
       " 0\n",
       " 1\n",
       " 1\n",
       " 1\n",
       " 0"
      ]
     },
     "execution_count": 4,
     "metadata": {},
     "output_type": "execute_result"
    }
   ],
   "source": [
    "test_data_x_orig = h5read(TEST_DATA_PATH, \"test_set_x\")\n",
    "test_data_y_orig = h5read(TEST_DATA_PATH, \"test_set_y\")"
   ]
  },
  {
   "cell_type": "code",
   "execution_count": 5,
   "metadata": {},
   "outputs": [
    {
     "data": {
      "text/plain": [
       "2-element Array{String,1}:\n",
       " \"non-cat\"\n",
       " \"cat\"    "
      ]
     },
     "execution_count": 5,
     "metadata": {},
     "output_type": "execute_result"
    }
   ],
   "source": [
    "classes = h5read(TEST_DATA_PATH, \"list_classes\")"
   ]
  },
  {
   "cell_type": "code",
   "execution_count": 6,
   "metadata": {},
   "outputs": [
    {
     "data": {
      "text/plain": [
       "1×209 Array{Int64,2}:\n",
       " 0  0  1  0  0  0  0  1  0  0  0  1  0  …  1  0  0  1  0  0  0  0  0  0  0  0"
      ]
     },
     "execution_count": 6,
     "metadata": {},
     "output_type": "execute_result"
    }
   ],
   "source": [
    "train_data_y_orig = reshape(train_data_y_orig, (1, size(train_data_y_orig)[1]))"
   ]
  },
  {
   "cell_type": "code",
   "execution_count": 7,
   "metadata": {},
   "outputs": [
    {
     "data": {
      "text/plain": [
       "1×50 Array{Int64,2}:\n",
       " 1  1  1  1  1  0  1  1  1  1  1  1  1  …  0  0  1  1  1  0  0  0  1  1  1  0"
      ]
     },
     "execution_count": 7,
     "metadata": {},
     "output_type": "execute_result"
    }
   ],
   "source": [
    "test_data_y_orig = reshape(test_data_y_orig, (1, size(test_data_y_orig)[1]))"
   ]
  },
  {
   "cell_type": "code",
   "execution_count": 8,
   "metadata": {},
   "outputs": [
    {
     "data": {
      "text/plain": [
       "reshape_image_array_reverse (generic function with 1 method)"
      ]
     },
     "execution_count": 8,
     "metadata": {},
     "output_type": "execute_result"
    }
   ],
   "source": [
    "function reshape_image_array(image_array::Array{UInt8,4})\n",
    "    return reshape(image_array, :, size(image_array)[4])\n",
    "end\n",
    "function reshape_image_array_reverse(image_array::Array{UInt8,2})\n",
    "    return reshape(image_array, 64, 64, 3, :)\n",
    "end"
   ]
  },
  {
   "cell_type": "code",
   "execution_count": 9,
   "metadata": {},
   "outputs": [
    {
     "data": {
      "text/plain": [
       "12288×50 Array{Float32,2}:\n",
       " 0.619608  0.45098   1.0       0.996078  …  0.160784  0.0705882  0.521569 \n",
       " 0.407843  0.431373  0.992157  0.996078     0.184314  0.0705882  0.639216 \n",
       " 0.32549   0.435294  0.996078  0.952941     0.329412  0.0627451  0.294118 \n",
       " 0.631373  0.537255  1.0       1.0          0.282353  0.137255   0.384314 \n",
       " 0.415686  0.505882  0.992157  1.0          0.305882  0.141176   0.470588 \n",
       " 0.333333  0.505882  0.996078  0.964706  …  0.439216  0.121569   0.172549 \n",
       " 0.635294  0.607843  1.0       1.0          0.403922  0.211765   0.423529 \n",
       " 0.419608  0.572549  0.992157  1.0          0.4       0.223529   0.517647 \n",
       " 0.329412  0.568627  0.996078  0.992157     0.486275  0.203922   0.184314 \n",
       " 0.639216  0.623529  1.0       1.0          0.466667  0.313726   0.462745 \n",
       " 0.419608  0.596078  0.992157  1.0       …  0.447059  0.345098   0.576471 \n",
       " 0.329412  0.572549  0.996078  1.0          0.505882  0.313726   0.223529 \n",
       " 0.639216  0.607843  1.0       1.0          0.529412  0.407843   0.403922 \n",
       " ⋮                                       ⋱                                \n",
       " 0.647059  0.870588  0.490196  0.560784     0.509804  0.203922   0.0156863\n",
       " 0.47451   0.882353  0.423529  0.368627     0.419608  0.219608   0.109804 \n",
       " 0.407843  0.898039  0.458824  0.180392     0.482353  0.2        0.0196078\n",
       " 0.647059  0.831373  0.576471  0.498039     0.603922  0.188235   0.0313726\n",
       " 0.478431  0.843137  0.470588  0.317647  …  0.435294  0.196078   0.129412 \n",
       " 0.411765  0.862745  0.490196  0.156863     0.364706  0.172549   0.0470588\n",
       " 0.662745  0.752941  0.556863  0.470588     0.690196  0.403922   0.0509804\n",
       " 0.494118  0.768627  0.431373  0.301961     0.517647  0.403922   0.137255 \n",
       " 0.427451  0.796078  0.462745  0.14902      0.407843  0.34902    0.0705882\n",
       " 0.678431  0.670588  0.521569  0.505882  …  0.717647  0.564706   0.0196078\n",
       " 0.501961  0.690196  0.396078  0.329412     0.552941  0.537255   0.0862745\n",
       " 0.431373  0.729412  0.47451   0.168627     0.454902  0.423529   0.0196078"
      ]
     },
     "execution_count": 9,
     "metadata": {},
     "output_type": "execute_result"
    }
   ],
   "source": [
    "test_data_x = reshape_image_array(test_data_x_orig) ./ 255\n",
    "test_data_x = Array{Float32, 2}(test_data_x)"
   ]
  },
  {
   "cell_type": "code",
   "execution_count": 10,
   "metadata": {},
   "outputs": [
    {
     "data": {
      "text/plain": [
       "12288×209 Array{Float32,2}:\n",
       " 0.0666667  0.768627  0.321569  0.00392157  …  0.560784  0.0862745  0.0313726\n",
       " 0.121569   0.752941  0.278431  0.0862745      0.607843  0.0941176  0.109804 \n",
       " 0.219608   0.745098  0.266667  0.00784314     0.647059  0.0901961  0.207843 \n",
       " 0.0862745  0.756863  0.34902   0.00392157     0.721569  0.0901961  0.054902 \n",
       " 0.129412   0.729412  0.32549   0.054902       0.745098  0.0980392  0.129412 \n",
       " 0.231373   0.713726  0.32549   0.00784314  …  0.776471  0.0941176  0.227451 \n",
       " 0.0980392  0.737255  0.392157  0.00392157     0.556863  0.0941176  0.0745098\n",
       " 0.137255   0.701961  0.384314  0.0509804      0.584314  0.101961   0.137255 \n",
       " 0.243137   0.682353  0.407843  0.00392157     0.607843  0.0980392  0.239216 \n",
       " 0.0980392  0.835294  0.415686  0.0156863      0.529412  0.0941176  0.0745098\n",
       " 0.137255   0.760784  0.411765  0.113725    …  0.580392  0.101961   0.137255 \n",
       " 0.243137   0.756863  0.454902  0.0117647      0.596078  0.105882   0.239216 \n",
       " 0.105882   0.658824  0.462745  0.0392157      0.513726  0.117647   0.0627451\n",
       " ⋮                                          ⋱                                \n",
       " 0.0        0.32549   0.647059  0.054902       0.321569  0.0196078  0.0      \n",
       " 0.0        0.321569  0.662745  0.329412       0.415686  0.0156863  0.0      \n",
       " 0.0        0.313726  0.670588  0.105882       0.584314  0.0        0.0      \n",
       " 0.0        0.32549   0.603922  0.113725       0.317647  0.0156863  0.0      \n",
       " 0.0        0.321569  0.611765  0.345098    …  0.415686  0.0196078  0.0      \n",
       " 0.0        0.317647  0.627451  0.196078       0.588235  0.0        0.0      \n",
       " 0.0        0.329412  0.572549  0.054902       0.333333  0.0156863  0.0      \n",
       " 0.0        0.321569  0.580392  0.239216       0.423529  0.0196078  0.0      \n",
       " 0.0        0.321569  0.596078  0.101961       0.592157  0.0        0.0      \n",
       " 0.0        0.321569  0.541176  0.00784314  …  0.333333  0.0156863  0.0      \n",
       " 0.0        0.313726  0.552941  0.231373       0.419608  0.0196078  0.0      \n",
       " 0.0        0.317647  0.556863  0.00784314     0.584314  0.0        0.0      "
      ]
     },
     "execution_count": 10,
     "metadata": {},
     "output_type": "execute_result"
    }
   ],
   "source": [
    "train_data_x = reshape_image_array(train_data_x_orig) ./ 255\n",
    "train_data_x = Array{Float32, 2}(train_data_x)"
   ]
  },
  {
   "cell_type": "code",
   "execution_count": 11,
   "metadata": {},
   "outputs": [],
   "source": [
    "using Statistics, BenchmarkTools"
   ]
  },
  {
   "cell_type": "code",
   "execution_count": 15,
   "metadata": {},
   "outputs": [
    {
     "data": {
      "text/plain": [
       "predict (generic function with 1 method)"
      ]
     },
     "execution_count": 15,
     "metadata": {},
     "output_type": "execute_result"
    }
   ],
   "source": [
    "include(\"../../NeuralNetwork.jl\")"
   ]
  },
  {
   "cell_type": "code",
   "execution_count": 16,
   "metadata": {},
   "outputs": [
    {
     "data": {
      "text/plain": [
       "3-element Array{Int64,1}:\n",
       " 12288\n",
       "     7\n",
       "     1"
      ]
     },
     "execution_count": 16,
     "metadata": {},
     "output_type": "execute_result"
    }
   ],
   "source": [
    "layer_dims = [12288, 7, 1]"
   ]
  },
  {
   "cell_type": "code",
   "execution_count": 17,
   "metadata": {
    "scrolled": true
   },
   "outputs": [
    {
     "name": "stdout",
     "output_type": "stream",
     "text": [
      "Cost at iteration 100 is 0.5332436\n",
      "Cost at iteration 200 is 0.4559638\n",
      "Cost at iteration 300 is 0.4077382\n",
      "Cost at iteration 400 is 0.34689093\n",
      "Cost at iteration 500 is 0.31596893\n",
      "Cost at iteration 600 is 0.29400364\n",
      "Cost at iteration 700 is 0.19032659\n",
      "Cost at iteration 800 is 0.17845371\n",
      "Cost at iteration 900 is 0.1428757\n",
      "Cost at iteration 1000 is 0.11686539\n"
     ]
    },
    {
     "data": {
      "text/plain": [
       "(Dict{String,Array{Float32,N} where N}(\"W2\" => [-0.95141774 -0.7259073 … -0.23092964 -0.53750485],\"W1\" => [-0.0027797893 0.014452169 … 0.022543987 -0.0068556024; -0.012935815 0.014614021 … 0.006787322 -0.0028139031; … ; 0.024055036 0.0002853695 … 0.0024519379 -0.011924535; -0.006986245 0.0129941795 … 0.0011643631 -0.008840003],\"b2\" => [0.030624565],\"b1\" => [0.012189704; -0.0044107363; … ; -0.001203518; 0.0005103195]), (relu, sigmoid))"
      ]
     },
     "execution_count": 17,
     "metadata": {},
     "output_type": "execute_result"
    }
   ],
   "source": [
    "parameters, activations = neural_network_dense(train_data_x, train_data_y_orig, layer_dims, 1000, 0.0075)"
   ]
  },
  {
   "cell_type": "code",
   "execution_count": 18,
   "metadata": {},
   "outputs": [
    {
     "name": "stdout",
     "output_type": "stream",
     "text": [
      "Accuracy is 99.04306220095694%\n"
     ]
    },
    {
     "data": {
      "text/plain": [
       "([0.0 0.0 … 0.0 0.0], 0.9904306220095693)"
      ]
     },
     "execution_count": 18,
     "metadata": {},
     "output_type": "execute_result"
    }
   ],
   "source": [
    "predicts, accuracy = predict(train_data_x, train_data_y_orig, parameters, activations)"
   ]
  },
  {
   "cell_type": "code",
   "execution_count": 19,
   "metadata": {},
   "outputs": [
    {
     "name": "stdout",
     "output_type": "stream",
     "text": [
      "Accuracy is 64.0%\n"
     ]
    },
    {
     "data": {
      "text/plain": [
       "([1.0 0.0 … 1.0 0.0], 0.64)"
      ]
     },
     "execution_count": 19,
     "metadata": {},
     "output_type": "execute_result"
    }
   ],
   "source": [
    "predicts, accuracy = predict(test_data_x, test_data_y_orig, parameters, activations)"
   ]
  },
  {
   "cell_type": "markdown",
   "metadata": {},
   "source": [
    "## Benchmarking"
   ]
  },
  {
   "cell_type": "code",
   "execution_count": 51,
   "metadata": {},
   "outputs": [
    {
     "name": "stdout",
     "output_type": "stream",
     "text": [
      "Cost at iteration 100 is 0.55147755\n",
      "Cost at iteration 100 is 0.53707486\n",
      "Cost at iteration 100 is 0.52218604\n",
      "Cost at iteration 100 is 0.51489514\n",
      "Cost at iteration 100 is 0.5114792\n",
      "Cost at iteration 100 is 0.5409958\n",
      "Cost at iteration 100 is 0.5234761\n",
      "Cost at iteration 100 is 0.5395405\n",
      "Cost at iteration 100 is 0.59861684\n",
      "Cost at iteration 100 is 0.56203866\n",
      "Cost at iteration 100 is 0.5534276\n",
      "Cost at iteration 100 is 0.56301975\n",
      "Cost at iteration 100 is 0.53432053\n",
      "Cost at iteration 100 is 0.6757842\n",
      "Cost at iteration 100 is 0.5348566\n",
      "Cost at iteration 100 is 0.5482638\n",
      "Cost at iteration 100 is 0.56062615\n",
      "Cost at iteration 100 is 0.54126436\n",
      "Cost at iteration 100 is 0.6244546\n",
      "Cost at iteration 100 is 0.6112443\n",
      "  651.595 ms (30017 allocations: 1.25 GiB)\n"
     ]
    },
    {
     "data": {
      "text/plain": [
       "(Dict{String,Array{Float32,N} where N}(\"W2\" => [0.034791194 0.25094277 … -0.10689989 -0.056030158],\"W1\" => [-0.0026346676 -0.01160504 … 0.0024755986 0.0007495708; -0.0018192483 0.003670138 … -0.0030291765 -0.011362255; … ; -0.0063657765 0.011800026 … 0.0020629598 -0.021027436; 0.002248835 -0.009857251 … -0.018226713 0.0020813725],\"b2\" => [-0.0077517917],\"b1\" => [-5.0001687e-5; -0.00031996428; … ; 0.0006941012; 0.00020836393]), (relu, sigmoid))"
      ]
     },
     "execution_count": 51,
     "metadata": {},
     "output_type": "execute_result"
    }
   ],
   "source": [
    "@btime neural_network_dense($train_data_x, $train_data_y_orig, $layer_dims, 100, 0.0075)"
   ]
  },
  {
   "cell_type": "code",
   "execution_count": 20,
   "metadata": {},
   "outputs": [
    {
     "name": "stdout",
     "output_type": "stream",
     "text": [
      "  626.100 μs (37 allocations: 1.64 MiB)\n"
     ]
    },
    {
     "data": {
      "text/plain": [
       "Dict{String,Array{Float32,N} where N} with 4 entries:\n",
       "  \"W2\" => Float32[0.026359 0.480013 … 0.189839 0.594478]\n",
       "  \"W1\" => Float32[-0.00503414 -0.00485214 … 0.00950346 0.0136017; -0.0118903 -0…\n",
       "  \"b2\" => Float32[0.0]\n",
       "  \"b1\" => Float32[0.0; 0.0; … ; 0.0; 0.0]"
      ]
     },
     "execution_count": 20,
     "metadata": {},
     "output_type": "execute_result"
    }
   ],
   "source": [
    "@btime initialize_parameters($layer_dims, $train_data_y_orig)"
   ]
  },
  {
   "cell_type": "code",
   "execution_count": 22,
   "metadata": {},
   "outputs": [],
   "source": [
    "parameters = initialize_parameters(layer_dims, train_data_y_orig)\n",
    "activations = (relu, sigmoid)\n",
    "y, caches = forward_prop(train_data_x, parameters, activations)\n",
    "print()"
   ]
  },
  {
   "cell_type": "code",
   "execution_count": 54,
   "metadata": {},
   "outputs": [
    {
     "name": "stdout",
     "output_type": "stream",
     "text": [
      "  888.801 μs (93 allocations: 24.78 KiB)\n"
     ]
    },
    {
     "data": {
      "text/plain": [
       "(Float32[0.50752395 0.44827378 … 0.49574357 0.46908775], Dict{String,Array{Float32,N} where N}(\"A2\" => [0.50752395 0.44827378 … 0.49574357 0.46908775],\"A1\" => [0.0 0.0 … 0.0 0.0; 0.2682694 0.6815136 … 0.0348052 0.2630909; … ; 0.0 0.0 … 0.0 0.07128604; 0.21147422 0.49728242 … 0.0 0.19836868],\"A0\" => [0.06666667 0.76862746 … 0.08627451 0.03137255; 0.12156863 0.7529412 … 0.09411765 0.10980392; … ; 0.0 0.3137255 … 0.019607844 0.0; 0.0 0.31764707 … 0.0 0.0],\"Z2\" => [0.030098056 -0.20764787 … -0.0170261 -0.12380698],\"Z1\" => [-0.49418628 -0.71965206 … -0.14185269 -0.4087648; 0.2682694 0.6815136 … 0.0348052 0.2630909; … ; -0.09253468 -0.033902768 … -0.12035904 0.07128604; 0.21147422 0.49728242 … -0.05054159 0.19836868]))"
      ]
     },
     "execution_count": 54,
     "metadata": {},
     "output_type": "execute_result"
    }
   ],
   "source": [
    "@btime forward_prop($train_data_x, $parameters, $activations)"
   ]
  },
  {
   "cell_type": "code",
   "execution_count": 24,
   "metadata": {},
   "outputs": [
    {
     "data": {
      "text/plain": [
       "0.70402896f0"
      ]
     },
     "execution_count": 24,
     "metadata": {},
     "output_type": "execute_result"
    }
   ],
   "source": [
    "y_orig = Array{Float32, 2}(train_data_y_orig)\n",
    "cost = cost_binary(y_orig, y)"
   ]
  },
  {
   "cell_type": "code",
   "execution_count": 56,
   "metadata": {},
   "outputs": [
    {
     "name": "stdout",
     "output_type": "stream",
     "text": [
      "  4.328 μs (1 allocation: 1008 bytes)\n"
     ]
    },
    {
     "data": {
      "text/plain": [
       "0.67906153f0"
      ]
     },
     "execution_count": 56,
     "metadata": {},
     "output_type": "execute_result"
    }
   ],
   "source": [
    "@btime cost_binary($y_orig, $y)"
   ]
  },
  {
   "cell_type": "code",
   "execution_count": 25,
   "metadata": {},
   "outputs": [
    {
     "data": {
      "text/plain": [
       "Dict{String,Array{Float32,N} where N} with 4 entries:\n",
       "  \"dw1\" => Float32[-0.000152993 -0.000131177 … -9.79547e-5 -7.17154e-5; 0.00371…\n",
       "  \"dw2\" => Float32[0.000100806 0.00691432 … 0.00506449 0.0219995]\n",
       "  \"db2\" => Float32[0.176907]\n",
       "  \"db1\" => Float32[-0.000346978; 0.0116318; … ; -0.00401343; 0.0728398]"
      ]
     },
     "execution_count": 25,
     "metadata": {},
     "output_type": "execute_result"
    }
   ],
   "source": [
    "activations_back = (relu_back, sigmoid_back)\n",
    "grads = backward_prop(y_orig, y, parameters, caches, layer_dims, activations_back)"
   ]
  },
  {
   "cell_type": "code",
   "execution_count": 58,
   "metadata": {},
   "outputs": [
    {
     "name": "stdout",
     "output_type": "stream",
     "text": [
      "  4.291 ms (118 allocations: 11.13 MiB)\n"
     ]
    },
    {
     "data": {
      "text/plain": [
       "Dict{String,Array{Float32,N} where N} with 4 entries:\n",
       "  \"dw1\" => Float32[9.16046e-5 0.000189444 … 0.000311732 0.000235581; -0.0048612…\n",
       "  \"dw2\" => Float32[0.00429011 0.0378653 … 0.00325473 0.0385711]\n",
       "  \"db2\" => Float32[0.122613]\n",
       "  \"db1\" => Float32[0.000443472; -0.0184071; … ; -0.017111; -0.0128261]"
      ]
     },
     "execution_count": 58,
     "metadata": {},
     "output_type": "execute_result"
    }
   ],
   "source": [
    "@btime backward_prop($y_orig, $y, $parameters, $caches, $layer_dims, $activations_back) "
   ]
  },
  {
   "cell_type": "code",
   "execution_count": 26,
   "metadata": {},
   "outputs": [
    {
     "data": {
      "text/plain": [
       "Dict{String,Array{Float32,N} where N} with 4 entries:\n",
       "  \"W2\" => Float32[-0.0340573 0.210562 … -0.105929 0.575805]\n",
       "  \"W1\" => Float32[0.000618291 -0.00256079 … 0.00925934 -0.00127785; 0.00316973 …\n",
       "  \"b2\" => Float32[-1.76907e-7]\n",
       "  \"b1\" => Float32[3.46978e-10; -1.16318e-8; … ; 4.01343e-9; -7.28398e-8]"
      ]
     },
     "execution_count": 26,
     "metadata": {},
     "output_type": "execute_result"
    }
   ],
   "source": [
    "learning_rate = 0.000001\n",
    "parameters = update_parameters(parameters, grads, layer_dims, learning_rate)"
   ]
  },
  {
   "cell_type": "code",
   "execution_count": 60,
   "metadata": {},
   "outputs": [
    {
     "name": "stdout",
     "output_type": "stream",
     "text": [
      "  211.701 μs (87 allocations: 1.64 MiB)\n"
     ]
    },
    {
     "data": {
      "text/plain": [
       "Dict{String,Array{Float32,N} where N} with 4 entries:\n",
       "  \"W2\" => Float32[0.0151536 -0.15992 … -0.440818 -0.142001]\n",
       "  \"W1\" => Float32[0.0127349 -0.0128757 … -0.0117947 -0.00683415; -0.00448318 0.…\n",
       "  \"b2\" => Float32[-0.00245401]\n",
       "  \"b1\" => Float32[-8.87552e-6; 0.000368321; … ; 0.000342491; 0.000256664]"
      ]
     },
     "execution_count": 60,
     "metadata": {},
     "output_type": "execute_result"
    }
   ],
   "source": [
    "@btime update_parameters($parameters, $grads, $layer_dims, $learning_rate)"
   ]
  },
  {
   "cell_type": "code",
   "execution_count": 46,
   "metadata": {},
   "outputs": [
    {
     "name": "stdout",
     "output_type": "stream",
     "text": [
      "  5.981 ms (350 allocations: 14.45 MiB)\n"
     ]
    },
    {
     "data": {
      "text/plain": [
       "(Dict{String,Array{Float32,N} where N}(\"W2\" => [0.3276358 -0.2913516 … -0.056624386 1.2782983],\"W1\" => [0.011470085 0.011604643 … -0.0018633803 0.01096336; -0.0007123757 0.009185629 … 0.00059031637 -0.0012510043; … ; 0.0071292855 -0.017844321 … 0.015887309 -0.00911494; -0.016298955 -0.0042280867 … -0.014126171 0.0070554153],\"b2\" => [-0.0008734076],\"b1\" => [-0.00019166565; 0.00018358006; … ; 4.1828876e-5; -2.2047214e-5]), (relu, sigmoid))"
      ]
     },
     "execution_count": 46,
     "metadata": {},
     "output_type": "execute_result"
    }
   ],
   "source": [
    "@btime neural_network_dense($train_data_x, $train_data_y_orig, $layer_dims, 1, 0.0075)"
   ]
  },
  {
   "cell_type": "code",
   "execution_count": null,
   "metadata": {},
   "outputs": [],
   "source": []
  }
 ],
 "metadata": {
  "kernelspec": {
   "display_name": "Julia 1.3.0",
   "language": "julia",
   "name": "julia-1.3"
  },
  "language_info": {
   "file_extension": ".jl",
   "mimetype": "application/julia",
   "name": "julia",
   "version": "1.3.0"
  }
 },
 "nbformat": 4,
 "nbformat_minor": 2
}
