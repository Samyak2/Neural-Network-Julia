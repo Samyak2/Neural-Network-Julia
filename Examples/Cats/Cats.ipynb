{
 "cells": [
  {
   "cell_type": "code",
   "execution_count": 6,
   "metadata": {
    "ExecuteTime": {
     "end_time": "2020-05-08T13:47:02.016000+05:30",
     "start_time": "2020-05-08T08:16:57.943Z"
    }
   },
   "outputs": [],
   "source": [
    "using HDF5"
   ]
  },
  {
   "cell_type": "code",
   "execution_count": 7,
   "metadata": {
    "ExecuteTime": {
     "end_time": "2020-05-08T13:47:04.356000+05:30",
     "start_time": "2020-05-08T08:17:04.350Z"
    }
   },
   "outputs": [
    {
     "data": {
      "text/plain": [
       "\"datasets/test_catvnoncat.h5\""
      ]
     },
     "execution_count": 7,
     "metadata": {},
     "output_type": "execute_result"
    }
   ],
   "source": [
    "TRAIN_DATA_PATH=\"datasets/train_catvnoncat.h5\"\n",
    "TEST_DATA_PATH=\"datasets/test_catvnoncat.h5\""
   ]
  },
  {
   "cell_type": "code",
   "execution_count": 8,
   "metadata": {
    "ExecuteTime": {
     "end_time": "2020-05-08T13:47:06.878000+05:30",
     "start_time": "2020-05-08T08:17:05.139Z"
    },
    "scrolled": true
   },
   "outputs": [
    {
     "data": {
      "text/plain": [
       "209-element Array{Int64,1}:\n",
       " 0\n",
       " 0\n",
       " 1\n",
       " 0\n",
       " 0\n",
       " 0\n",
       " 0\n",
       " 1\n",
       " 0\n",
       " 0\n",
       " 0\n",
       " 1\n",
       " 0\n",
       " ⋮\n",
       " 1\n",
       " 0\n",
       " 0\n",
       " 1\n",
       " 0\n",
       " 0\n",
       " 0\n",
       " 0\n",
       " 0\n",
       " 0\n",
       " 0\n",
       " 0"
      ]
     },
     "execution_count": 8,
     "metadata": {},
     "output_type": "execute_result"
    }
   ],
   "source": [
    "train_data_x_orig = h5read(TRAIN_DATA_PATH, \"train_set_x\")\n",
    "train_data_y_orig = h5read(TRAIN_DATA_PATH, \"train_set_y\")"
   ]
  },
  {
   "cell_type": "code",
   "execution_count": 9,
   "metadata": {
    "ExecuteTime": {
     "end_time": "2020-05-08T13:47:07.066000+05:30",
     "start_time": "2020-05-08T08:17:07.058Z"
    },
    "scrolled": true
   },
   "outputs": [
    {
     "data": {
      "text/plain": [
       "50-element Array{Int64,1}:\n",
       " 1\n",
       " 1\n",
       " 1\n",
       " 1\n",
       " 1\n",
       " 0\n",
       " 1\n",
       " 1\n",
       " 1\n",
       " 1\n",
       " 1\n",
       " 1\n",
       " 1\n",
       " ⋮\n",
       " 0\n",
       " 0\n",
       " 1\n",
       " 1\n",
       " 1\n",
       " 0\n",
       " 0\n",
       " 0\n",
       " 1\n",
       " 1\n",
       " 1\n",
       " 0"
      ]
     },
     "execution_count": 9,
     "metadata": {},
     "output_type": "execute_result"
    }
   ],
   "source": [
    "test_data_x_orig = h5read(TEST_DATA_PATH, \"test_set_x\")\n",
    "test_data_y_orig = h5read(TEST_DATA_PATH, \"test_set_y\")"
   ]
  },
  {
   "cell_type": "code",
   "execution_count": 10,
   "metadata": {
    "ExecuteTime": {
     "end_time": "2020-05-08T13:47:08.950000+05:30",
     "start_time": "2020-05-08T08:17:08.114Z"
    }
   },
   "outputs": [
    {
     "data": {
      "text/plain": [
       "2-element Array{String,1}:\n",
       " \"non-cat\"\n",
       " \"cat\"    "
      ]
     },
     "execution_count": 10,
     "metadata": {},
     "output_type": "execute_result"
    }
   ],
   "source": [
    "classes = h5read(TEST_DATA_PATH, \"list_classes\")"
   ]
  },
  {
   "cell_type": "code",
   "execution_count": 11,
   "metadata": {
    "ExecuteTime": {
     "end_time": "2020-05-08T13:47:11.955000+05:30",
     "start_time": "2020-05-08T08:17:10.816Z"
    }
   },
   "outputs": [
    {
     "data": {
      "text/plain": [
       "1×209 Array{Int64,2}:\n",
       " 0  0  1  0  0  0  0  1  0  0  0  1  0  …  1  0  0  1  0  0  0  0  0  0  0  0"
      ]
     },
     "execution_count": 11,
     "metadata": {},
     "output_type": "execute_result"
    }
   ],
   "source": [
    "train_data_y_orig = reshape(train_data_y_orig, (1, size(train_data_y_orig)[1]))"
   ]
  },
  {
   "cell_type": "code",
   "execution_count": 12,
   "metadata": {
    "ExecuteTime": {
     "end_time": "2020-05-08T13:47:11.956000+05:30",
     "start_time": "2020-05-08T08:17:11.354Z"
    }
   },
   "outputs": [
    {
     "data": {
      "text/plain": [
       "1×50 Array{Int64,2}:\n",
       " 1  1  1  1  1  0  1  1  1  1  1  1  1  …  0  0  1  1  1  0  0  0  1  1  1  0"
      ]
     },
     "execution_count": 12,
     "metadata": {},
     "output_type": "execute_result"
    }
   ],
   "source": [
    "test_data_y_orig = reshape(test_data_y_orig, (1, size(test_data_y_orig)[1]))"
   ]
  },
  {
   "cell_type": "code",
   "execution_count": 13,
   "metadata": {
    "ExecuteTime": {
     "end_time": "2020-05-08T13:47:14.730000+05:30",
     "start_time": "2020-05-08T08:17:14.360Z"
    }
   },
   "outputs": [
    {
     "data": {
      "text/plain": [
       "reshape_image_array_reverse (generic function with 1 method)"
      ]
     },
     "execution_count": 13,
     "metadata": {},
     "output_type": "execute_result"
    }
   ],
   "source": [
    "function reshape_image_array(image_array::Array{UInt8,4})\n",
    "    return reshape(image_array, :, size(image_array)[4])\n",
    "end\n",
    "function reshape_image_array_reverse(image_array::Array{UInt8,2})\n",
    "    return reshape(image_array, 64, 64, 3, :)\n",
    "end"
   ]
  },
  {
   "cell_type": "code",
   "execution_count": 14,
   "metadata": {
    "ExecuteTime": {
     "end_time": "2020-05-08T13:47:17.429000+05:30",
     "start_time": "2020-05-08T08:17:16.094Z"
    }
   },
   "outputs": [
    {
     "data": {
      "text/plain": [
       "12288×50 Array{Float32,2}:\n",
       " 0.619608  0.45098   1.0       0.996078  …  0.160784  0.0705882  0.521569 \n",
       " 0.407843  0.431373  0.992157  0.996078     0.184314  0.0705882  0.639216 \n",
       " 0.32549   0.435294  0.996078  0.952941     0.329412  0.0627451  0.294118 \n",
       " 0.631373  0.537255  1.0       1.0          0.282353  0.137255   0.384314 \n",
       " 0.415686  0.505882  0.992157  1.0          0.305882  0.141176   0.470588 \n",
       " 0.333333  0.505882  0.996078  0.964706  …  0.439216  0.121569   0.172549 \n",
       " 0.635294  0.607843  1.0       1.0          0.403922  0.211765   0.423529 \n",
       " 0.419608  0.572549  0.992157  1.0          0.4       0.223529   0.517647 \n",
       " 0.329412  0.568627  0.996078  0.992157     0.486275  0.203922   0.184314 \n",
       " 0.639216  0.623529  1.0       1.0          0.466667  0.313726   0.462745 \n",
       " 0.419608  0.596078  0.992157  1.0       …  0.447059  0.345098   0.576471 \n",
       " 0.329412  0.572549  0.996078  1.0          0.505882  0.313726   0.223529 \n",
       " 0.639216  0.607843  1.0       1.0          0.529412  0.407843   0.403922 \n",
       " ⋮                                       ⋱                                \n",
       " 0.647059  0.870588  0.490196  0.560784     0.509804  0.203922   0.0156863\n",
       " 0.47451   0.882353  0.423529  0.368627     0.419608  0.219608   0.109804 \n",
       " 0.407843  0.898039  0.458824  0.180392     0.482353  0.2        0.0196078\n",
       " 0.647059  0.831373  0.576471  0.498039     0.603922  0.188235   0.0313726\n",
       " 0.478431  0.843137  0.470588  0.317647  …  0.435294  0.196078   0.129412 \n",
       " 0.411765  0.862745  0.490196  0.156863     0.364706  0.172549   0.0470588\n",
       " 0.662745  0.752941  0.556863  0.470588     0.690196  0.403922   0.0509804\n",
       " 0.494118  0.768627  0.431373  0.301961     0.517647  0.403922   0.137255 \n",
       " 0.427451  0.796078  0.462745  0.14902      0.407843  0.34902    0.0705882\n",
       " 0.678431  0.670588  0.521569  0.505882  …  0.717647  0.564706   0.0196078\n",
       " 0.501961  0.690196  0.396078  0.329412     0.552941  0.537255   0.0862745\n",
       " 0.431373  0.729412  0.47451   0.168627     0.454902  0.423529   0.0196078"
      ]
     },
     "execution_count": 14,
     "metadata": {},
     "output_type": "execute_result"
    }
   ],
   "source": [
    "test_data_x = reshape_image_array(test_data_x_orig) ./ 255\n",
    "test_data_x = Array{Float32, 2}(test_data_x)"
   ]
  },
  {
   "cell_type": "code",
   "execution_count": 15,
   "metadata": {
    "ExecuteTime": {
     "end_time": "2020-05-08T13:47:17.726000+05:30",
     "start_time": "2020-05-08T08:17:17.682Z"
    }
   },
   "outputs": [
    {
     "data": {
      "text/plain": [
       "12288×209 Array{Float32,2}:\n",
       " 0.0666667  0.768627  0.321569  0.00392157  …  0.560784  0.0862745  0.0313726\n",
       " 0.121569   0.752941  0.278431  0.0862745      0.607843  0.0941176  0.109804 \n",
       " 0.219608   0.745098  0.266667  0.00784314     0.647059  0.0901961  0.207843 \n",
       " 0.0862745  0.756863  0.34902   0.00392157     0.721569  0.0901961  0.054902 \n",
       " 0.129412   0.729412  0.32549   0.054902       0.745098  0.0980392  0.129412 \n",
       " 0.231373   0.713726  0.32549   0.00784314  …  0.776471  0.0941176  0.227451 \n",
       " 0.0980392  0.737255  0.392157  0.00392157     0.556863  0.0941176  0.0745098\n",
       " 0.137255   0.701961  0.384314  0.0509804      0.584314  0.101961   0.137255 \n",
       " 0.243137   0.682353  0.407843  0.00392157     0.607843  0.0980392  0.239216 \n",
       " 0.0980392  0.835294  0.415686  0.0156863      0.529412  0.0941176  0.0745098\n",
       " 0.137255   0.760784  0.411765  0.113725    …  0.580392  0.101961   0.137255 \n",
       " 0.243137   0.756863  0.454902  0.0117647      0.596078  0.105882   0.239216 \n",
       " 0.105882   0.658824  0.462745  0.0392157      0.513726  0.117647   0.0627451\n",
       " ⋮                                          ⋱                                \n",
       " 0.0        0.32549   0.647059  0.054902       0.321569  0.0196078  0.0      \n",
       " 0.0        0.321569  0.662745  0.329412       0.415686  0.0156863  0.0      \n",
       " 0.0        0.313726  0.670588  0.105882       0.584314  0.0        0.0      \n",
       " 0.0        0.32549   0.603922  0.113725       0.317647  0.0156863  0.0      \n",
       " 0.0        0.321569  0.611765  0.345098    …  0.415686  0.0196078  0.0      \n",
       " 0.0        0.317647  0.627451  0.196078       0.588235  0.0        0.0      \n",
       " 0.0        0.329412  0.572549  0.054902       0.333333  0.0156863  0.0      \n",
       " 0.0        0.321569  0.580392  0.239216       0.423529  0.0196078  0.0      \n",
       " 0.0        0.321569  0.596078  0.101961       0.592157  0.0        0.0      \n",
       " 0.0        0.321569  0.541176  0.00784314  …  0.333333  0.0156863  0.0      \n",
       " 0.0        0.313726  0.552941  0.231373       0.419608  0.0196078  0.0      \n",
       " 0.0        0.317647  0.556863  0.00784314     0.584314  0.0        0.0      "
      ]
     },
     "execution_count": 15,
     "metadata": {},
     "output_type": "execute_result"
    }
   ],
   "source": [
    "train_data_x = reshape_image_array(train_data_x_orig) ./ 255\n",
    "train_data_x = Array{Float32, 2}(train_data_x)"
   ]
  },
  {
   "cell_type": "code",
   "execution_count": 16,
   "metadata": {
    "ExecuteTime": {
     "end_time": "2020-05-08T13:47:22.403000+05:30",
     "start_time": "2020-05-08T08:17:22.347Z"
    }
   },
   "outputs": [],
   "source": [
    "using Statistics, BenchmarkTools"
   ]
  },
  {
   "cell_type": "code",
   "execution_count": 60,
   "metadata": {
    "ExecuteTime": {
     "end_time": "2020-05-08T14:43:31.827000+05:30",
     "start_time": "2020-05-08T09:13:31.753Z"
    }
   },
   "outputs": [
    {
     "name": "stderr",
     "output_type": "stream",
     "text": [
      "WARNING: redefining constant to\n"
     ]
    },
    {
     "data": {
      "text/plain": [
       "predict"
      ]
     },
     "execution_count": 60,
     "metadata": {},
     "output_type": "execute_result"
    }
   ],
   "source": [
    "include(\"../../NeuralNetwork.jl\")"
   ]
  },
  {
   "cell_type": "code",
   "execution_count": 61,
   "metadata": {
    "ExecuteTime": {
     "end_time": "2020-05-08T14:43:32.161000+05:30",
     "start_time": "2020-05-08T09:13:32.153Z"
    }
   },
   "outputs": [
    {
     "data": {
      "text/plain": [
       "3-element Array{Int64,1}:\n",
       " 12288\n",
       "     7\n",
       "     1"
      ]
     },
     "execution_count": 61,
     "metadata": {},
     "output_type": "execute_result"
    }
   ],
   "source": [
    "layer_dims = [12288, 7, 1]"
   ]
  },
  {
   "cell_type": "code",
   "execution_count": 62,
   "metadata": {
    "ExecuteTime": {
     "end_time": "2020-05-08T14:43:36.648000+05:30",
     "start_time": "2020-05-08T09:13:32.661Z"
    }
   },
   "outputs": [
    {
     "name": "stdout",
     "output_type": "stream",
     "text": [
      "Cost at iteration 100 is 0.6706643\n"
     ]
    },
    {
     "data": {
      "text/plain": [
       "(Dict{String,Array{Float32,N} where N}(\"W2\" => [0.065906264 0.008531705 … 0.40763798 0.58506685],\"W1\" => [0.009794031 0.0051650545 … 0.0069414983 0.0021731728; 0.004426979 -0.0059097195 … 0.0047761872 -0.0039415965; … ; -0.007328883 0.01659493 … -0.005471624 0.016419603; 0.022440376 -0.015417081 … 0.0098485965 0.0037002328],\"b2\" => [-0.10878273],\"b1\" => [-0.0003705971; -3.0539883e-5; … ; -0.0007448625; -0.00048012656]), (relu, sigmoid))"
      ]
     },
     "execution_count": 62,
     "metadata": {},
     "output_type": "execute_result"
    }
   ],
   "source": [
    "parameters2, activations2 = neural_network_dense(train_data_x, train_data_y_orig, layer_dims, 100, 0.0075)"
   ]
  },
  {
   "cell_type": "code",
   "execution_count": 66,
   "metadata": {
    "ExecuteTime": {
     "end_time": "2020-05-08T14:57:38.454000+05:30",
     "start_time": "2020-05-08T09:27:38.447Z"
    }
   },
   "outputs": [
    {
     "name": "stdout",
     "output_type": "stream",
     "text": [
      "\u001b[0m\u001b[1m ──────────────────────────────────────────────────────────────────────────────\u001b[22m\n",
      "\u001b[0m\u001b[1m                               \u001b[22m        Time                   Allocations      \n",
      "                               ──────────────────────   ───────────────────────\n",
      "       Tot / % measured:             847s / 2.24%           14.0GiB / 98.6%    \n",
      "\n",
      " Section               ncalls     time   %tot     avg     alloc   %tot      avg\n",
      " ──────────────────────────────────────────────────────────────────────────────\n",
      " Actual training            2    19.0s   100%   9.49s   13.8GiB  100%   6.91GiB\n",
      "   backprop             1.10k    13.5s  70.9%  12.2ms   12.0GiB  86.8%  11.2MiB\n",
      "     calculate dA       2.20k    6.79s  35.7%  3.09ms   10.5GiB  76.2%  4.90MiB\n",
      "     calculate dw       2.20k    6.10s  32.1%  2.77ms   1.41GiB  10.2%   673KiB\n",
      "     calculate dZ       2.20k    177ms  0.93%  80.4μs   25.0MiB  0.18%  11.7KiB\n",
      "     calculate db       2.20k   78.2ms  0.41%  35.6μs   1.83MiB  0.01%     872B\n",
      "     Initial dA         1.10k   8.92ms  0.05%  8.11μs   1.06MiB  0.01%  0.98KiB\n",
      "   forward prop         1.10k    3.88s  20.4%  3.53ms   37.5MiB  0.26%  34.9KiB\n",
      "     calculate Zi       2.20k    3.61s  19.0%  1.64ms   11.3MiB  0.08%  5.26KiB\n",
      "     calculate Ai       2.20k   25.2ms  0.13%  11.5μs   7.44MiB  0.05%  3.46KiB\n",
      "   update params        1.10k    1.39s  7.33%  1.27ms   1.77GiB  12.8%  1.64MiB\n",
      "     update dW          2.20k    1.35s  7.12%   615μs   1.76GiB  12.8%   841KiB\n",
      "     update db          2.20k   30.6ms  0.16%  13.9μs   2.27MiB  0.02%  1.05KiB\n",
      "   print stats          1.10k    228ms  1.20%   207μs   19.1MiB  0.13%  17.8KiB\n",
      " get back activations       2   15.3ms  0.08%  7.67ms    727KiB  0.01%   364KiB\n",
      " Initialize params          2   3.30ms  0.02%  1.65ms   2.63MiB  0.02%  1.32MiB\n",
      "   Init weights             4   3.27ms  0.02%   818μs   2.63MiB  0.02%   673KiB\n",
      "   Init biases              4   11.8μs  0.00%  2.95μs   1.41KiB  0.00%     360B\n",
      " forward prop               1   1.66ms  0.01%  1.66ms   19.1KiB  0.00%  19.1KiB\n",
      "   calculate Zi             2   1.62ms  0.01%   809μs   8.67KiB  0.00%  4.34KiB\n",
      "   calculate Ai             2   17.3μs  0.00%  8.64μs   6.92KiB  0.00%  3.46KiB\n",
      " calculate accuracy         1   13.0μs  0.00%  13.0μs   4.34KiB  0.00%  4.34KiB\n",
      " calculate probas           1   5.07μs  0.00%  5.07μs   0.98KiB  0.00%  0.98KiB\n",
      " reshape Y                  2   3.72μs  0.00%  1.86μs   1.97KiB  0.00%  0.98KiB\n",
      " copy to CPU                1   2.64μs  0.00%  2.64μs   1.77KiB  0.00%  1.77KiB\n",
      " calculate num layers       2   1.28μs  0.00%   641ns     0.00B  0.00%    0.00B\n",
      "\u001b[0m\u001b[1m ──────────────────────────────────────────────────────────────────────────────\u001b[22m"
     ]
    }
   ],
   "source": [
    "print_timer(to)"
   ]
  },
  {
   "cell_type": "code",
   "execution_count": 64,
   "metadata": {
    "ExecuteTime": {
     "end_time": "2020-05-08T14:57:32.962000+05:30",
     "start_time": "2020-05-08T09:27:16.833Z"
    },
    "scrolled": true
   },
   "outputs": [
    {
     "name": "stdout",
     "output_type": "stream",
     "text": [
      "Cost at iteration 100 is 0.5489433\n",
      "Cost at iteration 200 is 0.48521948\n",
      "Cost at iteration 300 is 0.4378766\n",
      "Cost at iteration 400 is 0.39246276\n",
      "Cost at iteration 500 is 0.33319694\n",
      "Cost at iteration 600 is 0.26842335\n",
      "Cost at iteration 700 is 0.21762599\n",
      "Cost at iteration 800 is 0.18310715\n",
      "Cost at iteration 900 is 0.16040407\n",
      "Cost at iteration 1000 is 0.14216802\n"
     ]
    },
    {
     "data": {
      "text/plain": [
       "(Dict{String,Array{Float32,N} where N}(\"W2\" => [0.5686534 0.2814105 … -0.80229354 0.14085971],\"W1\" => [0.0031251688 -0.0046197865 … -0.005307814 0.010830305; 0.013483216 -0.0020634974 … 0.007007745 -0.014958549; … ; -0.010350274 0.002268731 … 0.0016561231 -0.011203028; 0.016753606 -0.010520669 … 0.0068002143 0.011218524],\"b2\" => [0.039936557],\"b1\" => [0.006323702; 0.0; … ; -0.00069409446; -0.00011211381]), (relu, sigmoid))"
      ]
     },
     "execution_count": 64,
     "metadata": {},
     "output_type": "execute_result"
    }
   ],
   "source": [
    "parameters, activations = neural_network_dense(train_data_x, train_data_y_orig, layer_dims, 1000, 0.0075)"
   ]
  },
  {
   "cell_type": "code",
   "execution_count": 65,
   "metadata": {
    "ExecuteTime": {
     "end_time": "2020-05-08T14:57:33.229000+05:30",
     "start_time": "2020-05-08T09:27:17.695Z"
    }
   },
   "outputs": [
    {
     "name": "stdout",
     "output_type": "stream",
     "text": [
      "Accuracy is 96.17224880382776%\n"
     ]
    },
    {
     "data": {
      "text/plain": [
       "([0.0 0.0 … 0.0 0.0], 0.9617224880382775)"
      ]
     },
     "execution_count": 65,
     "metadata": {},
     "output_type": "execute_result"
    }
   ],
   "source": [
    "predicts, accuracy = predict(train_data_x, train_data_y_orig, parameters, activations)"
   ]
  },
  {
   "cell_type": "code",
   "execution_count": 21,
   "metadata": {
    "ExecuteTime": {
     "end_time": "2020-05-08T13:47:53.842000+05:30",
     "start_time": "2020-05-08T08:17:53.612Z"
    }
   },
   "outputs": [
    {
     "name": "stdout",
     "output_type": "stream",
     "text": [
      "Accuracy is 72.0%\n"
     ]
    },
    {
     "data": {
      "text/plain": [
       "([1.0 1.0 … 1.0 0.0], 0.72)"
      ]
     },
     "execution_count": 21,
     "metadata": {},
     "output_type": "execute_result"
    }
   ],
   "source": [
    "predicts, accuracy = predict(test_data_x, test_data_y_orig, parameters, activations)"
   ]
  },
  {
   "cell_type": "markdown",
   "metadata": {},
   "source": [
    "## Benchmarking"
   ]
  },
  {
   "cell_type": "code",
   "execution_count": 22,
   "metadata": {
    "ExecuteTime": {
     "end_time": "2020-05-08T13:58:03.590000+05:30",
     "start_time": "2020-05-08T08:27:42.940Z"
    }
   },
   "outputs": [
    {
     "name": "stdout",
     "output_type": "stream",
     "text": [
      "Cost at iteration 100 is 0.53558016\n",
      "Cost at iteration 100 is 0.5029567\n",
      "Cost at iteration 100 is 0.57660806\n",
      "Cost at iteration 100 is 0.5272773\n",
      "Cost at iteration 100 is 0.55313444\n",
      "Cost at iteration 100 is 0.5367662\n",
      "Cost at iteration 100 is 0.55328417\n",
      "Cost at iteration 100 is 0.6030852\n",
      "Cost at iteration 100 is 0.52965045\n",
      "Cost at iteration 100 is 0.5038902\n",
      "Cost at iteration 100 is 0.53633785\n",
      "Cost at iteration 100 is 0.5288921\n",
      "  1.448 s (30026 allocations: 1.25 GiB)\n"
     ]
    },
    {
     "data": {
      "text/plain": [
       "(Dict{String,Array{Float32,N} where N}(\"W2\" => [0.61104214 -0.1225971 … 0.07468962 0.6459953],\"W1\" => [-0.010853113 -0.017955592 … 0.0021657879 0.0037813105; -0.0060843085 0.011459536 … -0.014435871 0.0047255307; … ; 0.012235935 0.012439721 … -0.012860407 0.017553123; -0.015616017 -0.02493834 … 0.00083742593 -0.006985716],\"b2\" => [-0.012878602],\"b1\" => [-0.00103546; -0.00015716007; … ; -6.338201e-5; -0.0008261606]), (relu, sigmoid))"
      ]
     },
     "execution_count": 22,
     "metadata": {},
     "output_type": "execute_result"
    }
   ],
   "source": [
    "@btime neural_network_dense($train_data_x, $train_data_y_orig, $layer_dims, 100, 0.0075)"
   ]
  },
  {
   "cell_type": "code",
   "execution_count": 20,
   "metadata": {},
   "outputs": [
    {
     "name": "stdout",
     "output_type": "stream",
     "text": [
      "  626.100 μs (37 allocations: 1.64 MiB)\n"
     ]
    },
    {
     "data": {
      "text/plain": [
       "Dict{String,Array{Float32,N} where N} with 4 entries:\n",
       "  \"W2\" => Float32[0.026359 0.480013 … 0.189839 0.594478]\n",
       "  \"W1\" => Float32[-0.00503414 -0.00485214 … 0.00950346 0.0136017; -0.0118903 -0…\n",
       "  \"b2\" => Float32[0.0]\n",
       "  \"b1\" => Float32[0.0; 0.0; … ; 0.0; 0.0]"
      ]
     },
     "execution_count": 20,
     "metadata": {},
     "output_type": "execute_result"
    }
   ],
   "source": [
    "@btime initialize_parameters($layer_dims, $train_data_y_orig)"
   ]
  },
  {
   "cell_type": "code",
   "execution_count": 22,
   "metadata": {},
   "outputs": [],
   "source": [
    "parameters = initialize_parameters(layer_dims, train_data_y_orig)\n",
    "activations = (relu, sigmoid)\n",
    "y, caches = forward_prop(train_data_x, parameters, activations)\n",
    "print()"
   ]
  },
  {
   "cell_type": "code",
   "execution_count": 54,
   "metadata": {},
   "outputs": [
    {
     "name": "stdout",
     "output_type": "stream",
     "text": [
      "  888.801 μs (93 allocations: 24.78 KiB)\n"
     ]
    },
    {
     "data": {
      "text/plain": [
       "(Float32[0.50752395 0.44827378 … 0.49574357 0.46908775], Dict{String,Array{Float32,N} where N}(\"A2\" => [0.50752395 0.44827378 … 0.49574357 0.46908775],\"A1\" => [0.0 0.0 … 0.0 0.0; 0.2682694 0.6815136 … 0.0348052 0.2630909; … ; 0.0 0.0 … 0.0 0.07128604; 0.21147422 0.49728242 … 0.0 0.19836868],\"A0\" => [0.06666667 0.76862746 … 0.08627451 0.03137255; 0.12156863 0.7529412 … 0.09411765 0.10980392; … ; 0.0 0.3137255 … 0.019607844 0.0; 0.0 0.31764707 … 0.0 0.0],\"Z2\" => [0.030098056 -0.20764787 … -0.0170261 -0.12380698],\"Z1\" => [-0.49418628 -0.71965206 … -0.14185269 -0.4087648; 0.2682694 0.6815136 … 0.0348052 0.2630909; … ; -0.09253468 -0.033902768 … -0.12035904 0.07128604; 0.21147422 0.49728242 … -0.05054159 0.19836868]))"
      ]
     },
     "execution_count": 54,
     "metadata": {},
     "output_type": "execute_result"
    }
   ],
   "source": [
    "@btime forward_prop($train_data_x, $parameters, $activations)"
   ]
  },
  {
   "cell_type": "code",
   "execution_count": 24,
   "metadata": {},
   "outputs": [
    {
     "data": {
      "text/plain": [
       "0.70402896f0"
      ]
     },
     "execution_count": 24,
     "metadata": {},
     "output_type": "execute_result"
    }
   ],
   "source": [
    "y_orig = Array{Float32, 2}(train_data_y_orig)\n",
    "cost = cost_binary(y_orig, y)"
   ]
  },
  {
   "cell_type": "code",
   "execution_count": 56,
   "metadata": {},
   "outputs": [
    {
     "name": "stdout",
     "output_type": "stream",
     "text": [
      "  4.328 μs (1 allocation: 1008 bytes)\n"
     ]
    },
    {
     "data": {
      "text/plain": [
       "0.67906153f0"
      ]
     },
     "execution_count": 56,
     "metadata": {},
     "output_type": "execute_result"
    }
   ],
   "source": [
    "@btime cost_binary($y_orig, $y)"
   ]
  },
  {
   "cell_type": "code",
   "execution_count": 25,
   "metadata": {},
   "outputs": [
    {
     "data": {
      "text/plain": [
       "Dict{String,Array{Float32,N} where N} with 4 entries:\n",
       "  \"dw1\" => Float32[-0.000152993 -0.000131177 … -9.79547e-5 -7.17154e-5; 0.00371…\n",
       "  \"dw2\" => Float32[0.000100806 0.00691432 … 0.00506449 0.0219995]\n",
       "  \"db2\" => Float32[0.176907]\n",
       "  \"db1\" => Float32[-0.000346978; 0.0116318; … ; -0.00401343; 0.0728398]"
      ]
     },
     "execution_count": 25,
     "metadata": {},
     "output_type": "execute_result"
    }
   ],
   "source": [
    "activations_back = (relu_back, sigmoid_back)\n",
    "grads = backward_prop(y_orig, y, parameters, caches, layer_dims, activations_back)"
   ]
  },
  {
   "cell_type": "code",
   "execution_count": 58,
   "metadata": {},
   "outputs": [
    {
     "name": "stdout",
     "output_type": "stream",
     "text": [
      "  4.291 ms (118 allocations: 11.13 MiB)\n"
     ]
    },
    {
     "data": {
      "text/plain": [
       "Dict{String,Array{Float32,N} where N} with 4 entries:\n",
       "  \"dw1\" => Float32[9.16046e-5 0.000189444 … 0.000311732 0.000235581; -0.0048612…\n",
       "  \"dw2\" => Float32[0.00429011 0.0378653 … 0.00325473 0.0385711]\n",
       "  \"db2\" => Float32[0.122613]\n",
       "  \"db1\" => Float32[0.000443472; -0.0184071; … ; -0.017111; -0.0128261]"
      ]
     },
     "execution_count": 58,
     "metadata": {},
     "output_type": "execute_result"
    }
   ],
   "source": [
    "@btime backward_prop($y_orig, $y, $parameters, $caches, $layer_dims, $activations_back) "
   ]
  },
  {
   "cell_type": "code",
   "execution_count": 26,
   "metadata": {},
   "outputs": [
    {
     "data": {
      "text/plain": [
       "Dict{String,Array{Float32,N} where N} with 4 entries:\n",
       "  \"W2\" => Float32[-0.0340573 0.210562 … -0.105929 0.575805]\n",
       "  \"W1\" => Float32[0.000618291 -0.00256079 … 0.00925934 -0.00127785; 0.00316973 …\n",
       "  \"b2\" => Float32[-1.76907e-7]\n",
       "  \"b1\" => Float32[3.46978e-10; -1.16318e-8; … ; 4.01343e-9; -7.28398e-8]"
      ]
     },
     "execution_count": 26,
     "metadata": {},
     "output_type": "execute_result"
    }
   ],
   "source": [
    "learning_rate = 0.000001\n",
    "parameters = update_parameters(parameters, grads, layer_dims, learning_rate)"
   ]
  },
  {
   "cell_type": "code",
   "execution_count": 60,
   "metadata": {},
   "outputs": [
    {
     "name": "stdout",
     "output_type": "stream",
     "text": [
      "  211.701 μs (87 allocations: 1.64 MiB)\n"
     ]
    },
    {
     "data": {
      "text/plain": [
       "Dict{String,Array{Float32,N} where N} with 4 entries:\n",
       "  \"W2\" => Float32[0.0151536 -0.15992 … -0.440818 -0.142001]\n",
       "  \"W1\" => Float32[0.0127349 -0.0128757 … -0.0117947 -0.00683415; -0.00448318 0.…\n",
       "  \"b2\" => Float32[-0.00245401]\n",
       "  \"b1\" => Float32[-8.87552e-6; 0.000368321; … ; 0.000342491; 0.000256664]"
      ]
     },
     "execution_count": 60,
     "metadata": {},
     "output_type": "execute_result"
    }
   ],
   "source": [
    "@btime update_parameters($parameters, $grads, $layer_dims, $learning_rate)"
   ]
  },
  {
   "cell_type": "code",
   "execution_count": 46,
   "metadata": {},
   "outputs": [
    {
     "name": "stdout",
     "output_type": "stream",
     "text": [
      "  5.981 ms (350 allocations: 14.45 MiB)\n"
     ]
    },
    {
     "data": {
      "text/plain": [
       "(Dict{String,Array{Float32,N} where N}(\"W2\" => [0.3276358 -0.2913516 … -0.056624386 1.2782983],\"W1\" => [0.011470085 0.011604643 … -0.0018633803 0.01096336; -0.0007123757 0.009185629 … 0.00059031637 -0.0012510043; … ; 0.0071292855 -0.017844321 … 0.015887309 -0.00911494; -0.016298955 -0.0042280867 … -0.014126171 0.0070554153],\"b2\" => [-0.0008734076],\"b1\" => [-0.00019166565; 0.00018358006; … ; 4.1828876e-5; -2.2047214e-5]), (relu, sigmoid))"
      ]
     },
     "execution_count": 46,
     "metadata": {},
     "output_type": "execute_result"
    }
   ],
   "source": [
    "@btime neural_network_dense($train_data_x, $train_data_y_orig, $layer_dims, 1, 0.0075)"
   ]
  },
  {
   "cell_type": "code",
   "execution_count": null,
   "metadata": {},
   "outputs": [],
   "source": []
  }
 ],
 "metadata": {
  "kernelspec": {
   "display_name": "Julia 1.3.0",
   "language": "julia",
   "name": "julia-1.3"
  },
  "language_info": {
   "file_extension": ".jl",
   "mimetype": "application/julia",
   "name": "julia",
   "version": "1.3.0"
  },
  "toc": {
   "base_numbering": 1,
   "nav_menu": {},
   "number_sections": true,
   "sideBar": true,
   "skip_h1_title": false,
   "title_cell": "Table of Contents",
   "title_sidebar": "Contents",
   "toc_cell": false,
   "toc_position": {},
   "toc_section_display": true,
   "toc_window_display": false
  },
  "varInspector": {
   "cols": {
    "lenName": 16,
    "lenType": 16,
    "lenVar": 40
   },
   "kernels_config": {
    "python": {
     "delete_cmd_postfix": "",
     "delete_cmd_prefix": "del ",
     "library": "var_list.py",
     "varRefreshCmd": "print(var_dic_list())"
    },
    "r": {
     "delete_cmd_postfix": ") ",
     "delete_cmd_prefix": "rm(",
     "library": "var_list.r",
     "varRefreshCmd": "cat(var_dic_list()) "
    }
   },
   "types_to_exclude": [
    "module",
    "function",
    "builtin_function_or_method",
    "instance",
    "_Feature"
   ],
   "window_display": false
  }
 },
 "nbformat": 4,
 "nbformat_minor": 2
}
