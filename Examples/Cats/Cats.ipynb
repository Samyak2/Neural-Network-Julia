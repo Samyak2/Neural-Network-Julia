{
 "cells": [
  {
   "cell_type": "code",
   "execution_count": 2,
   "metadata": {},
   "outputs": [
    {
     "name": "stderr",
     "output_type": "stream",
     "text": [
      "┌ Info: Precompiling HDF5 [f67ccb44-e63f-5c2f-98bd-6dc0ccc4ba2f]\n",
      "└ @ Base loading.jl:1273\n"
     ]
    }
   ],
   "source": [
    "using HDF5"
   ]
  },
  {
   "cell_type": "code",
   "execution_count": 3,
   "metadata": {},
   "outputs": [
    {
     "data": {
      "text/plain": [
       "\"datasets/test_catvnoncat.h5\""
      ]
     },
     "execution_count": 3,
     "metadata": {},
     "output_type": "execute_result"
    }
   ],
   "source": [
    "TRAIN_DATA_PATH=\"datasets/train_catvnoncat.h5\"\n",
    "TEST_DATA_PATH=\"datasets/test_catvnoncat.h5\""
   ]
  },
  {
   "cell_type": "code",
   "execution_count": 6,
   "metadata": {
    "scrolled": true
   },
   "outputs": [
    {
     "data": {
      "text/plain": [
       "209-element Array{Int64,1}:\n",
       " 0\n",
       " 0\n",
       " 1\n",
       " 0\n",
       " 0\n",
       " 0\n",
       " 0\n",
       " 1\n",
       " 0\n",
       " 0\n",
       " 0\n",
       " 1\n",
       " 0\n",
       " ⋮\n",
       " 1\n",
       " 0\n",
       " 0\n",
       " 1\n",
       " 0\n",
       " 0\n",
       " 0\n",
       " 0\n",
       " 0\n",
       " 0\n",
       " 0\n",
       " 0"
      ]
     },
     "execution_count": 6,
     "metadata": {},
     "output_type": "execute_result"
    }
   ],
   "source": [
    "train_data_x_orig = h5read(TRAIN_DATA_PATH, \"train_set_x\")\n",
    "train_data_y_orig = h5read(TRAIN_DATA_PATH, \"train_set_y\")"
   ]
  },
  {
   "cell_type": "code",
   "execution_count": 7,
   "metadata": {
    "scrolled": true
   },
   "outputs": [
    {
     "data": {
      "text/plain": [
       "50-element Array{Int64,1}:\n",
       " 1\n",
       " 1\n",
       " 1\n",
       " 1\n",
       " 1\n",
       " 0\n",
       " 1\n",
       " 1\n",
       " 1\n",
       " 1\n",
       " 1\n",
       " 1\n",
       " 1\n",
       " ⋮\n",
       " 0\n",
       " 0\n",
       " 1\n",
       " 1\n",
       " 1\n",
       " 0\n",
       " 0\n",
       " 0\n",
       " 1\n",
       " 1\n",
       " 1\n",
       " 0"
      ]
     },
     "execution_count": 7,
     "metadata": {},
     "output_type": "execute_result"
    }
   ],
   "source": [
    "test_data_x_orig = h5read(TEST_DATA_PATH, \"test_set_x\")\n",
    "test_data_y_orig = h5read(TEST_DATA_PATH, \"test_set_y\")"
   ]
  },
  {
   "cell_type": "code",
   "execution_count": 8,
   "metadata": {},
   "outputs": [
    {
     "data": {
      "text/plain": [
       "2-element Array{String,1}:\n",
       " \"non-cat\"\n",
       " \"cat\"    "
      ]
     },
     "execution_count": 8,
     "metadata": {},
     "output_type": "execute_result"
    }
   ],
   "source": [
    "classes = h5read(TEST_DATA_PATH, \"list_classes\")"
   ]
  },
  {
   "cell_type": "code",
   "execution_count": 9,
   "metadata": {},
   "outputs": [
    {
     "data": {
      "text/plain": [
       "1×209 Array{Int64,2}:\n",
       " 0  0  1  0  0  0  0  1  0  0  0  1  0  …  1  0  0  1  0  0  0  0  0  0  0  0"
      ]
     },
     "execution_count": 9,
     "metadata": {},
     "output_type": "execute_result"
    }
   ],
   "source": [
    "train_data_y_orig = reshape(train_data_y_orig, (1, size(train_data_y_orig)[1]))"
   ]
  },
  {
   "cell_type": "code",
   "execution_count": 10,
   "metadata": {},
   "outputs": [
    {
     "data": {
      "text/plain": [
       "1×50 Array{Int64,2}:\n",
       " 1  1  1  1  1  0  1  1  1  1  1  1  1  …  0  0  1  1  1  0  0  0  1  1  1  0"
      ]
     },
     "execution_count": 10,
     "metadata": {},
     "output_type": "execute_result"
    }
   ],
   "source": [
    "test_data_y_orig = reshape(test_data_y_orig, (1, size(test_data_y_orig)[1]))"
   ]
  },
  {
   "cell_type": "code",
   "execution_count": 21,
   "metadata": {},
   "outputs": [
    {
     "data": {
      "text/plain": [
       "reshape_image_array_reverse (generic function with 3 methods)"
      ]
     },
     "execution_count": 21,
     "metadata": {},
     "output_type": "execute_result"
    }
   ],
   "source": [
    "function reshape_image_array(image_array::Array{UInt8,4})\n",
    "    return reshape(image_array, :, size(image_array)[4])\n",
    "end\n",
    "function reshape_image_array_reverse(image_array::Array{UInt8,2})\n",
    "    return reshape(image_array, 64, 64, 3, :)\n",
    "end"
   ]
  },
  {
   "cell_type": "code",
   "execution_count": 136,
   "metadata": {},
   "outputs": [
    {
     "data": {
      "text/plain": [
       "12288×50 Array{Float32,2}:\n",
       " 0.619608  0.45098   1.0       0.996078  …  0.160784  0.0705882  0.521569 \n",
       " 0.407843  0.431373  0.992157  0.996078     0.184314  0.0705882  0.639216 \n",
       " 0.32549   0.435294  0.996078  0.952941     0.329412  0.0627451  0.294118 \n",
       " 0.631373  0.537255  1.0       1.0          0.282353  0.137255   0.384314 \n",
       " 0.415686  0.505882  0.992157  1.0          0.305882  0.141176   0.470588 \n",
       " 0.333333  0.505882  0.996078  0.964706  …  0.439216  0.121569   0.172549 \n",
       " 0.635294  0.607843  1.0       1.0          0.403922  0.211765   0.423529 \n",
       " 0.419608  0.572549  0.992157  1.0          0.4       0.223529   0.517647 \n",
       " 0.329412  0.568627  0.996078  0.992157     0.486275  0.203922   0.184314 \n",
       " 0.639216  0.623529  1.0       1.0          0.466667  0.313726   0.462745 \n",
       " 0.419608  0.596078  0.992157  1.0       …  0.447059  0.345098   0.576471 \n",
       " 0.329412  0.572549  0.996078  1.0          0.505882  0.313726   0.223529 \n",
       " 0.639216  0.607843  1.0       1.0          0.529412  0.407843   0.403922 \n",
       " ⋮                                       ⋱                                \n",
       " 0.647059  0.870588  0.490196  0.560784     0.509804  0.203922   0.0156863\n",
       " 0.47451   0.882353  0.423529  0.368627     0.419608  0.219608   0.109804 \n",
       " 0.407843  0.898039  0.458824  0.180392     0.482353  0.2        0.0196078\n",
       " 0.647059  0.831373  0.576471  0.498039     0.603922  0.188235   0.0313726\n",
       " 0.478431  0.843137  0.470588  0.317647  …  0.435294  0.196078   0.129412 \n",
       " 0.411765  0.862745  0.490196  0.156863     0.364706  0.172549   0.0470588\n",
       " 0.662745  0.752941  0.556863  0.470588     0.690196  0.403922   0.0509804\n",
       " 0.494118  0.768627  0.431373  0.301961     0.517647  0.403922   0.137255 \n",
       " 0.427451  0.796078  0.462745  0.14902      0.407843  0.34902    0.0705882\n",
       " 0.678431  0.670588  0.521569  0.505882  …  0.717647  0.564706   0.0196078\n",
       " 0.501961  0.690196  0.396078  0.329412     0.552941  0.537255   0.0862745\n",
       " 0.431373  0.729412  0.47451   0.168627     0.454902  0.423529   0.0196078"
      ]
     },
     "execution_count": 136,
     "metadata": {},
     "output_type": "execute_result"
    }
   ],
   "source": [
    "test_data_x = reshape_image_array(test_data_x_orig) ./ 255\n",
    "test_data_x = Array{Float32, 2}(test_data_x)"
   ]
  },
  {
   "cell_type": "code",
   "execution_count": 137,
   "metadata": {},
   "outputs": [
    {
     "data": {
      "text/plain": [
       "12288×209 Array{Float32,2}:\n",
       " 0.0666667  0.768627  0.321569  0.00392157  …  0.560784  0.0862745  0.0313726\n",
       " 0.121569   0.752941  0.278431  0.0862745      0.607843  0.0941176  0.109804 \n",
       " 0.219608   0.745098  0.266667  0.00784314     0.647059  0.0901961  0.207843 \n",
       " 0.0862745  0.756863  0.34902   0.00392157     0.721569  0.0901961  0.054902 \n",
       " 0.129412   0.729412  0.32549   0.054902       0.745098  0.0980392  0.129412 \n",
       " 0.231373   0.713726  0.32549   0.00784314  …  0.776471  0.0941176  0.227451 \n",
       " 0.0980392  0.737255  0.392157  0.00392157     0.556863  0.0941176  0.0745098\n",
       " 0.137255   0.701961  0.384314  0.0509804      0.584314  0.101961   0.137255 \n",
       " 0.243137   0.682353  0.407843  0.00392157     0.607843  0.0980392  0.239216 \n",
       " 0.0980392  0.835294  0.415686  0.0156863      0.529412  0.0941176  0.0745098\n",
       " 0.137255   0.760784  0.411765  0.113725    …  0.580392  0.101961   0.137255 \n",
       " 0.243137   0.756863  0.454902  0.0117647      0.596078  0.105882   0.239216 \n",
       " 0.105882   0.658824  0.462745  0.0392157      0.513726  0.117647   0.0627451\n",
       " ⋮                                          ⋱                                \n",
       " 0.0        0.32549   0.647059  0.054902       0.321569  0.0196078  0.0      \n",
       " 0.0        0.321569  0.662745  0.329412       0.415686  0.0156863  0.0      \n",
       " 0.0        0.313726  0.670588  0.105882       0.584314  0.0        0.0      \n",
       " 0.0        0.32549   0.603922  0.113725       0.317647  0.0156863  0.0      \n",
       " 0.0        0.321569  0.611765  0.345098    …  0.415686  0.0196078  0.0      \n",
       " 0.0        0.317647  0.627451  0.196078       0.588235  0.0        0.0      \n",
       " 0.0        0.329412  0.572549  0.054902       0.333333  0.0156863  0.0      \n",
       " 0.0        0.321569  0.580392  0.239216       0.423529  0.0196078  0.0      \n",
       " 0.0        0.321569  0.596078  0.101961       0.592157  0.0        0.0      \n",
       " 0.0        0.321569  0.541176  0.00784314  …  0.333333  0.0156863  0.0      \n",
       " 0.0        0.313726  0.552941  0.231373       0.419608  0.0196078  0.0      \n",
       " 0.0        0.317647  0.556863  0.00784314     0.584314  0.0        0.0      "
      ]
     },
     "execution_count": 137,
     "metadata": {},
     "output_type": "execute_result"
    }
   ],
   "source": [
    "train_data_x = reshape_image_array(train_data_x_orig) ./ 255\n",
    "train_data_x = Array{Float32, 2}(train_data_x)"
   ]
  },
  {
   "cell_type": "code",
   "execution_count": 138,
   "metadata": {},
   "outputs": [],
   "source": [
    "using Statistics"
   ]
  },
  {
   "cell_type": "code",
   "execution_count": 167,
   "metadata": {},
   "outputs": [
    {
     "data": {
      "text/plain": [
       "predict (generic function with 1 method)"
      ]
     },
     "execution_count": 167,
     "metadata": {},
     "output_type": "execute_result"
    }
   ],
   "source": [
    "include(\"../../NeuralNetwork.jl\")"
   ]
  },
  {
   "cell_type": "code",
   "execution_count": 173,
   "metadata": {},
   "outputs": [
    {
     "name": "stdout",
     "output_type": "stream",
     "text": [
      "(relu, sigmoid)\n",
      "(relu_back, sigmoid_back)\n",
      "\tInitial Mean of parameter W2 is 0.09781615\n",
      "\tInitial Variance of parameter W2 is 0.16806696\n",
      "\tInitial Mean of parameter W1 is 1.8055047e-5\n",
      "\tInitial Variance of parameter W1 is 8.116708e-5\n",
      "\tInitial Mean of parameter b2 is 0.0\n",
      "\tInitial Variance of parameter b2 is NaN\n",
      "\tInitial Mean of parameter b1 is 0.0\n",
      "\tInitial Variance of parameter b1 is 0.0\n",
      "Cost at iteration 100 is 0.58959836\n",
      "\tMean of parameter W2 is 0.085055895\n",
      "\tVariance of parameter W2 is 0.17748964\n",
      "\tMean of parameter W1 is -2.7825146e-5\n",
      "\tVariance of parameter W1 is 8.168661e-5\n",
      "\tMean of parameter b2 is -0.013863018\n",
      "\tVariance of parameter b2 is NaN\n",
      "\tMean of parameter b1 is 0.00079932617\n",
      "\tVariance of parameter b1 is 3.7481857e-6\n",
      "Cost at iteration 200 is 0.5312885\n",
      "\tMean of parameter W2 is 0.065058164\n",
      "\tVariance of parameter W2 is 0.196458\n",
      "\tMean of parameter W1 is -4.605148e-5\n",
      "\tVariance of parameter W1 is 8.276643e-5\n",
      "\tMean of parameter b2 is -0.011200184\n",
      "\tVariance of parameter b2 is NaN\n",
      "\tMean of parameter b1 is 0.0017408134\n",
      "\tVariance of parameter b1 is 1.2151572e-5\n",
      "Cost at iteration 300 is 0.46679622\n",
      "\tMean of parameter W2 is 0.044327054\n",
      "\tVariance of parameter W2 is 0.22238998\n",
      "\tMean of parameter W1 is 1.8174289e-5\n",
      "\tVariance of parameter W1 is 8.4404805e-5\n",
      "\tMean of parameter b2 is -0.0029690622\n",
      "\tVariance of parameter b2 is NaN\n",
      "\tMean of parameter b1 is 0.0029387337\n",
      "\tVariance of parameter b1 is 2.4999956e-5\n",
      "Cost at iteration 400 is 0.41392463\n",
      "\tMean of parameter W2 is 0.025122821\n",
      "\tVariance of parameter W2 is 0.25457773\n",
      "\tMean of parameter W1 is 6.545377e-5\n",
      "\tVariance of parameter W1 is 8.6674336e-5\n",
      "\tMean of parameter b2 is 0.00012279423\n",
      "\tVariance of parameter b2 is NaN\n",
      "\tMean of parameter b1 is 0.0038562685\n",
      "\tVariance of parameter b1 is 3.6943875e-5\n",
      "Cost at iteration 500 is 0.38928375\n",
      "\tMean of parameter W2 is 0.012137867\n",
      "\tVariance of parameter W2 is 0.28384128\n",
      "\tMean of parameter W1 is 8.410754e-5\n",
      "\tVariance of parameter W1 is 8.950092e-5\n",
      "\tMean of parameter b2 is 0.0023388576\n",
      "\tVariance of parameter b2 is NaN\n",
      "\tMean of parameter b1 is 0.004494364\n",
      "\tVariance of parameter b1 is 4.679032e-5\n",
      "Cost at iteration 600 is 0.3394399\n",
      "\tMean of parameter W2 is 0.0025723535\n",
      "\tVariance of parameter W2 is 0.31008238\n",
      "\tMean of parameter W1 is 8.8738205e-5\n",
      "\tVariance of parameter W1 is 9.280121e-5\n",
      "\tMean of parameter b2 is 0.0042392393\n",
      "\tVariance of parameter b2 is NaN\n",
      "\tMean of parameter b1 is 0.004964245\n",
      "\tVariance of parameter b1 is 5.4989443e-5\n",
      "Cost at iteration 700 is 0.3002965\n",
      "\tMean of parameter W2 is -0.0054540634\n",
      "\tVariance of parameter W2 is 0.3367616\n",
      "\tMean of parameter W1 is 8.729639e-5\n",
      "\tVariance of parameter W1 is 9.640693e-5\n",
      "\tMean of parameter b2 is 0.0067249644\n",
      "\tVariance of parameter b2 is NaN\n",
      "\tMean of parameter b1 is 0.0052637937\n",
      "\tVariance of parameter b1 is 5.9358183e-5\n",
      "Cost at iteration 800 is 0.26847655\n",
      "\tMean of parameter W2 is -0.012311543\n",
      "\tVariance of parameter W2 is 0.36431634\n",
      "\tMean of parameter W1 is 8.712657e-5\n",
      "\tVariance of parameter W1 is 0.00010019556\n",
      "\tMean of parameter b2 is 0.009604652\n",
      "\tVariance of parameter b2 is NaN\n",
      "\tMean of parameter b1 is 0.0054628295\n",
      "\tVariance of parameter b1 is 6.002365e-5\n",
      "Cost at iteration 900 is 0.18834744\n",
      "\tMean of parameter W2 is -0.018437296\n",
      "\tVariance of parameter W2 is 0.3935701\n",
      "\tMean of parameter W1 is 0.00013231437\n",
      "\tVariance of parameter W1 is 0.00010396898\n",
      "\tMean of parameter b2 is 0.012809609\n",
      "\tVariance of parameter b2 is NaN\n",
      "\tMean of parameter b1 is 0.005680319\n",
      "\tVariance of parameter b1 is 6.012106e-5\n",
      "Cost at iteration 1000 is 0.15355878\n",
      "\tMean of parameter W2 is -0.025123775\n",
      "\tVariance of parameter W2 is 0.42561468\n",
      "\tMean of parameter W1 is 0.0001496933\n",
      "\tVariance of parameter W1 is 0.000107540734\n",
      "\tMean of parameter b2 is 0.015745487\n",
      "\tVariance of parameter b2 is NaN\n",
      "\tMean of parameter b1 is 0.005792149\n",
      "\tVariance of parameter b1 is 5.963256e-5\n"
     ]
    },
    {
     "data": {
      "text/plain": [
       "(Dict{String,Array{Float32,N} where N}(\"W2\" => [-0.42544857 0.9675515 … -0.6099776 0.3687511],\"W1\" => [-0.010610555 0.008144683 … 0.0059850262 0.019291883; -0.0040354966 0.0013157723 … 0.0102731595 0.002488309; … ; -0.019092584 0.02234779 … 0.010451086 -0.0077486434; 0.008650074 0.02369215 … -0.005745986 0.006797685],\"b2\" => [0.015745487],\"b1\" => [0.00459581; -0.0013595674; … ; 0.0082442295; 0.0036061301]), (relu, sigmoid))"
      ]
     },
     "execution_count": 173,
     "metadata": {},
     "output_type": "execute_result"
    }
   ],
   "source": [
    "parameters, activations = neural_network_dense(train_data_x, train_data_y_orig, [12288, 7, 1], 1000, 0.0075)"
   ]
  },
  {
   "cell_type": "code",
   "execution_count": 175,
   "metadata": {},
   "outputs": [
    {
     "name": "stdout",
     "output_type": "stream",
     "text": [
      "Accuracy is 96.65071770334929%\n"
     ]
    },
    {
     "data": {
      "text/plain": [
       "([0.0 0.0 … 0.0 0.0], 0.9665071770334929)"
      ]
     },
     "execution_count": 175,
     "metadata": {},
     "output_type": "execute_result"
    }
   ],
   "source": [
    "predicts, accuracy = predict(train_data_x, train_data_y_orig, parameters, activations)"
   ]
  },
  {
   "cell_type": "code",
   "execution_count": 176,
   "metadata": {},
   "outputs": [
    {
     "name": "stdout",
     "output_type": "stream",
     "text": [
      "Accuracy is 76.0%\n"
     ]
    },
    {
     "data": {
      "text/plain": [
       "([1.0 1.0 … 1.0 0.0], 0.76)"
      ]
     },
     "execution_count": 176,
     "metadata": {},
     "output_type": "execute_result"
    }
   ],
   "source": [
    "predicts, accuracy = predict(test_data_x, test_data_y_orig, parameters, activations)"
   ]
  }
 ],
 "metadata": {
  "kernelspec": {
   "display_name": "Julia 1.3.0",
   "language": "julia",
   "name": "julia-1.3"
  },
  "language_info": {
   "file_extension": ".jl",
   "mimetype": "application/julia",
   "name": "julia",
   "version": "1.3.0"
  }
 },
 "nbformat": 4,
 "nbformat_minor": 2
}
