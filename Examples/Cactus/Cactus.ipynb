{
 "cells": [
  {
   "cell_type": "code",
   "execution_count": 1,
   "metadata": {},
   "outputs": [
    {
     "name": "stderr",
     "output_type": "stream",
     "text": [
      "┌ Info: Precompiling Images [916415d5-f1e6-5110-898d-aaa5f9f070e0]\n",
      "└ @ Base loading.jl:1273\n",
      "WARNING: ImageQualityIndexes.psnr is deprecated, use assess_psnr instead.\n",
      "  likely near C:\\Users\\SarnayakPC\\.julia\\packages\\Images\\RUVAg\\src\\Images.jl:60\n",
      "┌ Info: Precompiling JLD [4138dd39-2aa7-5051-a626-17a0bb65d9c8]\n",
      "└ @ Base loading.jl:1273\n"
     ]
    }
   ],
   "source": [
    "using FileIO, Images, JLD, Statistics"
   ]
  },
  {
   "cell_type": "code",
   "execution_count": 2,
   "metadata": {},
   "outputs": [
    {
     "data": {
      "text/plain": [
       "\"test/\""
      ]
     },
     "execution_count": 2,
     "metadata": {},
     "output_type": "execute_result"
    }
   ],
   "source": [
    "TRAIN_IMAGES_DIR = \"train/\"\n",
    "TEST_IMAGES_DIR = \"test/\""
   ]
  },
  {
   "cell_type": "code",
   "execution_count": 3,
   "metadata": {},
   "outputs": [
    {
     "data": {
      "text/plain": [
       "images_in_dir (generic function with 1 method)"
      ]
     },
     "execution_count": 3,
     "metadata": {},
     "output_type": "execute_result"
    }
   ],
   "source": [
    "function images_in_dir(DIR::String)\n",
    "    images = String[]\n",
    "    for file in readdir(DIR)\n",
    "        if endswith(file, \".jpg\")\n",
    "            push!(images, joinpath(DIR, file))\n",
    "        end\n",
    "    end\n",
    "    return images\n",
    "end"
   ]
  },
  {
   "cell_type": "code",
   "execution_count": 4,
   "metadata": {},
   "outputs": [
    {
     "data": {
      "text/plain": [
       "load_image (generic function with 1 method)"
      ]
     },
     "execution_count": 4,
     "metadata": {},
     "output_type": "execute_result"
    }
   ],
   "source": [
    "function load_image(path::String)\n",
    "    img = load(path)\n",
    "    arr = channelview(img)\n",
    "    return (permuteddimsview(arr, [2, 3, 1]))\n",
    "end"
   ]
  },
  {
   "cell_type": "code",
   "execution_count": 5,
   "metadata": {},
   "outputs": [
    {
     "data": {
      "text/plain": [
       "4000-element Array{String,1}:\n",
       " \"test/000940378805c44108d287872b2f04ce.jpg\"\n",
       " \"test/0017242f54ececa4512b4d7937d1e21e.jpg\"\n",
       " \"test/001ee6d8564003107853118ab87df407.jpg\"\n",
       " \"test/002e175c3c1e060769475f52182583d0.jpg\"\n",
       " \"test/0036e44a7e8f7218e9bc7bf8137e4943.jpg\"\n",
       " \"test/0038ed6f7417b8275b393307f66cb1e3.jpg\"\n",
       " \"test/0059dfa41de4441fc23b9a4b98ba99cb.jpg\"\n",
       " \"test/0061bd302d735db829418cb90b4e6040.jpg\"\n",
       " \"test/00754573d8c7223e73da553dd43780bd.jpg\"\n",
       " \"test/008d9fce71c8e03a4c9cdd15ea908573.jpg\"\n",
       " \"test/00a36d4d6d152404670276fc983273bc.jpg\"\n",
       " \"test/00b706122b87e0fa275ff59e39d4d94b.jpg\"\n",
       " \"test/00c054da839d5518e59790f7d867f317.jpg\"\n",
       " ⋮                                          \n",
       " \"test/ff680e4f9bb7283eaf4cbc7530099657.jpg\"\n",
       " \"test/ff6d1ceccb9e19e750fc7e2c637c3c83.jpg\"\n",
       " \"test/ff6f8ae36c1d66214127fe5008789407.jpg\"\n",
       " \"test/ff7403812efdc9ec93301c32e8f39c30.jpg\"\n",
       " \"test/ff8bc1e0fe61fba8ea9a05c91cd0933a.jpg\"\n",
       " \"test/ff9937f41664d329822e72c6a14d3f16.jpg\"\n",
       " \"test/ff9c0bafab5f89febd18c1d6865c079b.jpg\"\n",
       " \"test/ffaafd0c9f2f0e73172848463bc2e523.jpg\"\n",
       " \"test/ffae37344310a1549162493237d25d3f.jpg\"\n",
       " \"test/ffbd469c56873d064326204aac546e0d.jpg\"\n",
       " \"test/ffcb76b7d47f29ece11c751e5f763f52.jpg\"\n",
       " \"test/fffed17d1a8e0433a934db518d7f532c.jpg\""
      ]
     },
     "execution_count": 5,
     "metadata": {},
     "output_type": "execute_result"
    }
   ],
   "source": [
    "train_images = images_in_dir(TRAIN_IMAGES_DIR)\n",
    "test_images = images_in_dir(TEST_IMAGES_DIR)"
   ]
  },
  {
   "cell_type": "code",
   "execution_count": 6,
   "metadata": {},
   "outputs": [
    {
     "data": {
      "text/plain": [
       "load_all_images (generic function with 1 method)"
      ]
     },
     "execution_count": 6,
     "metadata": {},
     "output_type": "execute_result"
    }
   ],
   "source": [
    "function load_all_images(paths_vector)\n",
    "    images_vector = Array{Float32}(undef, 32, 32, 3, 0)\n",
    "    i = 0\n",
    "    for image_file in paths_vector\n",
    "        images_vector = cat(images_vector, load_image(image_file), dims=4)\n",
    "        i += 1\n",
    "        if i%100==0\n",
    "            println(string(\"Processing image no. \", i, \" in thread \", Threads.threadid()))\n",
    "        end\n",
    "    end\n",
    "    return images_vector\n",
    "end"
   ]
  },
  {
   "cell_type": "code",
   "execution_count": 7,
   "metadata": {},
   "outputs": [
    {
     "data": {
      "text/plain": [
       "load_images_parallel (generic function with 1 method)"
      ]
     },
     "execution_count": 7,
     "metadata": {},
     "output_type": "execute_result"
    }
   ],
   "source": [
    "function load_images_parallel(paths_vector, num_bins)\n",
    "    len = length(paths_vector) # Number of images\n",
    "    bin_size = floor(UInt, len/num_bins) # Size of each bin\n",
    "    all_bins = Vector{String}[] # To store image filenames in each bin\n",
    "    # Create bins of images filenames\n",
    "    for bin=1:num_bins-1\n",
    "        paths_bin = paths_vector[(bin-1)*bin_size+1 : bin*bin_size]\n",
    "        push!(all_bins, paths_bin)\n",
    "    end\n",
    "    # Add last bin with all extra images\n",
    "    push!(all_bins, paths_vector[(num_bins-1)*bin_size+1 : len])\n",
    "    bins = Vector{Array{Float32, 4}}(undef, num_bins) # To store bins of actual image arrays\n",
    "    # Load each bin - multithreaded\n",
    "    Threads.@threads for i = 1:num_bins\n",
    "        bins[i] = load_all_images(all_bins[i])\n",
    "    end\n",
    "    # single array to store all images\n",
    "    images_array = Array{Float32}(undef, 32, 32, 3, 0)\n",
    "    # Concatenate all bins into single array\n",
    "    for bin in bins\n",
    "        images_array = cat(images_array, bin, dims=4)\n",
    "    end\n",
    "    return images_array\n",
    "end"
   ]
  },
  {
   "cell_type": "code",
   "execution_count": 1,
   "metadata": {},
   "outputs": [
    {
     "data": {
      "text/plain": [
       "6"
      ]
     },
     "execution_count": 1,
     "metadata": {},
     "output_type": "execute_result"
    }
   ],
   "source": [
    "Threads.nthreads()"
   ]
  },
  {
   "cell_type": "code",
   "execution_count": 2,
   "metadata": {},
   "outputs": [
    {
     "ename": "UndefVarError",
     "evalue": "UndefVarError: test_images not defined",
     "output_type": "error",
     "traceback": [
      "UndefVarError: test_images not defined",
      "",
      "Stacktrace:",
      " [1] top-level scope at In[2]:1"
     ]
    }
   ],
   "source": [
    "test_images = sort(test_images)\n",
    "train_images = sort(train_images)"
   ]
  },
  {
   "cell_type": "code",
   "execution_count": 10,
   "metadata": {
    "scrolled": true
   },
   "outputs": [
    {
     "name": "stderr",
     "output_type": "stream",
     "text": [
      "Error encountered while loading \"D:\\\\DEV\\\\Julia\\\\Neural-Network-Julia\\\\Examples\\\\Cactus\\\\test\\\\326aa107b08bffc5d871ccd8204821e6.jpg\".\n",
      "Error encountered while loading \"D:\\\\DEV\\\\Julia\\\\Neural-Network-Julia\\\\Examples\\\\Cactus\\\\test\\\\ce01427a36dd8cdf44b6eeb77b50fb67.jpg\".\n",
      "Error encountered while loading \"D:\\\\DEV\\\\Julia\\\\Neural-Network-Julia\\\\Examples\\\\Cactus\\\\test\\\\e747de9dbf3428e391449489dee3edcc.jpg\".\n",
      "\n",
      "Fatal error:\n",
      "\n",
      "Fatal error:\n",
      "Error encountered while loading \"D:\\\\DEV\\\\Julia\\\\Neural-Network-Julia\\\\Examples\\\\Cactus\\\\test\\\\000940378805c44108d287872b2f04ce.jpg\".\n",
      "\n",
      "Fatal error:\n",
      "\n",
      "Fatal error:\n"
     ]
    },
    {
     "ename": "TaskFailedException",
     "evalue": "TaskFailedException:\nconcurrency violation detected\nStacktrace:\n [1] handle_error(::ErrorException, ::File{DataFormat{:JPEG}}) at C:\\Users\\SarnayakPC\\.julia\\packages\\FileIO\\Glbhe\\src\\error_handling.jl:82\n [2] handle_exceptions(::Array{Any,1}, ::String) at C:\\Users\\SarnayakPC\\.julia\\packages\\FileIO\\Glbhe\\src\\error_handling.jl:77\n [3] #load#27(::Base.Iterators.Pairs{Union{},Union{},Tuple{},NamedTuple{(),Tuple{}}}, ::typeof(load), ::Formatted) at C:\\Users\\SarnayakPC\\.julia\\packages\\FileIO\\Glbhe\\src\\loadsave.jl:189\n [4] load(::Formatted) at C:\\Users\\SarnayakPC\\.julia\\packages\\FileIO\\Glbhe\\src\\loadsave.jl:169\n [5] #load#13(::Base.Iterators.Pairs{Union{},Union{},Tuple{},NamedTuple{(),Tuple{}}}, ::typeof(load), ::String) at C:\\Users\\SarnayakPC\\.julia\\packages\\FileIO\\Glbhe\\src\\loadsave.jl:118\n [6] load at C:\\Users\\SarnayakPC\\.julia\\packages\\FileIO\\Glbhe\\src\\loadsave.jl:118 [inlined]\n [7] load_image(::String) at .\\In[4]:2\n [8] load_all_images(::Array{String,1}) at .\\In[6]:5\n [9] macro expansion at .\\In[7]:15 [inlined]\n [10] (::var\"#3#threadsfor_fun#3\"{Array{Array{String,1},1},Array{Array{Float32,4},1},UnitRange{Int64}})(::Bool) at .\\threadingconstructs.jl:61\n [11] (::var\"#3#threadsfor_fun#3\"{Array{Array{String,1},1},Array{Array{Float32,4},1},UnitRange{Int64}})() at .\\threadingconstructs.jl:28",
     "output_type": "error",
     "traceback": [
      "TaskFailedException:\nconcurrency violation detected\nStacktrace:\n [1] handle_error(::ErrorException, ::File{DataFormat{:JPEG}}) at C:\\Users\\SarnayakPC\\.julia\\packages\\FileIO\\Glbhe\\src\\error_handling.jl:82\n [2] handle_exceptions(::Array{Any,1}, ::String) at C:\\Users\\SarnayakPC\\.julia\\packages\\FileIO\\Glbhe\\src\\error_handling.jl:77\n [3] #load#27(::Base.Iterators.Pairs{Union{},Union{},Tuple{},NamedTuple{(),Tuple{}}}, ::typeof(load), ::Formatted) at C:\\Users\\SarnayakPC\\.julia\\packages\\FileIO\\Glbhe\\src\\loadsave.jl:189\n [4] load(::Formatted) at C:\\Users\\SarnayakPC\\.julia\\packages\\FileIO\\Glbhe\\src\\loadsave.jl:169\n [5] #load#13(::Base.Iterators.Pairs{Union{},Union{},Tuple{},NamedTuple{(),Tuple{}}}, ::typeof(load), ::String) at C:\\Users\\SarnayakPC\\.julia\\packages\\FileIO\\Glbhe\\src\\loadsave.jl:118\n [6] load at C:\\Users\\SarnayakPC\\.julia\\packages\\FileIO\\Glbhe\\src\\loadsave.jl:118 [inlined]\n [7] load_image(::String) at .\\In[4]:2\n [8] load_all_images(::Array{String,1}) at .\\In[6]:5\n [9] macro expansion at .\\In[7]:15 [inlined]\n [10] (::var\"#3#threadsfor_fun#3\"{Array{Array{String,1},1},Array{Array{Float32,4},1},UnitRange{Int64}})(::Bool) at .\\threadingconstructs.jl:61\n [11] (::var\"#3#threadsfor_fun#3\"{Array{Array{String,1},1},Array{Array{Float32,4},1},UnitRange{Int64}})() at .\\threadingconstructs.jl:28",
      "",
      "Stacktrace:",
      " [1] wait(::Task) at .\\task.jl:251",
      " [2] macro expansion at .\\threadingconstructs.jl:69 [inlined]",
      " [3] load_images_parallel(::Array{String,1}, ::Int64) at .\\In[7]:14"
     ]
    },
    {
     "name": "stderr",
     "output_type": "stream",
     "text": [
      "Error encountered while loading \"D:\\\\DEV\\\\Julia\\\\Neural-Network-Julia\\\\Examples\\\\Cactus\\\\test\\\\97655c74928a8ba0e01a88401b552622.jpg\".\n"
     ]
    }
   ],
   "source": [
    "test_X_orig = load_images_parallel(test_images, 10)"
   ]
  },
  {
   "cell_type": "code",
   "execution_count": 11,
   "metadata": {
    "collapsed": true
   },
   "outputs": [
    {
     "name": "stderr",
     "output_type": "stream",
     "text": [
      "\n",
      "Fatal error:\n",
      "Error encountered while loading \"D:\\\\DEV\\\\Julia\\\\Neural-Network-Julia\\\\Examples\\\\Cactus\\\\train\\\\29fe6068a04efb03f9b961a05ee4e967.jpg\".\n",
      "Error encountered while loading \"D:\\\\DEV\\\\Julia\\\\Neural-Network-Julia\\\\Examples\\\\Cactus\\\\train\\\\d5d584d78cd16b8f7c8e90e7d9efa79b.jpg\".\n",
      "Error encountered while loading \"D:\\\\DEV\\\\Julia\\\\Neural-Network-Julia\\\\Examples\\\\Cactus\\\\train\\\\ac1ab46d2346801b4dc27b596b33e351.jpg\".\n",
      "\n",
      "Fatal error:\n",
      "\n",
      "Fatal error:\n",
      "Error encountered while loading \"D:\\\\DEV\\\\Julia\\\\Neural-Network-Julia\\\\Examples\\\\Cactus\\\\train\\\\801988047299981a98a04b2cdf639af1.jpg\".\n",
      "\n",
      "Fatal error:\n",
      "Error encountered while loading \"D:\\\\DEV\\\\Julia\\\\Neural-Network-Julia\\\\Examples\\\\Cactus\\\\train\\\\0004be2cfeaba1c0361d39e2b000257b.jpg\".\n",
      "\n",
      "Fatal error:\n",
      "\n",
      "Fatal error:\n"
     ]
    },
    {
     "ename": "TaskFailedException",
     "evalue": "TaskFailedException:\nconcurrency violation detected\nStacktrace:\n [1] handle_error(::ErrorException, ::File{DataFormat{:JPEG}}) at C:\\Users\\SarnayakPC\\.julia\\packages\\FileIO\\Glbhe\\src\\error_handling.jl:82\n [2] handle_exceptions(::Array{Any,1}, ::String) at C:\\Users\\SarnayakPC\\.julia\\packages\\FileIO\\Glbhe\\src\\error_handling.jl:77\n [3] #load#27(::Base.Iterators.Pairs{Union{},Union{},Tuple{},NamedTuple{(),Tuple{}}}, ::typeof(load), ::Formatted) at C:\\Users\\SarnayakPC\\.julia\\packages\\FileIO\\Glbhe\\src\\loadsave.jl:189\n [4] load(::Formatted) at C:\\Users\\SarnayakPC\\.julia\\packages\\FileIO\\Glbhe\\src\\loadsave.jl:169\n [5] #load#13(::Base.Iterators.Pairs{Union{},Union{},Tuple{},NamedTuple{(),Tuple{}}}, ::typeof(load), ::String) at C:\\Users\\SarnayakPC\\.julia\\packages\\FileIO\\Glbhe\\src\\loadsave.jl:118\n [6] load at C:\\Users\\SarnayakPC\\.julia\\packages\\FileIO\\Glbhe\\src\\loadsave.jl:118 [inlined]\n [7] load_image(::String) at .\\In[4]:2\n [8] load_all_images(::Array{String,1}) at .\\In[6]:5\n [9] macro expansion at .\\In[7]:15 [inlined]\n [10] (::var\"#3#threadsfor_fun#3\"{Array{Array{String,1},1},Array{Array{Float32,4},1},UnitRange{Int64}})(::Bool) at .\\threadingconstructs.jl:61\n [11] (::var\"#3#threadsfor_fun#3\"{Array{Array{String,1},1},Array{Array{Float32,4},1},UnitRange{Int64}})() at .\\threadingconstructs.jl:28",
     "output_type": "error",
     "traceback": [
      "TaskFailedException:\nconcurrency violation detected\nStacktrace:\n [1] handle_error(::ErrorException, ::File{DataFormat{:JPEG}}) at C:\\Users\\SarnayakPC\\.julia\\packages\\FileIO\\Glbhe\\src\\error_handling.jl:82\n [2] handle_exceptions(::Array{Any,1}, ::String) at C:\\Users\\SarnayakPC\\.julia\\packages\\FileIO\\Glbhe\\src\\error_handling.jl:77\n [3] #load#27(::Base.Iterators.Pairs{Union{},Union{},Tuple{},NamedTuple{(),Tuple{}}}, ::typeof(load), ::Formatted) at C:\\Users\\SarnayakPC\\.julia\\packages\\FileIO\\Glbhe\\src\\loadsave.jl:189\n [4] load(::Formatted) at C:\\Users\\SarnayakPC\\.julia\\packages\\FileIO\\Glbhe\\src\\loadsave.jl:169\n [5] #load#13(::Base.Iterators.Pairs{Union{},Union{},Tuple{},NamedTuple{(),Tuple{}}}, ::typeof(load), ::String) at C:\\Users\\SarnayakPC\\.julia\\packages\\FileIO\\Glbhe\\src\\loadsave.jl:118\n [6] load at C:\\Users\\SarnayakPC\\.julia\\packages\\FileIO\\Glbhe\\src\\loadsave.jl:118 [inlined]\n [7] load_image(::String) at .\\In[4]:2\n [8] load_all_images(::Array{String,1}) at .\\In[6]:5\n [9] macro expansion at .\\In[7]:15 [inlined]\n [10] (::var\"#3#threadsfor_fun#3\"{Array{Array{String,1},1},Array{Array{Float32,4},1},UnitRange{Int64}})(::Bool) at .\\threadingconstructs.jl:61\n [11] (::var\"#3#threadsfor_fun#3\"{Array{Array{String,1},1},Array{Array{Float32,4},1},UnitRange{Int64}})() at .\\threadingconstructs.jl:28",
      "",
      "Stacktrace:",
      " [1] wait(::Task) at .\\task.jl:251",
      " [2] macro expansion at .\\threadingconstructs.jl:69 [inlined]",
      " [3] load_images_parallel(::Array{String,1}, ::Int64) at .\\In[7]:14",
      " [4] top-level scope at In[11]:1"
     ]
    }
   ],
   "source": [
    "train_X_orig = load_images_parallel(train_images, 100)"
   ]
  },
  {
   "cell_type": "code",
   "execution_count": 12,
   "metadata": {},
   "outputs": [
    {
     "ename": "UndefVarError",
     "evalue": "UndefVarError: test_X_orig not defined",
     "output_type": "error",
     "traceback": [
      "UndefVarError: test_X_orig not defined",
      "",
      "Stacktrace:",
      " [1] top-level scope at In[12]:1"
     ]
    }
   ],
   "source": [
    "save(\"dataset.jld\", \"test_X_orig\", test_X_orig, \"train_X_orig\", train_X_orig)"
   ]
  },
  {
   "cell_type": "markdown",
   "metadata": {},
   "source": [
    "## Train"
   ]
  },
  {
   "cell_type": "code",
   "execution_count": 5,
   "metadata": {},
   "outputs": [],
   "source": [
    "using CSV\n",
    "using DataFrames\n",
    "using JLD\n",
    "using Images\n",
    "using Statistics"
   ]
  },
  {
   "cell_type": "code",
   "execution_count": 4,
   "metadata": {},
   "outputs": [
    {
     "data": {
      "text/html": [
       "<table class=\"data-frame\"><thead><tr><th></th><th>id</th><th>has_cactus</th></tr><tr><th></th><th>String</th><th>Int64</th></tr></thead><tbody><p>17,500 rows × 2 columns</p><tr><th>1</th><td>0004be2cfeaba1c0361d39e2b000257b.jpg</td><td>1</td></tr><tr><th>2</th><td>000c8a36845c0208e833c79c1bffedd1.jpg</td><td>1</td></tr><tr><th>3</th><td>000d1e9a533f62e55c289303b072733d.jpg</td><td>1</td></tr><tr><th>4</th><td>0011485b40695e9138e92d0b3fb55128.jpg</td><td>1</td></tr><tr><th>5</th><td>0014d7a11e90b62848904c1418fc8cf2.jpg</td><td>1</td></tr><tr><th>6</th><td>0017c3c18ddd57a2ea6f9848c79d83d2.jpg</td><td>1</td></tr><tr><th>7</th><td>002134abf28af54575c18741b89dd2a4.jpg</td><td>0</td></tr><tr><th>8</th><td>0024320f43bdd490562246435af4f90b.jpg</td><td>0</td></tr><tr><th>9</th><td>002930423b9840e67e5a54afd4768a1e.jpg</td><td>1</td></tr><tr><th>10</th><td>00351838ebf6dff6e53056e00a1e307c.jpg</td><td>1</td></tr><tr><th>11</th><td>003519dd841a97ed16481fa0657df04d.jpg</td><td>1</td></tr><tr><th>12</th><td>003bb64852016d9c87871ddd8e25ab03.jpg</td><td>0</td></tr><tr><th>13</th><td>003ec9bcef67171ba49fe4c3b7c80aec.jpg</td><td>1</td></tr><tr><th>14</th><td>003eeb9a86e36cd6328c778c15df890d.jpg</td><td>1</td></tr><tr><th>15</th><td>0045d0f2aec739370eaefac79ee5b96c.jpg</td><td>0</td></tr><tr><th>16</th><td>004fceec9b9b6a31dc9b0540fd69c692.jpg</td><td>1</td></tr><tr><th>17</th><td>0051207eb794887c619341090de84b50.jpg</td><td>0</td></tr><tr><th>18</th><td>0052d90950c3f08ed778d638a956fd43.jpg</td><td>0</td></tr><tr><th>19</th><td>0057728c8522c4881af60c3105b6492e.jpg</td><td>0</td></tr><tr><th>20</th><td>005aa32619d179665ecad3b227f8b537.jpg</td><td>1</td></tr><tr><th>21</th><td>0062380830fe60c692a148afe64906ac.jpg</td><td>0</td></tr><tr><th>22</th><td>00677f0440d465c2a685e33ded9bb729.jpg</td><td>1</td></tr><tr><th>23</th><td>006bceec83605c63d844ed160cdbba89.jpg</td><td>1</td></tr><tr><th>24</th><td>007a6a49d6049207f1716d1cc0fdf175.jpg</td><td>1</td></tr><tr><th>25</th><td>007eba3edaf50d328eb0b668ab2f8d52.jpg</td><td>1</td></tr><tr><th>26</th><td>0085d61fa046172fa53f4c2cb76d8641.jpg</td><td>1</td></tr><tr><th>27</th><td>0086c5ddeb9e0b1f5ed6baedceece668.jpg</td><td>1</td></tr><tr><th>28</th><td>008bd3d84a1145e154409c124de7cee9.jpg</td><td>1</td></tr><tr><th>29</th><td>008ce77c81fdfd4a29c128207916c1b0.jpg</td><td>1</td></tr><tr><th>30</th><td>008d5b24c8348d3f52e84e4f7e2780b1.jpg</td><td>1</td></tr><tr><th>&vellip;</th><td>&vellip;</td><td>&vellip;</td></tr></tbody></table>"
      ],
      "text/latex": [
       "\\begin{tabular}{r|cc}\n",
       "\t& id & has\\_cactus\\\\\n",
       "\t\\hline\n",
       "\t& String & Int64\\\\\n",
       "\t\\hline\n",
       "\t1 & 0004be2cfeaba1c0361d39e2b000257b.jpg & 1 \\\\\n",
       "\t2 & 000c8a36845c0208e833c79c1bffedd1.jpg & 1 \\\\\n",
       "\t3 & 000d1e9a533f62e55c289303b072733d.jpg & 1 \\\\\n",
       "\t4 & 0011485b40695e9138e92d0b3fb55128.jpg & 1 \\\\\n",
       "\t5 & 0014d7a11e90b62848904c1418fc8cf2.jpg & 1 \\\\\n",
       "\t6 & 0017c3c18ddd57a2ea6f9848c79d83d2.jpg & 1 \\\\\n",
       "\t7 & 002134abf28af54575c18741b89dd2a4.jpg & 0 \\\\\n",
       "\t8 & 0024320f43bdd490562246435af4f90b.jpg & 0 \\\\\n",
       "\t9 & 002930423b9840e67e5a54afd4768a1e.jpg & 1 \\\\\n",
       "\t10 & 00351838ebf6dff6e53056e00a1e307c.jpg & 1 \\\\\n",
       "\t11 & 003519dd841a97ed16481fa0657df04d.jpg & 1 \\\\\n",
       "\t12 & 003bb64852016d9c87871ddd8e25ab03.jpg & 0 \\\\\n",
       "\t13 & 003ec9bcef67171ba49fe4c3b7c80aec.jpg & 1 \\\\\n",
       "\t14 & 003eeb9a86e36cd6328c778c15df890d.jpg & 1 \\\\\n",
       "\t15 & 0045d0f2aec739370eaefac79ee5b96c.jpg & 0 \\\\\n",
       "\t16 & 004fceec9b9b6a31dc9b0540fd69c692.jpg & 1 \\\\\n",
       "\t17 & 0051207eb794887c619341090de84b50.jpg & 0 \\\\\n",
       "\t18 & 0052d90950c3f08ed778d638a956fd43.jpg & 0 \\\\\n",
       "\t19 & 0057728c8522c4881af60c3105b6492e.jpg & 0 \\\\\n",
       "\t20 & 005aa32619d179665ecad3b227f8b537.jpg & 1 \\\\\n",
       "\t21 & 0062380830fe60c692a148afe64906ac.jpg & 0 \\\\\n",
       "\t22 & 00677f0440d465c2a685e33ded9bb729.jpg & 1 \\\\\n",
       "\t23 & 006bceec83605c63d844ed160cdbba89.jpg & 1 \\\\\n",
       "\t24 & 007a6a49d6049207f1716d1cc0fdf175.jpg & 1 \\\\\n",
       "\t25 & 007eba3edaf50d328eb0b668ab2f8d52.jpg & 1 \\\\\n",
       "\t26 & 0085d61fa046172fa53f4c2cb76d8641.jpg & 1 \\\\\n",
       "\t27 & 0086c5ddeb9e0b1f5ed6baedceece668.jpg & 1 \\\\\n",
       "\t28 & 008bd3d84a1145e154409c124de7cee9.jpg & 1 \\\\\n",
       "\t29 & 008ce77c81fdfd4a29c128207916c1b0.jpg & 1 \\\\\n",
       "\t30 & 008d5b24c8348d3f52e84e4f7e2780b1.jpg & 1 \\\\\n",
       "\t$\\dots$ & $\\dots$ & $\\dots$ \\\\\n",
       "\\end{tabular}\n"
      ],
      "text/plain": [
       "17500×2 DataFrame\n",
       "│ Row   │ id                                   │ has_cactus │\n",
       "│       │ \u001b[90mString\u001b[39m                               │ \u001b[90mInt64\u001b[39m      │\n",
       "├───────┼──────────────────────────────────────┼────────────┤\n",
       "│ 1     │ 0004be2cfeaba1c0361d39e2b000257b.jpg │ 1          │\n",
       "│ 2     │ 000c8a36845c0208e833c79c1bffedd1.jpg │ 1          │\n",
       "│ 3     │ 000d1e9a533f62e55c289303b072733d.jpg │ 1          │\n",
       "│ 4     │ 0011485b40695e9138e92d0b3fb55128.jpg │ 1          │\n",
       "│ 5     │ 0014d7a11e90b62848904c1418fc8cf2.jpg │ 1          │\n",
       "│ 6     │ 0017c3c18ddd57a2ea6f9848c79d83d2.jpg │ 1          │\n",
       "│ 7     │ 002134abf28af54575c18741b89dd2a4.jpg │ 0          │\n",
       "│ 8     │ 0024320f43bdd490562246435af4f90b.jpg │ 0          │\n",
       "│ 9     │ 002930423b9840e67e5a54afd4768a1e.jpg │ 1          │\n",
       "│ 10    │ 00351838ebf6dff6e53056e00a1e307c.jpg │ 1          │\n",
       "⋮\n",
       "│ 17490 │ ffded2566b32d90c8fc9fe116ce1ba6f.jpg │ 1          │\n",
       "│ 17491 │ ffe49c4570c6d3be26d63c8c3aecdc91.jpg │ 1          │\n",
       "│ 17492 │ ffe60470e1ee7fed0833148bf83b7d4c.jpg │ 0          │\n",
       "│ 17493 │ ffe6c69f8beced1c36f1dd1def313490.jpg │ 1          │\n",
       "│ 17494 │ ffeafc3bd716a83bc93014fdb0ef53fa.jpg │ 1          │\n",
       "│ 17495 │ ffed5c4d70e58d53fbba6e92570371ef.jpg │ 1          │\n",
       "│ 17496 │ ffede47a74e47a5930f81c0b6896479e.jpg │ 0          │\n",
       "│ 17497 │ ffef6382a50d23251d4bc05519c91037.jpg │ 1          │\n",
       "│ 17498 │ fff059ecc91b30be5745e8b81111dc7b.jpg │ 1          │\n",
       "│ 17499 │ fff43acb3b7a23edcc4ae937be2b7522.jpg │ 0          │\n",
       "│ 17500 │ fffd9e9b990eba07c836745d8aef1a3a.jpg │ 1          │"
      ]
     },
     "execution_count": 4,
     "metadata": {},
     "output_type": "execute_result"
    }
   ],
   "source": [
    "input_file = \"train.csv\"\n",
    "df = CSV.read(input_file)"
   ]
  },
  {
   "cell_type": "code",
   "execution_count": 60,
   "metadata": {},
   "outputs": [
    {
     "data": {
      "text/plain": [
       "extract_Y_from_csv (generic function with 1 method)"
      ]
     },
     "execution_count": 60,
     "metadata": {},
     "output_type": "execute_result"
    }
   ],
   "source": [
    "function extract_Y_from_csv(input_file)\n",
    "    df = CSV.read(input_file)\n",
    "    df = sort(df, [:id])\n",
    "    images = df[!, :id]\n",
    "    Y = df[!, :has_cactus]\n",
    "    \n",
    "    return Y, images\n",
    "end"
   ]
  },
  {
   "cell_type": "code",
   "execution_count": 63,
   "metadata": {},
   "outputs": [
    {
     "data": {
      "text/plain": [
       "([1, 1, 1, 1, 1, 1, 0, 0, 1, 1  …  1, 0, 1, 1, 1, 0, 1, 1, 0, 1], [\"0004be2cfeaba1c0361d39e2b000257b.jpg\", \"000c8a36845c0208e833c79c1bffedd1.jpg\", \"000d1e9a533f62e55c289303b072733d.jpg\", \"0011485b40695e9138e92d0b3fb55128.jpg\", \"0014d7a11e90b62848904c1418fc8cf2.jpg\", \"0017c3c18ddd57a2ea6f9848c79d83d2.jpg\", \"002134abf28af54575c18741b89dd2a4.jpg\", \"0024320f43bdd490562246435af4f90b.jpg\", \"002930423b9840e67e5a54afd4768a1e.jpg\", \"00351838ebf6dff6e53056e00a1e307c.jpg\"  …  \"ffe49c4570c6d3be26d63c8c3aecdc91.jpg\", \"ffe60470e1ee7fed0833148bf83b7d4c.jpg\", \"ffe6c69f8beced1c36f1dd1def313490.jpg\", \"ffeafc3bd716a83bc93014fdb0ef53fa.jpg\", \"ffed5c4d70e58d53fbba6e92570371ef.jpg\", \"ffede47a74e47a5930f81c0b6896479e.jpg\", \"ffef6382a50d23251d4bc05519c91037.jpg\", \"fff059ecc91b30be5745e8b81111dc7b.jpg\", \"fff43acb3b7a23edcc4ae937be2b7522.jpg\", \"fffd9e9b990eba07c836745d8aef1a3a.jpg\"])"
      ]
     },
     "execution_count": 63,
     "metadata": {},
     "output_type": "execute_result"
    }
   ],
   "source": [
    "train_Y, images = extract_Y_from_csv(\"train.csv\")"
   ]
  },
  {
   "cell_type": "code",
   "execution_count": 68,
   "metadata": {},
   "outputs": [],
   "source": [
    "# test_Y, images = extract_Y_from_csv(\"test.csv\")"
   ]
  },
  {
   "cell_type": "code",
   "execution_count": 69,
   "metadata": {},
   "outputs": [
    {
     "data": {
      "text/plain": [
       "Dict{String,Any} with 2 entries:\n",
       "  \"test_X_orig\"  => Float32[0.223529 0.211765 … 0.207843 0.243137; 0.207843 0.2…\n",
       "  \"train_X_orig\" => Float32[0.533333 0.52549 … 0.572549 0.611765; 0.486275 0.63…"
      ]
     },
     "execution_count": 69,
     "metadata": {},
     "output_type": "execute_result"
    }
   ],
   "source": [
    "train_data = load(\"dataset.jld\")"
   ]
  },
  {
   "cell_type": "code",
   "execution_count": 70,
   "metadata": {},
   "outputs": [
    {
     "data": {
      "text/plain": [
       "reshape_image_array_reverse (generic function with 1 method)"
      ]
     },
     "execution_count": 70,
     "metadata": {},
     "output_type": "execute_result"
    }
   ],
   "source": [
    "function reshape_image_array(image_array::Array{Float32,4})\n",
    "    return reshape(image_array, :, size(image_array)[4])\n",
    "end\n",
    "function reshape_image_array_reverse(image_array::Array{Float32,2})\n",
    "    return reshape(image_array, 32, 32, 3, :)\n",
    "end"
   ]
  },
  {
   "cell_type": "code",
   "execution_count": 71,
   "metadata": {},
   "outputs": [
    {
     "data": {
      "text/plain": [
       "1×17500 Array{Int64,2}:\n",
       " 1  1  1  1  1  1  0  0  1  1  1  0  1  …  1  1  1  0  1  1  1  0  1  1  0  1"
      ]
     },
     "execution_count": 71,
     "metadata": {},
     "output_type": "execute_result"
    }
   ],
   "source": [
    "test_X = reshape_image_array(train_data[\"test_X_orig\"])\n",
    "train_X = reshape_image_array(train_data[\"train_X_orig\"])\n",
    "train_Y = reshape(train_Y, (1, size(train_Y)[1]))"
   ]
  },
  {
   "cell_type": "code",
   "execution_count": 72,
   "metadata": {},
   "outputs": [
    {
     "data": {
      "text/plain": [
       "equalize_inputs (generic function with 1 method)"
      ]
     },
     "execution_count": 72,
     "metadata": {},
     "output_type": "execute_result"
    }
   ],
   "source": [
    "function equalize_inputs(train_X::Array{Float32,2}, train_Y::Array{Int,2}, num_classes)\n",
    "    train_X_len = size(train_X)[2]\n",
    "    train_Y_len = size(train_Y)[2]\n",
    "    @assert train_X_len == train_Y_len\n",
    "    len = train_X_len\n",
    "    \n",
    "    class_counter = zeros(Int, num_classes)\n",
    "    for i in 1:len\n",
    "        class_counter[train_Y[1, i]+1] += 1\n",
    "    end\n",
    "    println(\"Total entries for each class: \", class_counter)\n",
    "    max_per_class = minimum(class_counter)\n",
    "    \n",
    "    new_train_X = Array{Float32, 2}(undef, size(train_X)[1], min(train_X_len, max_per_class*num_classes))\n",
    "    new_train_Y = Array{Float32, 2}(undef, size(train_Y)[1], min(train_Y_len, max_per_class*num_classes))\n",
    "    \n",
    "    counters = zeros(Int, num_classes)\n",
    "    iter = 1\n",
    "    new_counter = 1\n",
    "    while (iter < len) && any(counters .< max_per_class) # Exits when all of the counters are more than the max limit\n",
    "#         println(counters, new_counter)\n",
    "        if counters[train_Y[1, iter]+1] < max_per_class\n",
    "            counters[train_Y[1, iter]+1] += 1\n",
    "            new_train_X[:, new_counter] = train_X[:, iter]\n",
    "            new_train_Y[:, new_counter] = train_Y[:, iter]\n",
    "            new_counter += 1\n",
    "        end\n",
    "        iter += 1\n",
    "    end\n",
    "    println(\"Counters: \", counters)\n",
    "    println(\"Total entries added: \", new_counter)\n",
    "    println(\"Total entries checked: \", iter)\n",
    "    return new_train_X, new_train_Y\n",
    "end"
   ]
  },
  {
   "cell_type": "code",
   "execution_count": 73,
   "metadata": {},
   "outputs": [
    {
     "name": "stdout",
     "output_type": "stream",
     "text": [
      "Total entries for each class: [4364, 13136]\n",
      "Counters: [4364, 4364]\n",
      "Total entries added: 8729\n",
      "Total entries checked: 17500\n"
     ]
    },
    {
     "data": {
      "text/plain": [
       "(Float32[0.53333336 0.4627451 … 0.6039216 0.57254905; 0.4862745 0.52156866 … 0.6039216 0.5882353; … ; 0.56078434 0.7058824 … 0.5921569 0.5176471; 0.50980395 0.4745098 … 0.6 0.52156866], Float32[1.0 1.0 … 0.0 0.0])"
      ]
     },
     "execution_count": 73,
     "metadata": {},
     "output_type": "execute_result"
    }
   ],
   "source": [
    "new_train_X, new_train_Y = equalize_inputs(train_X, train_Y, 2)"
   ]
  },
  {
   "cell_type": "code",
   "execution_count": 74,
   "metadata": {},
   "outputs": [
    {
     "data": {
      "text/plain": [
       "predict (generic function with 1 method)"
      ]
     },
     "execution_count": 74,
     "metadata": {},
     "output_type": "execute_result"
    }
   ],
   "source": [
    "include(\"../../NeuralNetwork.jl\")"
   ]
  },
  {
   "cell_type": "code",
   "execution_count": 75,
   "metadata": {},
   "outputs": [
    {
     "name": "stdout",
     "output_type": "stream",
     "text": [
      "(relu, sigmoid)\n",
      "(relu_back, sigmoid_back)\n",
      "\tInitial Mean of parameter W2 is 0.15084434\n",
      "\tInitial Variance of parameter W2 is 0.11559191\n",
      "\tInitial Mean of parameter W1 is 4.167815e-5\n",
      "\tInitial Variance of parameter W1 is 0.00032245368\n",
      "\tInitial Mean of parameter b2 is 0.0\n",
      "\tInitial Variance of parameter b2 is NaN\n",
      "\tInitial Mean of parameter b1 is 0.0\n",
      "\tInitial Variance of parameter b1 is 0.0\n",
      "Cost at iteration 100 is 0.66686565\n"
     ]
    },
    {
     "ename": "InterruptException",
     "evalue": "InterruptException:",
     "output_type": "error",
     "traceback": [
      "InterruptException:",
      "",
      "Stacktrace:",
      " [1] try_yieldto(::typeof(Base.ensure_rescheduled), ::Base.RefValue{Task}) at .\\task.jl:611",
      " [2] wait() at .\\task.jl:668",
      " [3] uv_write(::Base.PipeEndpoint, ::Ptr{UInt8}, ::UInt64) at .\\stream.jl:935",
      " [4] unsafe_write(::Base.PipeEndpoint, ::Ptr{UInt8}, ::UInt64) at .\\stream.jl:1007",
      " [5] unsafe_write at .\\io.jl:593 [inlined]",
      " [6] unsafe_write(::Base.PipeEndpoint, ::Base.RefValue{UInt8}, ::Int64) at .\\io.jl:591",
      " [7] write at .\\io.jl:594 [inlined]",
      " [8] write(::Base.PipeEndpoint, ::UInt8) at .\\stream.jl:1044",
      " [9] print(::IJulia.IJuliaStdio{Base.PipeEndpoint}, ::String, ::Char) at .\\io.jl:309",
      " [10] println(::IJulia.IJuliaStdio{Base.PipeEndpoint}, ::String, ::Vararg{Any,N} where N) at .\\strings\\io.jl:73",
      " [11] println(::String) at .\\coreio.jl:4",
      " [12] neural_network_dense(::Array{Float32,2}, ::Array{Float32,2}, ::Array{Int64,1}, ::Int64, ::Float64, ::Type) at D:\\DEV\\Julia\\Neural-Network-Julia\\NeuralNetwork.jl:151",
      " [13] neural_network_dense(::Array{Float32,2}, ::Array{Float32,2}, ::Array{Int64,1}, ::Int64, ::Float64) at D:\\DEV\\Julia\\Neural-Network-Julia\\NeuralNetwork.jl:113",
      " [14] top-level scope at In[75]:1"
     ]
    }
   ],
   "source": [
    "parameters, activations = neural_network_dense(new_train_X, new_train_Y, [3072, 10, 1], 5000, 0.01)"
   ]
  },
  {
   "cell_type": "code",
   "execution_count": 83,
   "metadata": {},
   "outputs": [
    {
     "name": "stdout",
     "output_type": "stream",
     "text": [
      "Accuracy is 79.84571428571428%\n"
     ]
    },
    {
     "data": {
      "text/plain": [
       "([1.0 1.0 … 0.0 1.0], 0.7984571428571429)"
      ]
     },
     "execution_count": 83,
     "metadata": {},
     "output_type": "execute_result"
    }
   ],
   "source": [
    "predicts, accuracy = predict(train_X, train_Y, parameters, activations)"
   ]
  },
  {
   "cell_type": "code",
   "execution_count": 56,
   "metadata": {},
   "outputs": [
    {
     "ename": "UndefVarError",
     "evalue": "UndefVarError: test_Y not defined",
     "output_type": "error",
     "traceback": [
      "UndefVarError: test_Y not defined",
      "",
      "Stacktrace:",
      " [1] top-level scope at In[56]:1"
     ]
    }
   ],
   "source": [
    "# predicts, accuracy = predict(test_X, test_Y, parameters, activations)"
   ]
  },
  {
   "cell_type": "code",
   "execution_count": 41,
   "metadata": {},
   "outputs": [
    {
     "data": {
      "text/plain": [
       "1×8728 Array{Float32,2}:\n",
       " 1.0  1.0  1.0  1.0  1.0  1.0  0.0  0.0  …  0.0  0.0  0.0  0.0  0.0  0.0  0.0"
      ]
     },
     "execution_count": 41,
     "metadata": {},
     "output_type": "execute_result"
    }
   ],
   "source": [
    "new_train_Y"
   ]
  },
  {
   "cell_type": "code",
   "execution_count": 43,
   "metadata": {},
   "outputs": [
    {
     "name": "stdout",
     "output_type": "stream",
     "text": [
      "Ground truth 0\n",
      "Prediction 0\n",
      "Filename 013f810fb64890372059f24919c97c23.jpg\n"
     ]
    },
    {
     "data": {
      "image/png": "[encoded data removed]",
      "text/plain": [
       "32×32 reshape(reinterpret(RGB{Float32}, ::Array{Float32,3}), 32, 32) with eltype RGB{Float32}:\n",
       " RGB{Float32}(0.74902,0.756863,0.803922)   …  RGB{Float32}(0.686275,0.619608,0.65098) \n",
       " RGB{Float32}(0.647059,0.654902,0.701961)     RGB{Float32}(0.462745,0.396078,0.427451)\n",
       " RGB{Float32}(0.647059,0.654902,0.701961)     RGB{Float32}(0.470588,0.403922,0.435294)\n",
       " RGB{Float32}(0.737255,0.745098,0.792157)     RGB{Float32}(0.47451,0.407843,0.439216) \n",
       " RGB{Float32}(0.737255,0.745098,0.792157)     RGB{Float32}(0.490196,0.423529,0.454902)\n",
       " RGB{Float32}(0.639216,0.647059,0.694118)  …  RGB{Float32}(0.694118,0.627451,0.658824)\n",
       " RGB{Float32}(0.588235,0.596078,0.643137)     RGB{Float32}(0.72549,0.658824,0.690196) \n",
       " RGB{Float32}(0.596078,0.603922,0.65098)      RGB{Float32}(0.560784,0.494118,0.52549) \n",
       " RGB{Float32}(0.643137,0.65098,0.698039)      RGB{Float32}(0.584314,0.517647,0.54902) \n",
       " RGB{Float32}(0.945098,0.952941,1.0)          RGB{Float32}(0.513726,0.447059,0.478431)\n",
       " RGB{Float32}(0.901961,0.909804,0.956863)  …  RGB{Float32}(0.458824,0.392157,0.423529)\n",
       " RGB{Float32}(0.811765,0.819608,0.866667)     RGB{Float32}(0.454902,0.388235,0.419608)\n",
       " RGB{Float32}(0.796078,0.803922,0.85098)      RGB{Float32}(0.411765,0.345098,0.376471)\n",
       " ⋮                                         ⋱                                          \n",
       " RGB{Float32}(0.643137,0.615686,0.647059)  …  RGB{Float32}(0.85098,0.807843,0.870588) \n",
       " RGB{Float32}(0.760784,0.733333,0.764706)     RGB{Float32}(0.878431,0.835294,0.898039)\n",
       " RGB{Float32}(0.819608,0.780392,0.815686)     RGB{Float32}(0.839216,0.796078,0.862745)\n",
       " RGB{Float32}(0.764706,0.72549,0.760784)      RGB{Float32}(0.721569,0.678431,0.745098)\n",
       " RGB{Float32}(0.764706,0.721569,0.752941)     RGB{Float32}(0.819608,0.776471,0.843137)\n",
       " RGB{Float32}(0.831373,0.788235,0.819608)  …  RGB{Float32}(0.996078,0.952941,1.0)     \n",
       " RGB{Float32}(0.752941,0.709804,0.741176)     RGB{Float32}(0.945098,0.898039,0.976471)\n",
       " RGB{Float32}(0.698039,0.654902,0.686275)     RGB{Float32}(0.854902,0.807843,0.886275)\n",
       " RGB{Float32}(0.439216,0.396078,0.419608)     RGB{Float32}(0.870588,0.823529,0.901961)\n",
       " RGB{Float32}(0.458824,0.415686,0.439216)     RGB{Float32}(0.913725,0.866667,0.945098)\n",
       " RGB{Float32}(0.517647,0.466667,0.494118)  …  RGB{Float32}(0.952941,0.905882,0.984314)\n",
       " RGB{Float32}(0.431373,0.380392,0.407843)     RGB{Float32}(0.901961,0.854902,0.933333)"
      ]
     },
     "execution_count": 43,
     "metadata": {},
     "output_type": "execute_result"
    }
   ],
   "source": [
    "image_to_select = rand(1:size(train_X)[2])\n",
    "a = reshape_image_array_reverse(train_X[:, [image_to_select]])\n",
    "a2 = a[:,:,:,1]\n",
    "a3 = permuteddimsview(a2, [3, 1, 2])\n",
    "a3 = Array{Float32}(a3)\n",
    "println(\"Ground truth \", train_Y[1, image_to_select])\n",
    "println(\"Prediction \", Int(predicts[1, image_to_select]))\n",
    "println(\"Filename \", df[image_to_select, 1])\n",
    "colorview(RGB, a3)"
   ]
  },
  {
   "cell_type": "code",
   "execution_count": null,
   "metadata": {},
   "outputs": [],
   "source": []
  }
 ],
 "metadata": {
  "kernelspec": {
   "display_name": "Julia 1.3.0",
   "language": "julia",
   "name": "julia-1.3"
  },
  "language_info": {
   "file_extension": ".jl",
   "mimetype": "application/julia",
   "name": "julia",
   "version": "1.3.0"
  }
 },
 "nbformat": 4,
 "nbformat_minor": 2
}
