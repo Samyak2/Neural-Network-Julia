{
 "cells": [
  {
   "cell_type": "code",
   "execution_count": 75,
   "metadata": {
    "ExecuteTime": {
     "end_time": "2020-05-08T16:36:30.769000+05:30",
     "start_time": "2020-05-08T11:06:30.765Z"
    }
   },
   "outputs": [
    {
     "data": {
      "text/plain": [
       "2×4 Array{Float32,2}:\n",
       " 0.0  0.0  1.0  1.0\n",
       " 0.0  1.0  0.0  1.0"
      ]
     },
     "execution_count": 75,
     "metadata": {},
     "output_type": "execute_result"
    }
   ],
   "source": [
    "# inputs for XOR\n",
    "# each column contains the vector of input (A and B)\n",
    "# 4 columns = 4 inputs\n",
    "X = [0 0 1 1; 0 1 0 1]\n",
    "X = Array{Float32, 2}(X)"
   ]
  },
  {
   "cell_type": "code",
   "execution_count": 76,
   "metadata": {
    "ExecuteTime": {
     "end_time": "2020-05-08T16:36:52.512000+05:30",
     "start_time": "2020-05-08T11:06:52.509Z"
    }
   },
   "outputs": [
    {
     "data": {
      "text/plain": [
       "(2, 4)"
      ]
     },
     "execution_count": 76,
     "metadata": {},
     "output_type": "execute_result"
    }
   ],
   "source": [
    "# shape of X should be (num_features, num_examples)\n",
    "size(X)"
   ]
  },
  {
   "cell_type": "code",
   "execution_count": 77,
   "metadata": {
    "ExecuteTime": {
     "end_time": "2020-05-08T16:37:00.414000+05:30",
     "start_time": "2020-05-08T11:07:00.407Z"
    }
   },
   "outputs": [
    {
     "data": {
      "text/plain": [
       "4-element Array{Int64,1}:\n",
       " 0\n",
       " 1\n",
       " 1\n",
       " 0"
      ]
     },
     "execution_count": 77,
     "metadata": {},
     "output_type": "execute_result"
    }
   ],
   "source": [
    "# corresponding outputs (to each columns)\n",
    "Y = [0, 1, 1, 0]"
   ]
  },
  {
   "cell_type": "code",
   "execution_count": 78,
   "metadata": {
    "ExecuteTime": {
     "end_time": "2020-05-08T16:37:29.360000+05:30",
     "start_time": "2020-05-08T11:07:29.357Z"
    }
   },
   "outputs": [
    {
     "data": {
      "text/plain": [
       "3-element Array{Int64,1}:\n",
       " 2\n",
       " 5\n",
       " 1"
      ]
     },
     "execution_count": 78,
     "metadata": {},
     "output_type": "execute_result"
    }
   ],
   "source": [
    "num_features = 2  # size of each input vector\n",
    "num_hidden_layer_neurons = 5  # Number of neurons in hidden layer\n",
    "layer_dims = [num_features, num_hidden_layer_neurons, 1]"
   ]
  },
  {
   "cell_type": "code",
   "execution_count": 64,
   "metadata": {
    "ExecuteTime": {
     "end_time": "2020-05-08T16:35:34.796000+05:30",
     "start_time": "2020-05-08T11:05:34.732Z"
    }
   },
   "outputs": [
    {
     "name": "stderr",
     "output_type": "stream",
     "text": [
      "WARNING: redefining constant to\n"
     ]
    },
    {
     "data": {
      "text/plain": [
       "predict"
      ]
     },
     "execution_count": 64,
     "metadata": {},
     "output_type": "execute_result"
    }
   ],
   "source": [
    "include(\"../../NeuralNetwork.jl\")"
   ]
  },
  {
   "cell_type": "code",
   "execution_count": 81,
   "metadata": {
    "ExecuteTime": {
     "end_time": "2020-05-08T16:38:16.728000+05:30",
     "start_time": "2020-05-08T11:08:16.363Z"
    }
   },
   "outputs": [
    {
     "name": "stdout",
     "output_type": "stream",
     "text": [
      "Cost at iteration 100 is 0.6736331\n",
      "Cost at iteration 200 is 0.6651842\n",
      "Cost at iteration 300 is 0.65598464\n",
      "Cost at iteration 400 is 0.6455958\n",
      "Cost at iteration 500 is 0.6337347\n",
      "Cost at iteration 600 is 0.6202123\n",
      "Cost at iteration 700 is 0.6048673\n",
      "Cost at iteration 800 is 0.588391\n",
      "Cost at iteration 900 is 0.5728771\n",
      "Cost at iteration 1000 is 0.55614275\n",
      "Cost at iteration 1100 is 0.53806245\n",
      "Cost at iteration 1200 is 0.51899457\n",
      "Cost at iteration 1300 is 0.49866766\n",
      "Cost at iteration 1400 is 0.47745\n",
      "Cost at iteration 1500 is 0.4554162\n",
      "Cost at iteration 1600 is 0.43302107\n",
      "Cost at iteration 1700 is 0.410481\n",
      "Cost at iteration 1800 is 0.3877384\n",
      "Cost at iteration 1900 is 0.3654736\n",
      "Cost at iteration 2000 is 0.34360135\n",
      "Cost at iteration 2100 is 0.32258868\n",
      "Cost at iteration 2200 is 0.30259347\n",
      "Cost at iteration 2300 is 0.2834548\n",
      "Cost at iteration 2400 is 0.26554203\n",
      "Cost at iteration 2500 is 0.24873295\n",
      "Cost at iteration 2600 is 0.23317467\n",
      "Cost at iteration 2700 is 0.21879037\n",
      "Cost at iteration 2800 is 0.2054493\n",
      "Cost at iteration 2900 is 0.19292724\n",
      "Cost at iteration 3000 is 0.18151839\n",
      "Cost at iteration 3100 is 0.17103907\n",
      "Cost at iteration 3200 is 0.16145453\n",
      "Cost at iteration 3300 is 0.15258408\n",
      "Cost at iteration 3400 is 0.1444646\n",
      "Cost at iteration 3500 is 0.13703007\n",
      "Cost at iteration 3600 is 0.13022818\n",
      "Cost at iteration 3700 is 0.123864494\n",
      "Cost at iteration 3800 is 0.11804876\n",
      "Cost at iteration 3900 is 0.1125918\n",
      "Cost at iteration 4000 is 0.107567\n",
      "Cost at iteration 4100 is 0.10290538\n",
      "Cost at iteration 4200 is 0.09860185\n",
      "Cost at iteration 4300 is 0.094499476\n",
      "Cost at iteration 4400 is 0.09075909\n",
      "Cost at iteration 4500 is 0.087216556\n",
      "Cost at iteration 4600 is 0.0839225\n",
      "Cost at iteration 4700 is 0.08083469\n",
      "Cost at iteration 4800 is 0.07792856\n",
      "Cost at iteration 4900 is 0.07521057\n",
      "Cost at iteration 5000 is 0.07265113\n",
      "Cost at iteration 5100 is 0.07024268\n",
      "Cost at iteration 5200 is 0.06796891\n",
      "Cost at iteration 5300 is 0.06580889\n",
      "Cost at iteration 5400 is 0.0637713\n",
      "Cost at iteration 5500 is 0.061826013\n",
      "Cost at iteration 5600 is 0.060007516\n",
      "Cost at iteration 5700 is 0.058265127\n",
      "Cost at iteration 5800 is 0.056626517\n",
      "Cost at iteration 5900 is 0.055053525\n",
      "Cost at iteration 6000 is 0.05357882\n",
      "Cost at iteration 6100 is 0.052161977\n",
      "Cost at iteration 6200 is 0.050796177\n",
      "Cost at iteration 6300 is 0.04950752\n",
      "Cost at iteration 6400 is 0.048270613\n",
      "Cost at iteration 6500 is 0.04710525\n",
      "Cost at iteration 6600 is 0.045965284\n",
      "Cost at iteration 6700 is 0.044892754\n",
      "Cost at iteration 6800 is 0.043847926\n",
      "Cost at iteration 6900 is 0.04285907\n",
      "Cost at iteration 7000 is 0.041905083\n",
      "Cost at iteration 7100 is 0.040989608\n",
      "Cost at iteration 7200 is 0.040111154\n",
      "Cost at iteration 7300 is 0.039268557\n",
      "Cost at iteration 7400 is 0.03845441\n",
      "Cost at iteration 7500 is 0.03768229\n",
      "Cost at iteration 7600 is 0.036918346\n",
      "Cost at iteration 7700 is 0.036199044\n",
      "Cost at iteration 7800 is 0.03549121\n",
      "Cost at iteration 7900 is 0.034817588\n",
      "Cost at iteration 8000 is 0.034165286\n",
      "Cost at iteration 8100 is 0.03352895\n",
      "Cost at iteration 8200 is 0.03291702\n",
      "Cost at iteration 8300 is 0.03233803\n",
      "Cost at iteration 8400 is 0.031759404\n",
      "Cost at iteration 8500 is 0.031214574\n",
      "Cost at iteration 8600 is 0.03067733\n",
      "Cost at iteration 8700 is 0.030159488\n",
      "Cost at iteration 8800 is 0.02965559\n",
      "Cost at iteration 8900 is 0.029164683\n",
      "Cost at iteration 9000 is 0.028692104\n",
      "Cost at iteration 9100 is 0.028240621\n",
      "Cost at iteration 9200 is 0.027788771\n",
      "Cost at iteration 9300 is 0.027362688\n",
      "Cost at iteration 9400 is 0.02694579\n",
      "Cost at iteration 9500 is 0.026529476\n",
      "Cost at iteration 9600 is 0.026134526\n",
      "Cost at iteration 9700 is 0.025749953\n",
      "Cost at iteration 9800 is 0.02537489\n",
      "Cost at iteration 9900 is 0.025017127\n",
      "Cost at iteration 10000 is 0.02465945\n"
     ]
    }
   ],
   "source": [
    "# train the NN to get trained parameters (and activations, which is used for predicting)\n",
    "params, acts = neural_network_dense(X, Y, layer_dims, 10000, 0.01)\n",
    "print()"
   ]
  },
  {
   "cell_type": "code",
   "execution_count": 83,
   "metadata": {
    "ExecuteTime": {
     "end_time": "2020-05-08T16:38:36.993000+05:30",
     "start_time": "2020-05-08T11:08:36.982Z"
    }
   },
   "outputs": [
    {
     "name": "stdout",
     "output_type": "stream",
     "text": [
      "Accuracy is 100.0%\n"
     ]
    },
    {
     "data": {
      "text/plain": [
       "([0.0 1.0 1.0 0.0], 1.0)"
      ]
     },
     "execution_count": 83,
     "metadata": {},
     "output_type": "execute_result"
    }
   ],
   "source": [
    "# predict and find accuracy\n",
    "predicts, acc = predict(X, Y, params, acts)"
   ]
  },
  {
   "cell_type": "code",
   "execution_count": 84,
   "metadata": {
    "ExecuteTime": {
     "end_time": "2020-05-08T16:38:49.294000+05:30",
     "start_time": "2020-05-08T11:08:49.283Z"
    }
   },
   "outputs": [
    {
     "name": "stdout",
     "output_type": "stream",
     "text": [
      "XOR of 0 and 1 is 1\n"
     ]
    }
   ],
   "source": [
    "# give example inputs here\n",
    "A = 0\n",
    "B = 1\n",
    "\n",
    "input = reshape(Array{Float32}([A; B]), 2, :)\n",
    "predicts, acc = predict(input, nothing, params, acts)\n",
    "result = Int(predicts[1])\n",
    "println(\"XOR of $A and $B is $result\")"
   ]
  },
  {
   "cell_type": "code",
   "execution_count": null,
   "metadata": {},
   "outputs": [],
   "source": []
  }
 ],
 "metadata": {
  "kernelspec": {
   "display_name": "Julia 1.3.0",
   "language": "julia",
   "name": "julia-1.3"
  },
  "language_info": {
   "file_extension": ".jl",
   "mimetype": "application/julia",
   "name": "julia",
   "version": "1.3.0"
  },
  "toc": {
   "base_numbering": 1,
   "nav_menu": {},
   "number_sections": true,
   "sideBar": true,
   "skip_h1_title": false,
   "title_cell": "Table of Contents",
   "title_sidebar": "Contents",
   "toc_cell": false,
   "toc_position": {},
   "toc_section_display": true,
   "toc_window_display": false
  },
  "varInspector": {
   "cols": {
    "lenName": 16,
    "lenType": 16,
    "lenVar": 40
   },
   "kernels_config": {
    "python": {
     "delete_cmd_postfix": "",
     "delete_cmd_prefix": "del ",
     "library": "var_list.py",
     "varRefreshCmd": "print(var_dic_list())"
    },
    "r": {
     "delete_cmd_postfix": ") ",
     "delete_cmd_prefix": "rm(",
     "library": "var_list.r",
     "varRefreshCmd": "cat(var_dic_list()) "
    }
   },
   "types_to_exclude": [
    "module",
    "function",
    "builtin_function_or_method",
    "instance",
    "_Feature"
   ],
   "window_display": false
  }
 },
 "nbformat": 4,
 "nbformat_minor": 4
}
